{
  "nbformat": 4,
  "nbformat_minor": 0,
  "metadata": {
    "colab": {
      "provenance": [],
      "authorship_tag": "ABX9TyMdm+STbuANs6NJo174+nxl",
      "include_colab_link": true
    },
    "kernelspec": {
      "name": "python3",
      "display_name": "Python 3"
    },
    "language_info": {
      "name": "python"
    }
  },
  "cells": [
    {
      "cell_type": "markdown",
      "metadata": {
        "id": "view-in-github",
        "colab_type": "text"
      },
      "source": [
        "<a href=\"https://colab.research.google.com/github/itsmesoumik23/FaceForensics/blob/main/Features_classifier_HOG.ipynb\" target=\"_parent\"><img src=\"https://colab.research.google.com/assets/colab-badge.svg\" alt=\"Open In Colab\"/></a>"
      ]
    },
    {
      "cell_type": "markdown",
      "source": [
        "# Data Preprocessing"
      ],
      "metadata": {
        "id": "4BylUgsMuSMj"
      }
    },
    {
      "cell_type": "markdown",
      "source": [
        "Import Libraries\n"
      ],
      "metadata": {
        "id": "L2pEpzYlhhI4"
      }
    },
    {
      "cell_type": "code",
      "execution_count": 9,
      "metadata": {
        "id": "qUmZIRo6TS9g"
      },
      "outputs": [],
      "source": [
        "from sklearn import svm, datasets\n",
        "import sklearn.model_selection as model_selection\n",
        "from sklearn.model_selection import KFold\n",
        "from sklearn.metrics import accuracy_score\n",
        "from sklearn.metrics import f1_score\n",
        "from sklearn.metrics import confusion_matrix\n",
        "import numpy as np\n",
        "import pandas as pd"
      ]
    },
    {
      "cell_type": "markdown",
      "source": [
        "Load the Dataset"
      ],
      "metadata": {
        "id": "91l7iT8XiEqK"
      }
    },
    {
      "cell_type": "code",
      "source": [
        "dataset = pd.read_csv('./Features.csv')\n",
        "X = dataset.iloc[ : , 2 : ].values\n",
        "y = dataset.iloc[ : , 0 ].values\n",
        "print(X)\n",
        "print(y)"
      ],
      "metadata": {
        "colab": {
          "base_uri": "https://localhost:8080/"
        },
        "id": "eoE1NPgQhmCp",
        "outputId": "0960eae3-91ea-4b80-faf9-b825fb86945d"
      },
      "execution_count": 10,
      "outputs": [
        {
          "output_type": "stream",
          "name": "stdout",
          "text": [
            "[[0.13151719 0.07062256 0.09944781 ... 0.00222549 0.00553888 0.01158777]\n",
            " [0.13184087 0.07120779 0.09940246 ... 0.00186195 0.00496811 0.01130171]\n",
            " [0.13314608 0.07112867 0.09793073 ... 0.00228579 0.0057272  0.01090482]\n",
            " ...\n",
            " [0.10796575 0.08958595 0.09295841 ... 0.07102732 0.06181851 0.17945974]\n",
            " [0.10696629 0.08877103 0.09296877 ... 0.07393706 0.06056442 0.18213604]\n",
            " [0.11520288 0.08459474 0.09039539 ... 0.070232   0.07304857 0.17970096]]\n",
            "['Deepfakes' 'Deepfakes' 'Deepfakes' ... 'NeuralTextures' 'NeuralTextures'\n",
            " 'NeuralTextures']\n"
          ]
        }
      ]
    },
    {
      "cell_type": "markdown",
      "source": [
        "Split the dataset into training set and test set."
      ],
      "metadata": {
        "id": "w31ArOsShIzh"
      }
    },
    {
      "cell_type": "code",
      "source": [
        "X_train, X_test, y_train, y_test = model_selection.train_test_split(X, y, train_size=0.80, test_size=0.20, random_state=101)"
      ],
      "metadata": {
        "id": "LvOL2n5RiG-I"
      },
      "execution_count": 11,
      "outputs": []
    },
    {
      "cell_type": "markdown",
      "source": [
        "Initialise the 5-Fold Cross Validation"
      ],
      "metadata": {
        "id": "BGJIU29O5xmy"
      }
    },
    {
      "cell_type": "code",
      "source": [
        "kf = KFold(n_splits=5, shuffle=True, random_state=42)"
      ],
      "metadata": {
        "id": "k4Ia8Mlw5u-U"
      },
      "execution_count": 28,
      "outputs": []
    },
    {
      "cell_type": "markdown",
      "source": [
        "# Support Vector Machine"
      ],
      "metadata": {
        "id": "f6j7OOXnuARw"
      }
    },
    {
      "cell_type": "markdown",
      "source": [
        "Predict on Test Set."
      ],
      "metadata": {
        "id": "1TxTYVEYjaOm"
      }
    },
    {
      "cell_type": "code",
      "source": [
        "poly_accuracy, rbf_accuracy = 0, 0\n",
        "\n",
        "for train_index, test_index in kf.split(X):\n",
        "    \n",
        "    X_train, X_test = X[train_index], X[test_index]\n",
        "    y_train, y_test = y[train_index], y[test_index]\n",
        "\n",
        "    poly = svm.SVC(kernel='poly', degree=8, C=1).fit(X_train, y_train)\n",
        "    rbf = svm.SVC(kernel='rbf', gamma=1, C=1).fit(X_train, y_train)\n",
        "    \n",
        "    poly_pred = poly.predict(X_test)\n",
        "    rbf_pred = rbf.predict(X_test)\n",
        "    \n",
        "    poly_accuracy += accuracy_score(y_test, poly_pred)\n",
        "    rbf_accuracy += accuracy_score(y_test, rbf_pred)\n"
      ],
      "metadata": {
        "id": "_wK3I_rSjhYT"
      },
      "execution_count": 50,
      "outputs": []
    },
    {
      "cell_type": "markdown",
      "source": [
        "Outcomes."
      ],
      "metadata": {
        "id": "rzXS3KwJjwIv"
      }
    },
    {
      "cell_type": "code",
      "source": [
        "print('Accuracy (Polynomial Kernel): ', \"%.2f\" % (poly_accuracy/5*100) + \" %\")\n",
        "print('Accuracy (RBF Kernel): ', \"%.2f\" % (rbf_accuracy/5*100) + \" %\")\n",
        "\n",
        "poly_f1 = f1_score(y_test, poly_pred, average='weighted')\n",
        "print('F1 score (Polynomial Kernel): ', \"%.2f\" % (poly_f1*100))\n",
        "rbf_f1 = f1_score(y_test, rbf_pred, average='weighted')\n",
        "print('F1 score (RBF Kernel): ', \"%.2f\" % (rbf_f1*100))\n",
        "\n",
        "print('Confusion Matrix (Polynomial Kernel): \\n', confusion_matrix(y_test, poly_pred))\n",
        "print('Confusion Matrix (RBF Kernel): \\n',confusion_matrix(y_test, rbf_pred))"
      ],
      "metadata": {
        "colab": {
          "base_uri": "https://localhost:8080/"
        },
        "id": "wnTZnTApj0FW",
        "outputId": "12c5f2e5-9962-4edc-94fd-0c501aaf5b46"
      },
      "execution_count": 40,
      "outputs": [
        {
          "output_type": "stream",
          "name": "stdout",
          "text": [
            "Accuracy (Polynomial Kernel):  98.56 %\n",
            "Accuracy (RBF Kernel):  73.80 %\n",
            "F1 score (Polynomial Kernel):  97.18\n",
            "F1 score (RBF Kernel):  74.01\n",
            "Confusion Matrix (Polynomial Kernel): \n",
            " [[69  0  2  0]\n",
            " [ 0 73  1  3]\n",
            " [ 1  0 78  0]\n",
            " [ 0  2  0 90]]\n",
            "Confusion Matrix (RBF Kernel): \n",
            " [[57  3 11  0]\n",
            " [ 2 57  6 12]\n",
            " [12  3 62  2]\n",
            " [ 1 26  5 60]]\n"
          ]
        }
      ]
    },
    {
      "cell_type": "markdown",
      "source": [
        "# Random Forest"
      ],
      "metadata": {
        "id": "KsshkBd9uLqq"
      }
    },
    {
      "cell_type": "markdown",
      "source": [
        "Importing Libraries"
      ],
      "metadata": {
        "id": "JCDYD_Hmxe12"
      }
    },
    {
      "cell_type": "code",
      "source": [
        "from sklearn.preprocessing import StandardScaler\n",
        "from sklearn.ensemble import RandomForestClassifier"
      ],
      "metadata": {
        "id": "AjXH9ejvuOOf"
      },
      "execution_count": 42,
      "outputs": []
    },
    {
      "cell_type": "markdown",
      "source": [
        "Define the Classifier"
      ],
      "metadata": {
        "id": "N-vmH0Srxpj6"
      }
    },
    {
      "cell_type": "code",
      "source": [
        "classifier = RandomForestClassifier(n_estimators = 1000, criterion = 'entropy', random_state = 42)"
      ],
      "metadata": {
        "id": "yWcUPtVAxibU"
      },
      "execution_count": 43,
      "outputs": []
    },
    {
      "cell_type": "markdown",
      "source": [
        "Predicting Test Set Results"
      ],
      "metadata": {
        "id": "_POan3ZCx16f"
      }
    },
    {
      "cell_type": "code",
      "source": [
        "rf_accuracy = 0\n",
        "\n",
        "for train_index, test_index in kf.split(X):\n",
        "    \n",
        "    X_train, X_test = X[train_index], X[test_index]\n",
        "    y_train, y_test = y[train_index], y[test_index]\n",
        "\n",
        "    classifier.fit(X_train, y_train)\n",
        "    \n",
        "    y_pred = classifier.predict(X_test)\n",
        "    \n",
        "    rf_accuracy += accuracy_score(y_test, y_pred)\n",
        "    "
      ],
      "metadata": {
        "id": "6Vfd8moExs3O"
      },
      "execution_count": 44,
      "outputs": []
    },
    {
      "cell_type": "markdown",
      "source": [
        "Outcomes"
      ],
      "metadata": {
        "id": "JHB5IQutyDqV"
      }
    },
    {
      "cell_type": "code",
      "source": [
        "rf_f1 = f1_score(y_test, y_pred, average='weighted')\n",
        "print('Accuracy (Random Forest): ', \"%.2f\" % (rf_accuracy/5*100) + \" %\")\n",
        "print('F1 (Random Forest): ', \"%.2f\" % (rf_f1*100))\n",
        "print(\"Confustion Matrix (Random Forest):\\n\", confusion_matrix(y_test, y_pred))"
      ],
      "metadata": {
        "colab": {
          "base_uri": "https://localhost:8080/"
        },
        "id": "HQjjjiGcyCzk",
        "outputId": "8b86e777-7bec-4345-ab08-1f91930c7467"
      },
      "execution_count": 45,
      "outputs": [
        {
          "output_type": "stream",
          "name": "stdout",
          "text": [
            "Accuracy (Random Forest):  95.56 %\n",
            "F1 (Random Forest):  93.75\n",
            "Confustion Matrix (Random Forest):\n",
            " [[69  0  2  0]\n",
            " [ 0 69  4  4]\n",
            " [ 0  2 75  2]\n",
            " [ 0  3  3 86]]\n"
          ]
        }
      ]
    },
    {
      "cell_type": "markdown",
      "source": [],
      "metadata": {
        "id": "yPJ-ST361cvQ"
      }
    },
    {
      "cell_type": "markdown",
      "source": [
        "# MultiClass Logistic Regression"
      ],
      "metadata": {
        "id": "e_7HkvXy4Uvd"
      }
    },
    {
      "cell_type": "markdown",
      "source": [
        "Import Libraries"
      ],
      "metadata": {
        "id": "UCA6d_MO4bkB"
      }
    },
    {
      "cell_type": "code",
      "source": [
        "from sklearn.linear_model import LogisticRegression"
      ],
      "metadata": {
        "id": "FIBCDHG54Zld"
      },
      "execution_count": 46,
      "outputs": []
    },
    {
      "cell_type": "markdown",
      "source": [
        "Define Classifier."
      ],
      "metadata": {
        "id": "wUlINgaj4kjv"
      }
    },
    {
      "cell_type": "code",
      "source": [
        "classifier = LogisticRegression(multi_class='auto', solver='sag')"
      ],
      "metadata": {
        "id": "8_WxvViT4jia"
      },
      "execution_count": 47,
      "outputs": []
    },
    {
      "cell_type": "markdown",
      "source": [
        "\n",
        "Predicting Test Set Results."
      ],
      "metadata": {
        "id": "VYF55C1M4yrz"
      }
    },
    {
      "cell_type": "code",
      "source": [
        "lr_accuracy = 0\n",
        "\n",
        "for train_index, test_index in kf.split(X):\n",
        "    \n",
        "    X_train, X_test = X[train_index], X[test_index]\n",
        "    y_train, y_test = y[train_index], y[test_index]\n",
        "\n",
        "    classifier.fit(X_train, y_train)\n",
        "    \n",
        "    y_pred = classifier.predict(X_test)\n",
        "    \n",
        "    lr_accuracy += accuracy_score(y_test, y_pred)\n"
      ],
      "metadata": {
        "id": "sTpD5Y-54sam",
        "colab": {
          "base_uri": "https://localhost:8080/"
        },
        "outputId": "2097318e-fe42-455e-fd20-837fcb0aa394"
      },
      "execution_count": 48,
      "outputs": [
        {
          "output_type": "stream",
          "name": "stderr",
          "text": [
            "/usr/local/lib/python3.8/dist-packages/sklearn/linear_model/_sag.py:352: ConvergenceWarning: The max_iter was reached which means the coef_ did not converge\n",
            "  warnings.warn(\n",
            "/usr/local/lib/python3.8/dist-packages/sklearn/linear_model/_sag.py:352: ConvergenceWarning: The max_iter was reached which means the coef_ did not converge\n",
            "  warnings.warn(\n",
            "/usr/local/lib/python3.8/dist-packages/sklearn/linear_model/_sag.py:352: ConvergenceWarning: The max_iter was reached which means the coef_ did not converge\n",
            "  warnings.warn(\n",
            "/usr/local/lib/python3.8/dist-packages/sklearn/linear_model/_sag.py:352: ConvergenceWarning: The max_iter was reached which means the coef_ did not converge\n",
            "  warnings.warn(\n",
            "/usr/local/lib/python3.8/dist-packages/sklearn/linear_model/_sag.py:352: ConvergenceWarning: The max_iter was reached which means the coef_ did not converge\n",
            "  warnings.warn(\n"
          ]
        }
      ]
    },
    {
      "cell_type": "markdown",
      "source": [
        "Outcomes"
      ],
      "metadata": {
        "id": "MRQ-XRm05Hgy"
      }
    },
    {
      "cell_type": "code",
      "source": [
        "lr_f1 = f1_score(y_test, y_pred, average='weighted')\n",
        "print('Accuracy (Logistic Regression): ', \"%.2f\" % (lr_accuracy/5*100) + \" %\")\n",
        "print('F1 (Logistic Regression): ', \"%.2f\" % (lr_f1*100))\n",
        "print(\"Confusion Matrix (Logistic Regression):\\n\", confusion_matrix(y_test, y_pred))"
      ],
      "metadata": {
        "colab": {
          "base_uri": "https://localhost:8080/"
        },
        "id": "KND_p0Vt45nM",
        "outputId": "53e8f108-5f56-4c95-a546-77a1775d8ac5"
      },
      "execution_count": 49,
      "outputs": [
        {
          "output_type": "stream",
          "name": "stdout",
          "text": [
            "Accuracy (Logistic Regression):  68.48 %\n",
            "F1 (Logistic Regression):  69.26\n",
            "Confusion Matrix (Logistic Regression):\n",
            " [[55  7  8  1]\n",
            " [ 4 50  8 15]\n",
            " [12  3 56  8]\n",
            " [ 2 19 11 60]]\n"
          ]
        }
      ]
    }
  ]
}