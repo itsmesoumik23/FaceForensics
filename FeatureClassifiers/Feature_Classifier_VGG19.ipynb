{
  "nbformat": 4,
  "nbformat_minor": 0,
  "metadata": {
    "colab": {
      "provenance": []
    },
    "kernelspec": {
      "name": "python3",
      "display_name": "Python 3"
    },
    "language_info": {
      "name": "python"
    }
  },
  "cells": [
    {
      "cell_type": "markdown",
      "source": [
        "# Data Preprocessing"
      ],
      "metadata": {
        "id": "4BylUgsMuSMj"
      }
    },
    {
      "cell_type": "markdown",
      "source": [
        "Import Libraries\n"
      ],
      "metadata": {
        "id": "L2pEpzYlhhI4"
      }
    },
    {
      "cell_type": "code",
      "execution_count": 1,
      "metadata": {
        "id": "qUmZIRo6TS9g"
      },
      "outputs": [],
      "source": [
        "from sklearn import svm, datasets\n",
        "import sklearn.model_selection as model_selection\n",
        "from sklearn.model_selection import KFold\n",
        "from sklearn.metrics import accuracy_score\n",
        "from sklearn.metrics import f1_score\n",
        "from sklearn.metrics import confusion_matrix\n",
        "from google.colab import files\n",
        "import matplotlib.pyplot as plt\n",
        "import numpy as np\n",
        "import pandas as pd\n",
        "import imageio"
      ]
    },
    {
      "cell_type": "markdown",
      "source": [
        "Function to Visualise Confusion Matrix"
      ],
      "metadata": {
        "id": "55qfRdqKGha8"
      }
    },
    {
      "cell_type": "code",
      "source": [
        "def visualiseConfusionMatrix(cnf_mat, header):\n",
        "    import matplotlib.pyplot as plt\n",
        "    import seaborn as sns\n",
        "\n",
        "    class_labels = ['DF', 'F2F', 'FS', 'NT']\n",
        "    sns.heatmap(cnf_mat, annot=True, cmap='Greens', fmt='d', annot_kws={\"size\": 20, \"weight\": \"bold\"}, xticklabels=class_labels, yticklabels=class_labels, linewidths=.05, linecolor=\"black\")\n",
        "    plt.xticks(fontweight=\"bold\")\n",
        "    plt.yticks(fontweight=\"bold\")\n",
        "\n",
        "    for i in range(4):\n",
        "        for j in range(4):\n",
        "            plt.gca().add_patch(plt.Rectangle((j, i), 1, 1, fill=False, edgecolor=\"black\"))\n",
        "\n",
        "    plt.title(header)\n",
        "    name = 'VGG19_' + header + '.png'\n",
        "    plt.savefig(name)\n",
        "    files.download(name)\n",
        "\n",
        "    plt.show()"
      ],
      "metadata": {
        "id": "8r39ChqDGgRG"
      },
      "execution_count": 2,
      "outputs": []
    },
    {
      "cell_type": "markdown",
      "source": [
        "Load the Dataset"
      ],
      "metadata": {
        "id": "91l7iT8XiEqK"
      }
    },
    {
      "cell_type": "code",
      "source": [
        "dataset = pd.read_csv('/content/drive/MyDrive/Project/CSVs/features_vgg_19.csv')\n",
        "X = dataset.iloc[ : , 2 : ].values\n",
        "y = dataset.iloc[ : , 0 ].values\n",
        "print(X)\n",
        "print(y)"
      ],
      "metadata": {
        "colab": {
          "base_uri": "https://localhost:8080/"
        },
        "id": "eoE1NPgQhmCp",
        "outputId": "21fd8e64-3d79-4f23-bf07-6125c5a7e6d2"
      },
      "execution_count": 3,
      "outputs": [
        {
          "output_type": "stream",
          "name": "stdout",
          "text": [
            "[[-5.11979250e+02 -1.44293640e+02  1.65813310e+01 ...  9.60431100e-02\n",
            "   7.90819760e-01 -2.56042120e-01]\n",
            " [-5.11612400e+02 -1.44567640e+02  1.37931020e+01 ...  2.02273850e-01\n",
            "   6.22268020e-02  2.07084940e-01]\n",
            " [-8.64845350e+01 -7.23580250e+01 -2.85846250e+02 ... -2.26418850e-01\n",
            "   2.10443820e-01 -2.70626070e-01]\n",
            " ...\n",
            " [ 3.23090400e+02 -2.75059480e+02  2.45257460e+02 ... -4.04485230e-01\n",
            "  -8.86172100e-03 -1.16170526e-01]\n",
            " [ 3.10678700e+02 -2.75875270e+02  2.58262850e+02 ... -4.43521320e-01\n",
            "   1.35212540e-02  5.35857560e-01]\n",
            " [ 3.11118130e+02 -2.78083280e+02  2.57296780e+02 ...  4.72801450e-01\n",
            "   9.26933900e-02 -5.24574040e-01]]\n",
            "['NeuralTextures' 'NeuralTextures' 'NeuralTextures' ... 'Deepfakes'\n",
            " 'Deepfakes' 'Deepfakes']\n"
          ]
        }
      ]
    },
    {
      "cell_type": "markdown",
      "source": [
        "Split the dataset into training set and test set."
      ],
      "metadata": {
        "id": "w31ArOsShIzh"
      }
    },
    {
      "cell_type": "code",
      "source": [
        "X_train, X_test, y_train, y_test = model_selection.train_test_split(X, y, train_size=0.80, test_size=0.20, random_state=101)"
      ],
      "metadata": {
        "id": "LvOL2n5RiG-I"
      },
      "execution_count": 4,
      "outputs": []
    },
    {
      "cell_type": "markdown",
      "source": [
        "Initialise the 5-Fold Cross Validation"
      ],
      "metadata": {
        "id": "BGJIU29O5xmy"
      }
    },
    {
      "cell_type": "code",
      "source": [
        "kf = KFold(n_splits=5, shuffle=True, random_state=42)"
      ],
      "metadata": {
        "id": "k4Ia8Mlw5u-U"
      },
      "execution_count": 5,
      "outputs": []
    },
    {
      "cell_type": "markdown",
      "source": [
        "# Support Vector Machine"
      ],
      "metadata": {
        "id": "f6j7OOXnuARw"
      }
    },
    {
      "cell_type": "markdown",
      "source": [
        "Predict on Test Set."
      ],
      "metadata": {
        "id": "1TxTYVEYjaOm"
      }
    },
    {
      "cell_type": "code",
      "source": [
        "poly_accuracy, rbf_accuracy = 0, 0\n",
        "\n",
        "for train_index, test_index in kf.split(X):\n",
        "    \n",
        "    X_train, X_test = X[train_index], X[test_index]\n",
        "    y_train, y_test = y[train_index], y[test_index]\n",
        "\n",
        "    poly = svm.SVC(kernel='poly', degree=8, C=1).fit(X_train, y_train)\n",
        "    rbf = svm.SVC(kernel='rbf', gamma=1, C=1).fit(X_train, y_train)\n",
        "    \n",
        "    poly_pred = poly.predict(X_test)\n",
        "    rbf_pred = rbf.predict(X_test)\n",
        "    \n",
        "    poly_accuracy += accuracy_score(y_test, poly_pred)\n",
        "    rbf_accuracy += accuracy_score(y_test, rbf_pred)\n"
      ],
      "metadata": {
        "id": "_wK3I_rSjhYT"
      },
      "execution_count": 6,
      "outputs": []
    },
    {
      "cell_type": "markdown",
      "source": [
        "Outcomes."
      ],
      "metadata": {
        "id": "rzXS3KwJjwIv"
      }
    },
    {
      "cell_type": "code",
      "source": [
        "print('Accuracy (Polynomial Kernel): ', \"%.2f\" % (poly_accuracy/5*100) + \" %\")\n",
        "print('Accuracy (RBF Kernel): ', \"%.2f\" % (rbf_accuracy/5*100) + \" %\")\n",
        "\n",
        "poly_f1 = f1_score(y_test, poly_pred, average='weighted')\n",
        "print('F1 score (Polynomial Kernel): ', \"%.2f\" % (poly_f1*100))\n",
        "rbf_f1 = f1_score(y_test, rbf_pred, average='weighted')\n",
        "print('F1 score (RBF Kernel): ', \"%.2f\" % (rbf_f1*100))\n",
        "\n",
        "print('Confusion Matrix (Polynomial Kernel): \\n', confusion_matrix(y_test, poly_pred))\n",
        "print('Confusion Matrix (RBF Kernel): \\n',confusion_matrix(y_test, rbf_pred))\n",
        "visualiseConfusionMatrix(confusion_matrix(y_test, poly_pred), 'Polynomial Kernel')\n",
        "print()\n",
        "visualiseConfusionMatrix(confusion_matrix(y_test, rbf_pred), 'RBF Kernel')\n"
      ],
      "metadata": {
        "colab": {
          "base_uri": "https://localhost:8080/",
          "height": 0
        },
        "id": "wnTZnTApj0FW",
        "outputId": "62bdadc9-06a7-4ca6-909c-f63f84a8a179"
      },
      "execution_count": 7,
      "outputs": [
        {
          "output_type": "stream",
          "name": "stdout",
          "text": [
            "Accuracy (Polynomial Kernel):  59.37 %\n",
            "Accuracy (RBF Kernel):  21.88 %\n",
            "F1 score (Polynomial Kernel):  59.79\n",
            "F1 score (RBF Kernel):  8.06\n",
            "Confusion Matrix (Polynomial Kernel): \n",
            " [[53  1 37  2]\n",
            " [ 0 26 30 23]\n",
            " [ 0  0 77  0]\n",
            " [ 0  6 28 37]]\n",
            "Confusion Matrix (RBF Kernel): \n",
            " [[ 0  0  0 93]\n",
            " [ 0  0  0 79]\n",
            " [ 0  0  0 77]\n",
            " [ 0  0  0 71]]\n"
          ]
        },
        {
          "output_type": "display_data",
          "data": {
            "text/plain": [
              "<IPython.core.display.Javascript object>"
            ],
            "application/javascript": [
              "\n",
              "    async function download(id, filename, size) {\n",
              "      if (!google.colab.kernel.accessAllowed) {\n",
              "        return;\n",
              "      }\n",
              "      const div = document.createElement('div');\n",
              "      const label = document.createElement('label');\n",
              "      label.textContent = `Downloading \"${filename}\": `;\n",
              "      div.appendChild(label);\n",
              "      const progress = document.createElement('progress');\n",
              "      progress.max = size;\n",
              "      div.appendChild(progress);\n",
              "      document.body.appendChild(div);\n",
              "\n",
              "      const buffers = [];\n",
              "      let downloaded = 0;\n",
              "\n",
              "      const channel = await google.colab.kernel.comms.open(id);\n",
              "      // Send a message to notify the kernel that we're ready.\n",
              "      channel.send({})\n",
              "\n",
              "      for await (const message of channel.messages) {\n",
              "        // Send a message to notify the kernel that we're ready.\n",
              "        channel.send({})\n",
              "        if (message.buffers) {\n",
              "          for (const buffer of message.buffers) {\n",
              "            buffers.push(buffer);\n",
              "            downloaded += buffer.byteLength;\n",
              "            progress.value = downloaded;\n",
              "          }\n",
              "        }\n",
              "      }\n",
              "      const blob = new Blob(buffers, {type: 'application/binary'});\n",
              "      const a = document.createElement('a');\n",
              "      a.href = window.URL.createObjectURL(blob);\n",
              "      a.download = filename;\n",
              "      div.appendChild(a);\n",
              "      a.click();\n",
              "      div.remove();\n",
              "    }\n",
              "  "
            ]
          },
          "metadata": {}
        },
        {
          "output_type": "display_data",
          "data": {
            "text/plain": [
              "<IPython.core.display.Javascript object>"
            ],
            "application/javascript": [
              "download(\"download_0cdb2b81-5d80-4b88-b5d1-dfdaadf9f6c1\", \"VGG19_Polynomial Kernel.png\", 17246)"
            ]
          },
          "metadata": {}
        },
        {
          "output_type": "display_data",
          "data": {
            "text/plain": [
              "<Figure size 432x288 with 2 Axes>"
            ],
            "image/png": "[encoded data removed]"
          },
          "metadata": {
            "needs_background": "light"
          }
        },
        {
          "output_type": "stream",
          "name": "stdout",
          "text": [
            "\n"
          ]
        },
        {
          "output_type": "display_data",
          "data": {
            "text/plain": [
              "<IPython.core.display.Javascript object>"
            ],
            "application/javascript": [
              "\n",
              "    async function download(id, filename, size) {\n",
              "      if (!google.colab.kernel.accessAllowed) {\n",
              "        return;\n",
              "      }\n",
              "      const div = document.createElement('div');\n",
              "      const label = document.createElement('label');\n",
              "      label.textContent = `Downloading \"${filename}\": `;\n",
              "      div.appendChild(label);\n",
              "      const progress = document.createElement('progress');\n",
              "      progress.max = size;\n",
              "      div.appendChild(progress);\n",
              "      document.body.appendChild(div);\n",
              "\n",
              "      const buffers = [];\n",
              "      let downloaded = 0;\n",
              "\n",
              "      const channel = await google.colab.kernel.comms.open(id);\n",
              "      // Send a message to notify the kernel that we're ready.\n",
              "      channel.send({})\n",
              "\n",
              "      for await (const message of channel.messages) {\n",
              "        // Send a message to notify the kernel that we're ready.\n",
              "        channel.send({})\n",
              "        if (message.buffers) {\n",
              "          for (const buffer of message.buffers) {\n",
              "            buffers.push(buffer);\n",
              "            downloaded += buffer.byteLength;\n",
              "            progress.value = downloaded;\n",
              "          }\n",
              "        }\n",
              "      }\n",
              "      const blob = new Blob(buffers, {type: 'application/binary'});\n",
              "      const a = document.createElement('a');\n",
              "      a.href = window.URL.createObjectURL(blob);\n",
              "      a.download = filename;\n",
              "      div.appendChild(a);\n",
              "      a.click();\n",
              "      div.remove();\n",
              "    }\n",
              "  "
            ]
          },
          "metadata": {}
        },
        {
          "output_type": "display_data",
          "data": {
            "text/plain": [
              "<IPython.core.display.Javascript object>"
            ],
            "application/javascript": [
              "download(\"download_715d9dfd-e327-4204-85a1-011cd085b1bd\", \"VGG19_RBF Kernel.png\", 12330)"
            ]
          },
          "metadata": {}
        },
        {
          "output_type": "display_data",
          "data": {
            "text/plain": [
              "<Figure size 432x288 with 2 Axes>"
            ],
            "image/png": "[encoded data removed]"
          },
          "metadata": {
            "needs_background": "light"
          }
        }
      ]
    },
    {
      "cell_type": "markdown",
      "source": [
        "# Random Forest"
      ],
      "metadata": {
        "id": "KsshkBd9uLqq"
      }
    },
    {
      "cell_type": "markdown",
      "source": [
        "Importing Libraries"
      ],
      "metadata": {
        "id": "JCDYD_Hmxe12"
      }
    },
    {
      "cell_type": "code",
      "source": [
        "from sklearn.preprocessing import StandardScaler\n",
        "from sklearn.ensemble import RandomForestClassifier"
      ],
      "metadata": {
        "id": "AjXH9ejvuOOf"
      },
      "execution_count": 8,
      "outputs": []
    },
    {
      "cell_type": "markdown",
      "source": [
        "Define the Classifier"
      ],
      "metadata": {
        "id": "N-vmH0Srxpj6"
      }
    },
    {
      "cell_type": "code",
      "source": [
        "classifier = RandomForestClassifier(n_estimators = 500, criterion = 'entropy', random_state = 42)"
      ],
      "metadata": {
        "id": "yWcUPtVAxibU"
      },
      "execution_count": 9,
      "outputs": []
    },
    {
      "cell_type": "markdown",
      "source": [
        "Predicting Test Set Results"
      ],
      "metadata": {
        "id": "_POan3ZCx16f"
      }
    },
    {
      "cell_type": "code",
      "source": [
        "rf_accuracy = 0\n",
        "\n",
        "for train_index, test_index in kf.split(X):\n",
        "    \n",
        "    X_train, X_test = X[train_index], X[test_index]\n",
        "    y_train, y_test = y[train_index], y[test_index]\n",
        "\n",
        "    classifier.fit(X_train, y_train)\n",
        "    \n",
        "    y_pred = classifier.predict(X_test)\n",
        "    \n",
        "    rf_accuracy += accuracy_score(y_test, y_pred)\n",
        "    "
      ],
      "metadata": {
        "id": "6Vfd8moExs3O"
      },
      "execution_count": 10,
      "outputs": []
    },
    {
      "cell_type": "markdown",
      "source": [
        "Outcomes"
      ],
      "metadata": {
        "id": "JHB5IQutyDqV"
      }
    },
    {
      "cell_type": "code",
      "source": [
        "rf_f1 = f1_score(y_test, y_pred, average='weighted')\n",
        "print('Accuracy (Random Forest): ', \"%.2f\" % (rf_accuracy/5*100) + \" %\")\n",
        "print('F1 (Random Forest): ', \"%.2f\" % (rf_f1*100))\n",
        "print(\"Confustion Matrix (Random Forest):\\n\", confusion_matrix(y_test, y_pred))\n",
        "visualiseConfusionMatrix(confusion_matrix(y_test, y_pred), 'Random Forest')"
      ],
      "metadata": {
        "id": "HQjjjiGcyCzk",
        "colab": {
          "base_uri": "https://localhost:8080/",
          "height": 0
        },
        "outputId": "02233486-7496-4ed1-9a5e-9d39da3b8176"
      },
      "execution_count": 11,
      "outputs": [
        {
          "output_type": "stream",
          "name": "stdout",
          "text": [
            "Accuracy (Random Forest):  87.62 %\n",
            "F1 (Random Forest):  90.19\n",
            "Confustion Matrix (Random Forest):\n",
            " [[84  0  8  1]\n",
            " [ 2 60  3 14]\n",
            " [ 0  0 77  0]\n",
            " [ 2  1  0 68]]\n"
          ]
        },
        {
          "output_type": "display_data",
          "data": {
            "text/plain": [
              "<IPython.core.display.Javascript object>"
            ],
            "application/javascript": [
              "\n",
              "    async function download(id, filename, size) {\n",
              "      if (!google.colab.kernel.accessAllowed) {\n",
              "        return;\n",
              "      }\n",
              "      const div = document.createElement('div');\n",
              "      const label = document.createElement('label');\n",
              "      label.textContent = `Downloading \"${filename}\": `;\n",
              "      div.appendChild(label);\n",
              "      const progress = document.createElement('progress');\n",
              "      progress.max = size;\n",
              "      div.appendChild(progress);\n",
              "      document.body.appendChild(div);\n",
              "\n",
              "      const buffers = [];\n",
              "      let downloaded = 0;\n",
              "\n",
              "      const channel = await google.colab.kernel.comms.open(id);\n",
              "      // Send a message to notify the kernel that we're ready.\n",
              "      channel.send({})\n",
              "\n",
              "      for await (const message of channel.messages) {\n",
              "        // Send a message to notify the kernel that we're ready.\n",
              "        channel.send({})\n",
              "        if (message.buffers) {\n",
              "          for (const buffer of message.buffers) {\n",
              "            buffers.push(buffer);\n",
              "            downloaded += buffer.byteLength;\n",
              "            progress.value = downloaded;\n",
              "          }\n",
              "        }\n",
              "      }\n",
              "      const blob = new Blob(buffers, {type: 'application/binary'});\n",
              "      const a = document.createElement('a');\n",
              "      a.href = window.URL.createObjectURL(blob);\n",
              "      a.download = filename;\n",
              "      div.appendChild(a);\n",
              "      a.click();\n",
              "      div.remove();\n",
              "    }\n",
              "  "
            ]
          },
          "metadata": {}
        },
        {
          "output_type": "display_data",
          "data": {
            "text/plain": [
              "<IPython.core.display.Javascript object>"
            ],
            "application/javascript": [
              "download(\"download_9d7caf2b-c5c9-4209-9762-c3e057f122d8\", \"VGG19_Random Forest.png\", 16109)"
            ]
          },
          "metadata": {}
        },
        {
          "output_type": "display_data",
          "data": {
            "text/plain": [
              "<Figure size 432x288 with 2 Axes>"
            ],
            "image/png": "[encoded data removed]"
          },
          "metadata": {
            "needs_background": "light"
          }
        }
      ]
    },
    {
      "cell_type": "markdown",
      "source": [],
      "metadata": {
        "id": "yPJ-ST361cvQ"
      }
    },
    {
      "cell_type": "markdown",
      "source": [
        "# MultiClass Logistic Regression"
      ],
      "metadata": {
        "id": "e_7HkvXy4Uvd"
      }
    },
    {
      "cell_type": "markdown",
      "source": [
        "Import Libraries"
      ],
      "metadata": {
        "id": "UCA6d_MO4bkB"
      }
    },
    {
      "cell_type": "code",
      "source": [
        "from sklearn.linear_model import LogisticRegression"
      ],
      "metadata": {
        "id": "FIBCDHG54Zld"
      },
      "execution_count": 12,
      "outputs": []
    },
    {
      "cell_type": "markdown",
      "source": [
        "Define Classifier."
      ],
      "metadata": {
        "id": "wUlINgaj4kjv"
      }
    },
    {
      "cell_type": "code",
      "source": [
        "classifier = LogisticRegression(multi_class='auto', solver='sag')"
      ],
      "metadata": {
        "id": "8_WxvViT4jia"
      },
      "execution_count": 13,
      "outputs": []
    },
    {
      "cell_type": "markdown",
      "source": [
        "\n",
        "Predicting Test Set Results."
      ],
      "metadata": {
        "id": "VYF55C1M4yrz"
      }
    },
    {
      "cell_type": "code",
      "source": [
        "lr_accuracy = 0\n",
        "\n",
        "for train_index, test_index in kf.split(X):\n",
        "    \n",
        "    X_train, X_test = X[train_index], X[test_index]\n",
        "    y_train, y_test = y[train_index], y[test_index]\n",
        "\n",
        "    classifier.fit(X_train, y_train)\n",
        "    \n",
        "    y_pred = classifier.predict(X_test)\n",
        "    \n",
        "    lr_accuracy += accuracy_score(y_test, y_pred)\n"
      ],
      "metadata": {
        "id": "sTpD5Y-54sam",
        "colab": {
          "base_uri": "https://localhost:8080/"
        },
        "outputId": "8acbf1e4-934a-4888-caf2-f7bcc9e4d9b2"
      },
      "execution_count": 14,
      "outputs": [
        {
          "output_type": "stream",
          "name": "stderr",
          "text": [
            "/usr/local/lib/python3.8/dist-packages/sklearn/linear_model/_sag.py:352: ConvergenceWarning: The max_iter was reached which means the coef_ did not converge\n",
            "  warnings.warn(\n",
            "/usr/local/lib/python3.8/dist-packages/sklearn/linear_model/_sag.py:352: ConvergenceWarning: The max_iter was reached which means the coef_ did not converge\n",
            "  warnings.warn(\n",
            "/usr/local/lib/python3.8/dist-packages/sklearn/linear_model/_sag.py:352: ConvergenceWarning: The max_iter was reached which means the coef_ did not converge\n",
            "  warnings.warn(\n",
            "/usr/local/lib/python3.8/dist-packages/sklearn/linear_model/_sag.py:352: ConvergenceWarning: The max_iter was reached which means the coef_ did not converge\n",
            "  warnings.warn(\n",
            "/usr/local/lib/python3.8/dist-packages/sklearn/linear_model/_sag.py:352: ConvergenceWarning: The max_iter was reached which means the coef_ did not converge\n",
            "  warnings.warn(\n"
          ]
        }
      ]
    },
    {
      "cell_type": "markdown",
      "source": [
        "Outcomes"
      ],
      "metadata": {
        "id": "MRQ-XRm05Hgy"
      }
    },
    {
      "cell_type": "code",
      "source": [
        "lr_f1 = f1_score(y_test, y_pred, average='weighted')\n",
        "print('Accuracy (Logistic Regression): ', \"%.2f\" % (lr_accuracy/5*100) + \" %\")\n",
        "print('F1 (Logistic Regression): ', \"%.2f\" % (lr_f1*100))\n",
        "print(\"Confusion Matrix (Logistic Regression):\\n\", confusion_matrix(y_test, y_pred))\n",
        "visualiseConfusionMatrix(confusion_matrix(y_test, y_pred), 'Logistic Regression')"
      ],
      "metadata": {
        "id": "KND_p0Vt45nM",
        "colab": {
          "base_uri": "https://localhost:8080/",
          "height": 0
        },
        "outputId": "444db8fe-e993-47af-ee1e-a96401aa1e10"
      },
      "execution_count": 15,
      "outputs": [
        {
          "output_type": "stream",
          "name": "stdout",
          "text": [
            "Accuracy (Logistic Regression):  94.69 %\n",
            "F1 (Logistic Regression):  93.44\n",
            "Confusion Matrix (Logistic Regression):\n",
            " [[90  0  2  1]\n",
            " [ 1 68  0 10]\n",
            " [ 2  0 75  0]\n",
            " [ 0  5  0 66]]\n"
          ]
        },
        {
          "output_type": "display_data",
          "data": {
            "text/plain": [
              "<IPython.core.display.Javascript object>"
            ],
            "application/javascript": [
              "\n",
              "    async function download(id, filename, size) {\n",
              "      if (!google.colab.kernel.accessAllowed) {\n",
              "        return;\n",
              "      }\n",
              "      const div = document.createElement('div');\n",
              "      const label = document.createElement('label');\n",
              "      label.textContent = `Downloading \"${filename}\": `;\n",
              "      div.appendChild(label);\n",
              "      const progress = document.createElement('progress');\n",
              "      progress.max = size;\n",
              "      div.appendChild(progress);\n",
              "      document.body.appendChild(div);\n",
              "\n",
              "      const buffers = [];\n",
              "      let downloaded = 0;\n",
              "\n",
              "      const channel = await google.colab.kernel.comms.open(id);\n",
              "      // Send a message to notify the kernel that we're ready.\n",
              "      channel.send({})\n",
              "\n",
              "      for await (const message of channel.messages) {\n",
              "        // Send a message to notify the kernel that we're ready.\n",
              "        channel.send({})\n",
              "        if (message.buffers) {\n",
              "          for (const buffer of message.buffers) {\n",
              "            buffers.push(buffer);\n",
              "            downloaded += buffer.byteLength;\n",
              "            progress.value = downloaded;\n",
              "          }\n",
              "        }\n",
              "      }\n",
              "      const blob = new Blob(buffers, {type: 'application/binary'});\n",
              "      const a = document.createElement('a');\n",
              "      a.href = window.URL.createObjectURL(blob);\n",
              "      a.download = filename;\n",
              "      div.appendChild(a);\n",
              "      a.click();\n",
              "      div.remove();\n",
              "    }\n",
              "  "
            ]
          },
          "metadata": {}
        },
        {
          "output_type": "display_data",
          "data": {
            "text/plain": [
              "<IPython.core.display.Javascript object>"
            ],
            "application/javascript": [
              "download(\"download_3325a532-53e1-4e60-9e00-6129210e250d\", \"VGG19_Logistic Regression.png\", 16937)"
            ]
          },
          "metadata": {}
        },
        {
          "output_type": "display_data",
          "data": {
            "text/plain": [
              "<Figure size 432x288 with 2 Axes>"
            ],
            "image/png": "[encoded data removed]"
          },
          "metadata": {
            "needs_background": "light"
          }
        }
      ]
    },
    {
      "cell_type": "markdown",
      "source": [
        "# Decision Tree"
      ],
      "metadata": {
        "id": "o8OUpDOXi738"
      }
    },
    {
      "cell_type": "markdown",
      "source": [
        "Importing Libraries"
      ],
      "metadata": {
        "id": "ph4Mhd59i739"
      }
    },
    {
      "cell_type": "code",
      "source": [
        "from sklearn.tree import DecisionTreeClassifier"
      ],
      "metadata": {
        "id": "olQRMv3hi739"
      },
      "execution_count": 16,
      "outputs": []
    },
    {
      "cell_type": "markdown",
      "source": [
        "Define the Classifier"
      ],
      "metadata": {
        "id": "hrF8fHaqi739"
      }
    },
    {
      "cell_type": "code",
      "source": [
        "clf = DecisionTreeClassifier()"
      ],
      "metadata": {
        "id": "e40I6Ejhi739"
      },
      "execution_count": 17,
      "outputs": []
    },
    {
      "cell_type": "markdown",
      "source": [
        "Predicting Test Set Results"
      ],
      "metadata": {
        "id": "YYJqVEiei73-"
      }
    },
    {
      "cell_type": "code",
      "source": [
        "dt_accuracy = 0\n",
        "\n",
        "for train_index, test_index in kf.split(X):\n",
        "    \n",
        "    X_train, X_test = X[train_index], X[test_index]\n",
        "    y_train, y_test = y[train_index], y[test_index]\n",
        "\n",
        "    clf.fit(X_train, y_train)\n",
        "    \n",
        "    y_pred = clf.predict(X_test)\n",
        "    \n",
        "    dt_accuracy += accuracy_score(y_test, y_pred)"
      ],
      "metadata": {
        "id": "5ig7XkW2i73-"
      },
      "execution_count": 18,
      "outputs": []
    },
    {
      "cell_type": "markdown",
      "source": [
        "Outcomes"
      ],
      "metadata": {
        "id": "SUt8ABj5i73-"
      }
    },
    {
      "cell_type": "code",
      "source": [
        "dt_f1 = f1_score(y_test, y_pred, average='weighted')\n",
        "print('Accuracy (Decision Tree): ', \"%.2f\" % (dt_accuracy/5*100) + \" %\")\n",
        "print('F1 (Decision Tree): ', \"%.2f\" % (dt_f1*100))\n",
        "print(\"Confustion Matrix (Decision Tree):\\n\", confusion_matrix(y_test, y_pred))\n",
        "visualiseConfusionMatrix(confusion_matrix(y_test, y_pred), 'Decision Tree')"
      ],
      "metadata": {
        "id": "7d9MSKEEi73-",
        "colab": {
          "base_uri": "https://localhost:8080/",
          "height": 0
        },
        "outputId": "4e5c165b-8ab0-45db-bc3a-5b248eebd2a8"
      },
      "execution_count": 19,
      "outputs": [
        {
          "output_type": "stream",
          "name": "stdout",
          "text": [
            "Accuracy (Decision Tree):  64.31 %\n",
            "F1 (Decision Tree):  61.41\n",
            "Confustion Matrix (Decision Tree):\n",
            " [[61 13 15  4]\n",
            " [ 6 42  5 26]\n",
            " [ 9  6 56  6]\n",
            " [ 6 22  6 37]]\n"
          ]
        },
        {
          "output_type": "display_data",
          "data": {
            "text/plain": [
              "<IPython.core.display.Javascript object>"
            ],
            "application/javascript": [
              "\n",
              "    async function download(id, filename, size) {\n",
              "      if (!google.colab.kernel.accessAllowed) {\n",
              "        return;\n",
              "      }\n",
              "      const div = document.createElement('div');\n",
              "      const label = document.createElement('label');\n",
              "      label.textContent = `Downloading \"${filename}\": `;\n",
              "      div.appendChild(label);\n",
              "      const progress = document.createElement('progress');\n",
              "      progress.max = size;\n",
              "      div.appendChild(progress);\n",
              "      document.body.appendChild(div);\n",
              "\n",
              "      const buffers = [];\n",
              "      let downloaded = 0;\n",
              "\n",
              "      const channel = await google.colab.kernel.comms.open(id);\n",
              "      // Send a message to notify the kernel that we're ready.\n",
              "      channel.send({})\n",
              "\n",
              "      for await (const message of channel.messages) {\n",
              "        // Send a message to notify the kernel that we're ready.\n",
              "        channel.send({})\n",
              "        if (message.buffers) {\n",
              "          for (const buffer of message.buffers) {\n",
              "            buffers.push(buffer);\n",
              "            downloaded += buffer.byteLength;\n",
              "            progress.value = downloaded;\n",
              "          }\n",
              "        }\n",
              "      }\n",
              "      const blob = new Blob(buffers, {type: 'application/binary'});\n",
              "      const a = document.createElement('a');\n",
              "      a.href = window.URL.createObjectURL(blob);\n",
              "      a.download = filename;\n",
              "      div.appendChild(a);\n",
              "      a.click();\n",
              "      div.remove();\n",
              "    }\n",
              "  "
            ]
          },
          "metadata": {}
        },
        {
          "output_type": "display_data",
          "data": {
            "text/plain": [
              "<IPython.core.display.Javascript object>"
            ],
            "application/javascript": [
              "download(\"download_e61da92a-938d-4d11-ae83-0f15cc631be6\", \"VGG19_Decision Tree.png\", 15907)"
            ]
          },
          "metadata": {}
        },
        {
          "output_type": "display_data",
          "data": {
            "text/plain": [
              "<Figure size 432x288 with 2 Axes>"
            ],
            "image/png": "[encoded data removed]"
          },
          "metadata": {
            "needs_background": "light"
          }
        }
      ]
    },
    {
      "cell_type": "markdown",
      "source": [
        "# KNN"
      ],
      "metadata": {
        "id": "GbukmnXKhLdd"
      }
    },
    {
      "cell_type": "markdown",
      "source": [
        "Importing Libraries"
      ],
      "metadata": {
        "id": "h86SS70ahWVM"
      }
    },
    {
      "cell_type": "code",
      "source": [
        "from sklearn.neighbors import KNeighborsClassifier"
      ],
      "metadata": {
        "id": "Z569Y7gqhhAZ"
      },
      "execution_count": 20,
      "outputs": []
    },
    {
      "cell_type": "markdown",
      "source": [
        "Define the Classifier"
      ],
      "metadata": {
        "id": "r4y7MRgShWVM"
      }
    },
    {
      "cell_type": "code",
      "source": [
        "knn = KNeighborsClassifier(n_neighbors=10)"
      ],
      "metadata": {
        "id": "V4zmKZd9hmTV"
      },
      "execution_count": 21,
      "outputs": []
    },
    {
      "cell_type": "markdown",
      "source": [
        "Predicting Test Set Results"
      ],
      "metadata": {
        "id": "n4PFLh--hWVN"
      }
    },
    {
      "cell_type": "code",
      "source": [
        "knn_accuracy = 0\n",
        "\n",
        "for train_index, test_index in kf.split(X):\n",
        "    \n",
        "    X_train, X_test = X[train_index], X[test_index]\n",
        "    y_train, y_test = y[train_index], y[test_index]\n",
        "\n",
        "    knn.fit(X_train, y_train)\n",
        "    \n",
        "    y_pred = knn.predict(X_test)\n",
        "    \n",
        "    knn_accuracy += accuracy_score(y_test, y_pred)"
      ],
      "metadata": {
        "id": "WrzAI0ZOhqj_"
      },
      "execution_count": 22,
      "outputs": []
    },
    {
      "cell_type": "markdown",
      "source": [
        "Outcomes"
      ],
      "metadata": {
        "id": "ePgDseAEhWVN"
      }
    },
    {
      "cell_type": "code",
      "source": [
        "knn_f1 = f1_score(y_test, y_pred, average='weighted')\n",
        "print('Accuracy (KNN): ', \"%.2f\" % (knn_accuracy/5*100) + \" %\")\n",
        "print('F1 (KNN): ', \"%.2f\" % (knn_f1*100))\n",
        "print(\"Confustion Matrix (KNN):\\n\", confusion_matrix(y_test, y_pred))\n",
        "visualiseConfusionMatrix(confusion_matrix(y_test, y_pred), 'KNN')"
      ],
      "metadata": {
        "id": "ltG6IZWGiLAO",
        "colab": {
          "base_uri": "https://localhost:8080/",
          "height": 0
        },
        "outputId": "a7ad78e0-3257-4e8f-a7da-dad5ffd6709f"
      },
      "execution_count": 23,
      "outputs": [
        {
          "output_type": "stream",
          "name": "stdout",
          "text": [
            "Accuracy (KNN):  70.62 %\n",
            "F1 (KNN):  70.20\n",
            "Confustion Matrix (KNN):\n",
            " [[79  5  9  0]\n",
            " [ 3 53  3 20]\n",
            " [18  5 53  1]\n",
            " [ 3 27  1 40]]\n"
          ]
        },
        {
          "output_type": "display_data",
          "data": {
            "text/plain": [
              "<IPython.core.display.Javascript object>"
            ],
            "application/javascript": [
              "\n",
              "    async function download(id, filename, size) {\n",
              "      if (!google.colab.kernel.accessAllowed) {\n",
              "        return;\n",
              "      }\n",
              "      const div = document.createElement('div');\n",
              "      const label = document.createElement('label');\n",
              "      label.textContent = `Downloading \"${filename}\": `;\n",
              "      div.appendChild(label);\n",
              "      const progress = document.createElement('progress');\n",
              "      progress.max = size;\n",
              "      div.appendChild(progress);\n",
              "      document.body.appendChild(div);\n",
              "\n",
              "      const buffers = [];\n",
              "      let downloaded = 0;\n",
              "\n",
              "      const channel = await google.colab.kernel.comms.open(id);\n",
              "      // Send a message to notify the kernel that we're ready.\n",
              "      channel.send({})\n",
              "\n",
              "      for await (const message of channel.messages) {\n",
              "        // Send a message to notify the kernel that we're ready.\n",
              "        channel.send({})\n",
              "        if (message.buffers) {\n",
              "          for (const buffer of message.buffers) {\n",
              "            buffers.push(buffer);\n",
              "            downloaded += buffer.byteLength;\n",
              "            progress.value = downloaded;\n",
              "          }\n",
              "        }\n",
              "      }\n",
              "      const blob = new Blob(buffers, {type: 'application/binary'});\n",
              "      const a = document.createElement('a');\n",
              "      a.href = window.URL.createObjectURL(blob);\n",
              "      a.download = filename;\n",
              "      div.appendChild(a);\n",
              "      a.click();\n",
              "      div.remove();\n",
              "    }\n",
              "  "
            ]
          },
          "metadata": {}
        },
        {
          "output_type": "display_data",
          "data": {
            "text/plain": [
              "<IPython.core.display.Javascript object>"
            ],
            "application/javascript": [
              "download(\"download_6f421c91-11a4-4d89-9483-c07b09603ee6\", \"VGG19_KNN.png\", 15834)"
            ]
          },
          "metadata": {}
        },
        {
          "output_type": "display_data",
          "data": {
            "text/plain": [
              "<Figure size 432x288 with 2 Axes>"
            ],
            "image/png": "[encoded data removed]"
          },
          "metadata": {
            "needs_background": "light"
          }
        }
      ]
    }
  ]
}