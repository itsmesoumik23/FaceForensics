{
  "nbformat": 4,
  "nbformat_minor": 0,
  "metadata": {
    "colab": {
      "provenance": []
    },
    "kernelspec": {
      "name": "python3",
      "display_name": "Python 3"
    },
    "language_info": {
      "name": "python"
    },
    "accelerator": "GPU",
    "gpuClass": "standard"
  },
  "cells": [
    {
      "cell_type": "markdown",
      "source": [
        "# Data Preprocessing"
      ],
      "metadata": {
        "id": "sNVb-Bh5d9TA"
      }
    },
    {
      "cell_type": "markdown",
      "source": [
        "Importing Libraries"
      ],
      "metadata": {
        "id": "4M8awjZueJ8L"
      }
    },
    {
      "cell_type": "code",
      "execution_count": 29,
      "metadata": {
        "id": "Q9zGNCFzLg_T"
      },
      "outputs": [],
      "source": [
        "from sklearn import svm, datasets\n",
        "import sklearn.model_selection as model_selection\n",
        "from sklearn.model_selection import KFold\n",
        "from sklearn.metrics import accuracy_score\n",
        "from sklearn.metrics import f1_score\n",
        "from sklearn.metrics import confusion_matrix\n",
        "import numpy as np\n",
        "import pandas as pd"
      ]
    },
    {
      "cell_type": "markdown",
      "source": [
        "Loading the dataset"
      ],
      "metadata": {
        "id": "7-u_y9CbeNCd"
      }
    },
    {
      "cell_type": "code",
      "source": [
        "dataset = pd.read_csv('features_vgg_19.csv', on_bad_lines='skip')\n",
        "X = dataset.iloc[ 1 : , 1 : ].values\n",
        "y = dataset.iloc[ 1 : , 0 ].values\n",
        "dataset"
      ],
      "metadata": {
        "id": "lgTYNV1gL-zW",
        "colab": {
          "base_uri": "https://localhost:8080/",
          "height": 487
        },
        "outputId": "4b74bfc3-6281-45df-85fe-7243a576c55a"
      },
      "execution_count": 30,
      "outputs": [
        {
          "output_type": "execute_result",
          "data": {
            "text/plain": [
              "            category  feature_0   feature_1   feature_2   feature_3  \\\n",
              "0     NeuralTextures  -62.42796 -511.979250 -144.293640   16.581331   \n",
              "1     NeuralTextures  -60.10206 -511.612400 -144.567640   13.793102   \n",
              "2     NeuralTextures  283.52426  -86.484535  -72.358025 -285.846250   \n",
              "3     NeuralTextures -109.37252 -132.780460   41.090828 -102.016180   \n",
              "4     NeuralTextures -114.96796 -133.710040   33.637596 -102.143940   \n",
              "...              ...        ...         ...         ...         ...   \n",
              "1595       Deepfakes -327.61316  314.563320 -270.090100  260.339100   \n",
              "1596       Deepfakes -330.69678  323.606140 -273.277650  249.188050   \n",
              "1597       Deepfakes -333.59818  323.090400 -275.059480  245.257460   \n",
              "1598       Deepfakes -334.77840  310.678700 -275.875270  258.262850   \n",
              "1599       Deepfakes -340.66122  311.118130 -278.083280  257.296780   \n",
              "\n",
              "       feature_4   feature_5   feature_6   feature_7   feature_8  ...  \\\n",
              "0     437.121250  375.084750  585.748960 -132.477250 -424.689880  ...   \n",
              "1     436.082820  379.226750  589.281800 -134.002880 -425.063260  ...   \n",
              "2     205.587170    6.353247  -96.631210  124.412570   25.982288  ...   \n",
              "3    -312.326750 -235.344730 -600.219100   57.521378 -397.795440  ...   \n",
              "4    -310.961850 -233.476240 -599.182200   54.451088 -397.724400  ...   \n",
              "...          ...         ...         ...         ...         ...  ...   \n",
              "1595   60.712418 -103.131340   88.905610   57.192635  201.617610  ...   \n",
              "1596   58.336710 -103.883125   86.551610   58.541325  202.249970  ...   \n",
              "1597   56.540356 -104.844250   83.488710   60.533146  202.259400  ...   \n",
              "1598   57.422730 -106.041430   84.126040   56.433655  199.466740  ...   \n",
              "1599   59.634777 -105.537350   85.415276   56.233273  199.113390  ...   \n",
              "\n",
              "      feature_1490  feature_1491  feature_1492  feature_1493  feature_1494  \\\n",
              "0        -0.898269     -0.132740      0.033466      0.537707     -0.356337   \n",
              "1         0.610182      0.344779     -0.252257     -0.712681      0.521353   \n",
              "2         0.141574      0.913710     -0.973437     -0.599650      0.486635   \n",
              "3         0.086565     -0.193849      0.075021      0.140493     -0.041655   \n",
              "4        -0.066966      0.210792     -0.065908     -0.111011      0.071677   \n",
              "...            ...           ...           ...           ...           ...   \n",
              "1595      0.498902     -1.078514     -0.429026     -0.386816      0.157793   \n",
              "1596     -0.747822      1.099753      0.780004      1.380206      0.409219   \n",
              "1597      0.300279     -0.294824     -0.156819     -0.642119      0.001807   \n",
              "1598      0.338990      0.900440     -0.536104     -0.069106     -0.583624   \n",
              "1599     -0.328721     -0.783377      0.461190      0.068190      0.253600   \n",
              "\n",
              "      feature_1495  feature_1496  feature_1497  feature_1498  feature_1499  \n",
              "0        -0.677848     -0.033449      0.096043      0.790820     -0.256042  \n",
              "1         0.052618     -0.272742      0.202274      0.062227      0.207085  \n",
              "2         1.609857      0.029285     -0.226419      0.210444     -0.270626  \n",
              "3        -0.102646      0.004213      0.137947     -0.080017     -0.125026  \n",
              "4         0.206578     -0.012744     -0.148091      0.236905      0.084431  \n",
              "...            ...           ...           ...           ...           ...  \n",
              "1595      0.269086      0.408329     -0.520630     -0.660197     -0.370723  \n",
              "1596     -0.595222     -0.648377      0.776439      0.499211      0.368870  \n",
              "1597      0.060356      0.164309     -0.404485     -0.008862     -0.116171  \n",
              "1598     -0.579611      0.496215     -0.443521      0.013521      0.535858  \n",
              "1599      0.672689     -0.621597      0.472801      0.092693     -0.524574  \n",
              "\n",
              "[1600 rows x 1501 columns]"
            ],
            "text/html": [
              "\n",
              "  <div id=\"df-350f2dc5-24ea-40ff-9901-eabfa4e10593\">\n",
              "    <div class=\"colab-df-container\">\n",
              "      <div>\n",
              "<style scoped>\n",
              "    .dataframe tbody tr th:only-of-type {\n",
              "        vertical-align: middle;\n",
              "    }\n",
              "\n",
              "    .dataframe tbody tr th {\n",
              "        vertical-align: top;\n",
              "    }\n",
              "\n",
              "    .dataframe thead th {\n",
              "        text-align: right;\n",
              "    }\n",
              "</style>\n",
              "<table border=\"1\" class=\"dataframe\">\n",
              "  <thead>\n",
              "    <tr style=\"text-align: right;\">\n",
              "      <th></th>\n",
              "      <th>category</th>\n",
              "      <th>feature_0</th>\n",
              "      <th>feature_1</th>\n",
              "      <th>feature_2</th>\n",
              "      <th>feature_3</th>\n",
              "      <th>feature_4</th>\n",
              "      <th>feature_5</th>\n",
              "      <th>feature_6</th>\n",
              "      <th>feature_7</th>\n",
              "      <th>feature_8</th>\n",
              "      <th>...</th>\n",
              "      <th>feature_1490</th>\n",
              "      <th>feature_1491</th>\n",
              "      <th>feature_1492</th>\n",
              "      <th>feature_1493</th>\n",
              "      <th>feature_1494</th>\n",
              "      <th>feature_1495</th>\n",
              "      <th>feature_1496</th>\n",
              "      <th>feature_1497</th>\n",
              "      <th>feature_1498</th>\n",
              "      <th>feature_1499</th>\n",
              "    </tr>\n",
              "  </thead>\n",
              "  <tbody>\n",
              "    <tr>\n",
              "      <th>0</th>\n",
              "      <td>NeuralTextures</td>\n",
              "      <td>-62.42796</td>\n",
              "      <td>-511.979250</td>\n",
              "      <td>-144.293640</td>\n",
              "      <td>16.581331</td>\n",
              "      <td>437.121250</td>\n",
              "      <td>375.084750</td>\n",
              "      <td>585.748960</td>\n",
              "      <td>-132.477250</td>\n",
              "      <td>-424.689880</td>\n",
              "      <td>...</td>\n",
              "      <td>-0.898269</td>\n",
              "      <td>-0.132740</td>\n",
              "      <td>0.033466</td>\n",
              "      <td>0.537707</td>\n",
              "      <td>-0.356337</td>\n",
              "      <td>-0.677848</td>\n",
              "      <td>-0.033449</td>\n",
              "      <td>0.096043</td>\n",
              "      <td>0.790820</td>\n",
              "      <td>-0.256042</td>\n",
              "    </tr>\n",
              "    <tr>\n",
              "      <th>1</th>\n",
              "      <td>NeuralTextures</td>\n",
              "      <td>-60.10206</td>\n",
              "      <td>-511.612400</td>\n",
              "      <td>-144.567640</td>\n",
              "      <td>13.793102</td>\n",
              "      <td>436.082820</td>\n",
              "      <td>379.226750</td>\n",
              "      <td>589.281800</td>\n",
              "      <td>-134.002880</td>\n",
              "      <td>-425.063260</td>\n",
              "      <td>...</td>\n",
              "      <td>0.610182</td>\n",
              "      <td>0.344779</td>\n",
              "      <td>-0.252257</td>\n",
              "      <td>-0.712681</td>\n",
              "      <td>0.521353</td>\n",
              "      <td>0.052618</td>\n",
              "      <td>-0.272742</td>\n",
              "      <td>0.202274</td>\n",
              "      <td>0.062227</td>\n",
              "      <td>0.207085</td>\n",
              "    </tr>\n",
              "    <tr>\n",
              "      <th>2</th>\n",
              "      <td>NeuralTextures</td>\n",
              "      <td>283.52426</td>\n",
              "      <td>-86.484535</td>\n",
              "      <td>-72.358025</td>\n",
              "      <td>-285.846250</td>\n",
              "      <td>205.587170</td>\n",
              "      <td>6.353247</td>\n",
              "      <td>-96.631210</td>\n",
              "      <td>124.412570</td>\n",
              "      <td>25.982288</td>\n",
              "      <td>...</td>\n",
              "      <td>0.141574</td>\n",
              "      <td>0.913710</td>\n",
              "      <td>-0.973437</td>\n",
              "      <td>-0.599650</td>\n",
              "      <td>0.486635</td>\n",
              "      <td>1.609857</td>\n",
              "      <td>0.029285</td>\n",
              "      <td>-0.226419</td>\n",
              "      <td>0.210444</td>\n",
              "      <td>-0.270626</td>\n",
              "    </tr>\n",
              "    <tr>\n",
              "      <th>3</th>\n",
              "      <td>NeuralTextures</td>\n",
              "      <td>-109.37252</td>\n",
              "      <td>-132.780460</td>\n",
              "      <td>41.090828</td>\n",
              "      <td>-102.016180</td>\n",
              "      <td>-312.326750</td>\n",
              "      <td>-235.344730</td>\n",
              "      <td>-600.219100</td>\n",
              "      <td>57.521378</td>\n",
              "      <td>-397.795440</td>\n",
              "      <td>...</td>\n",
              "      <td>0.086565</td>\n",
              "      <td>-0.193849</td>\n",
              "      <td>0.075021</td>\n",
              "      <td>0.140493</td>\n",
              "      <td>-0.041655</td>\n",
              "      <td>-0.102646</td>\n",
              "      <td>0.004213</td>\n",
              "      <td>0.137947</td>\n",
              "      <td>-0.080017</td>\n",
              "      <td>-0.125026</td>\n",
              "    </tr>\n",
              "    <tr>\n",
              "      <th>4</th>\n",
              "      <td>NeuralTextures</td>\n",
              "      <td>-114.96796</td>\n",
              "      <td>-133.710040</td>\n",
              "      <td>33.637596</td>\n",
              "      <td>-102.143940</td>\n",
              "      <td>-310.961850</td>\n",
              "      <td>-233.476240</td>\n",
              "      <td>-599.182200</td>\n",
              "      <td>54.451088</td>\n",
              "      <td>-397.724400</td>\n",
              "      <td>...</td>\n",
              "      <td>-0.066966</td>\n",
              "      <td>0.210792</td>\n",
              "      <td>-0.065908</td>\n",
              "      <td>-0.111011</td>\n",
              "      <td>0.071677</td>\n",
              "      <td>0.206578</td>\n",
              "      <td>-0.012744</td>\n",
              "      <td>-0.148091</td>\n",
              "      <td>0.236905</td>\n",
              "      <td>0.084431</td>\n",
              "    </tr>\n",
              "    <tr>\n",
              "      <th>...</th>\n",
              "      <td>...</td>\n",
              "      <td>...</td>\n",
              "      <td>...</td>\n",
              "      <td>...</td>\n",
              "      <td>...</td>\n",
              "      <td>...</td>\n",
              "      <td>...</td>\n",
              "      <td>...</td>\n",
              "      <td>...</td>\n",
              "      <td>...</td>\n",
              "      <td>...</td>\n",
              "      <td>...</td>\n",
              "      <td>...</td>\n",
              "      <td>...</td>\n",
              "      <td>...</td>\n",
              "      <td>...</td>\n",
              "      <td>...</td>\n",
              "      <td>...</td>\n",
              "      <td>...</td>\n",
              "      <td>...</td>\n",
              "      <td>...</td>\n",
              "    </tr>\n",
              "    <tr>\n",
              "      <th>1595</th>\n",
              "      <td>Deepfakes</td>\n",
              "      <td>-327.61316</td>\n",
              "      <td>314.563320</td>\n",
              "      <td>-270.090100</td>\n",
              "      <td>260.339100</td>\n",
              "      <td>60.712418</td>\n",
              "      <td>-103.131340</td>\n",
              "      <td>88.905610</td>\n",
              "      <td>57.192635</td>\n",
              "      <td>201.617610</td>\n",
              "      <td>...</td>\n",
              "      <td>0.498902</td>\n",
              "      <td>-1.078514</td>\n",
              "      <td>-0.429026</td>\n",
              "      <td>-0.386816</td>\n",
              "      <td>0.157793</td>\n",
              "      <td>0.269086</td>\n",
              "      <td>0.408329</td>\n",
              "      <td>-0.520630</td>\n",
              "      <td>-0.660197</td>\n",
              "      <td>-0.370723</td>\n",
              "    </tr>\n",
              "    <tr>\n",
              "      <th>1596</th>\n",
              "      <td>Deepfakes</td>\n",
              "      <td>-330.69678</td>\n",
              "      <td>323.606140</td>\n",
              "      <td>-273.277650</td>\n",
              "      <td>249.188050</td>\n",
              "      <td>58.336710</td>\n",
              "      <td>-103.883125</td>\n",
              "      <td>86.551610</td>\n",
              "      <td>58.541325</td>\n",
              "      <td>202.249970</td>\n",
              "      <td>...</td>\n",
              "      <td>-0.747822</td>\n",
              "      <td>1.099753</td>\n",
              "      <td>0.780004</td>\n",
              "      <td>1.380206</td>\n",
              "      <td>0.409219</td>\n",
              "      <td>-0.595222</td>\n",
              "      <td>-0.648377</td>\n",
              "      <td>0.776439</td>\n",
              "      <td>0.499211</td>\n",
              "      <td>0.368870</td>\n",
              "    </tr>\n",
              "    <tr>\n",
              "      <th>1597</th>\n",
              "      <td>Deepfakes</td>\n",
              "      <td>-333.59818</td>\n",
              "      <td>323.090400</td>\n",
              "      <td>-275.059480</td>\n",
              "      <td>245.257460</td>\n",
              "      <td>56.540356</td>\n",
              "      <td>-104.844250</td>\n",
              "      <td>83.488710</td>\n",
              "      <td>60.533146</td>\n",
              "      <td>202.259400</td>\n",
              "      <td>...</td>\n",
              "      <td>0.300279</td>\n",
              "      <td>-0.294824</td>\n",
              "      <td>-0.156819</td>\n",
              "      <td>-0.642119</td>\n",
              "      <td>0.001807</td>\n",
              "      <td>0.060356</td>\n",
              "      <td>0.164309</td>\n",
              "      <td>-0.404485</td>\n",
              "      <td>-0.008862</td>\n",
              "      <td>-0.116171</td>\n",
              "    </tr>\n",
              "    <tr>\n",
              "      <th>1598</th>\n",
              "      <td>Deepfakes</td>\n",
              "      <td>-334.77840</td>\n",
              "      <td>310.678700</td>\n",
              "      <td>-275.875270</td>\n",
              "      <td>258.262850</td>\n",
              "      <td>57.422730</td>\n",
              "      <td>-106.041430</td>\n",
              "      <td>84.126040</td>\n",
              "      <td>56.433655</td>\n",
              "      <td>199.466740</td>\n",
              "      <td>...</td>\n",
              "      <td>0.338990</td>\n",
              "      <td>0.900440</td>\n",
              "      <td>-0.536104</td>\n",
              "      <td>-0.069106</td>\n",
              "      <td>-0.583624</td>\n",
              "      <td>-0.579611</td>\n",
              "      <td>0.496215</td>\n",
              "      <td>-0.443521</td>\n",
              "      <td>0.013521</td>\n",
              "      <td>0.535858</td>\n",
              "    </tr>\n",
              "    <tr>\n",
              "      <th>1599</th>\n",
              "      <td>Deepfakes</td>\n",
              "      <td>-340.66122</td>\n",
              "      <td>311.118130</td>\n",
              "      <td>-278.083280</td>\n",
              "      <td>257.296780</td>\n",
              "      <td>59.634777</td>\n",
              "      <td>-105.537350</td>\n",
              "      <td>85.415276</td>\n",
              "      <td>56.233273</td>\n",
              "      <td>199.113390</td>\n",
              "      <td>...</td>\n",
              "      <td>-0.328721</td>\n",
              "      <td>-0.783377</td>\n",
              "      <td>0.461190</td>\n",
              "      <td>0.068190</td>\n",
              "      <td>0.253600</td>\n",
              "      <td>0.672689</td>\n",
              "      <td>-0.621597</td>\n",
              "      <td>0.472801</td>\n",
              "      <td>0.092693</td>\n",
              "      <td>-0.524574</td>\n",
              "    </tr>\n",
              "  </tbody>\n",
              "</table>\n",
              "<p>1600 rows × 1501 columns</p>\n",
              "</div>\n",
              "      <button class=\"colab-df-convert\" onclick=\"convertToInteractive('df-350f2dc5-24ea-40ff-9901-eabfa4e10593')\"\n",
              "              title=\"Convert this dataframe to an interactive table.\"\n",
              "              style=\"display:none;\">\n",
              "        \n",
              "  <svg xmlns=\"http://www.w3.org/2000/svg\" height=\"24px\"viewBox=\"0 0 24 24\"\n",
              "       width=\"24px\">\n",
              "    <path d=\"M0 0h24v24H0V0z\" fill=\"none\"/>\n",
              "    <path d=\"M18.56 5.44l.94 2.06.94-2.06 2.06-.94-2.06-.94-.94-2.06-.94 2.06-2.06.94zm-11 1L8.5 8.5l.94-2.06 2.06-.94-2.06-.94L8.5 2.5l-.94 2.06-2.06.94zm10 10l.94 2.06.94-2.06 2.06-.94-2.06-.94-.94-2.06-.94 2.06-2.06.94z\"/><path d=\"M17.41 7.96l-1.37-1.37c-.4-.4-.92-.59-1.43-.59-.52 0-1.04.2-1.43.59L10.3 9.45l-7.72 7.72c-.78.78-.78 2.05 0 2.83L4 21.41c.39.39.9.59 1.41.59.51 0 1.02-.2 1.41-.59l7.78-7.78 2.81-2.81c.8-.78.8-2.07 0-2.86zM5.41 20L4 18.59l7.72-7.72 1.47 1.35L5.41 20z\"/>\n",
              "  </svg>\n",
              "      </button>\n",
              "      \n",
              "  <style>\n",
              "    .colab-df-container {\n",
              "      display:flex;\n",
              "      flex-wrap:wrap;\n",
              "      gap: 12px;\n",
              "    }\n",
              "\n",
              "    .colab-df-convert {\n",
              "      background-color: #E8F0FE;\n",
              "      border: none;\n",
              "      border-radius: 50%;\n",
              "      cursor: pointer;\n",
              "      display: none;\n",
              "      fill: #1967D2;\n",
              "      height: 32px;\n",
              "      padding: 0 0 0 0;\n",
              "      width: 32px;\n",
              "    }\n",
              "\n",
              "    .colab-df-convert:hover {\n",
              "      background-color: #E2EBFA;\n",
              "      box-shadow: 0px 1px 2px rgba(60, 64, 67, 0.3), 0px 1px 3px 1px rgba(60, 64, 67, 0.15);\n",
              "      fill: #174EA6;\n",
              "    }\n",
              "\n",
              "    [theme=dark] .colab-df-convert {\n",
              "      background-color: #3B4455;\n",
              "      fill: #D2E3FC;\n",
              "    }\n",
              "\n",
              "    [theme=dark] .colab-df-convert:hover {\n",
              "      background-color: #434B5C;\n",
              "      box-shadow: 0px 1px 3px 1px rgba(0, 0, 0, 0.15);\n",
              "      filter: drop-shadow(0px 1px 2px rgba(0, 0, 0, 0.3));\n",
              "      fill: #FFFFFF;\n",
              "    }\n",
              "  </style>\n",
              "\n",
              "      <script>\n",
              "        const buttonEl =\n",
              "          document.querySelector('#df-350f2dc5-24ea-40ff-9901-eabfa4e10593 button.colab-df-convert');\n",
              "        buttonEl.style.display =\n",
              "          google.colab.kernel.accessAllowed ? 'block' : 'none';\n",
              "\n",
              "        async function convertToInteractive(key) {\n",
              "          const element = document.querySelector('#df-350f2dc5-24ea-40ff-9901-eabfa4e10593');\n",
              "          const dataTable =\n",
              "            await google.colab.kernel.invokeFunction('convertToInteractive',\n",
              "                                                     [key], {});\n",
              "          if (!dataTable) return;\n",
              "\n",
              "          const docLinkHtml = 'Like what you see? Visit the ' +\n",
              "            '<a target=\"_blank\" href=https://colab.research.google.com/notebooks/data_table.ipynb>data table notebook</a>'\n",
              "            + ' to learn more about interactive tables.';\n",
              "          element.innerHTML = '';\n",
              "          dataTable['output_type'] = 'display_data';\n",
              "          await google.colab.output.renderOutput(dataTable, element);\n",
              "          const docLink = document.createElement('div');\n",
              "          docLink.innerHTML = docLinkHtml;\n",
              "          element.appendChild(docLink);\n",
              "        }\n",
              "      </script>\n",
              "    </div>\n",
              "  </div>\n",
              "  "
            ]
          },
          "metadata": {},
          "execution_count": 30
        }
      ]
    },
    {
      "cell_type": "code",
      "source": [
        "print(X)\n",
        "print(y)"
      ],
      "metadata": {
        "colab": {
          "base_uri": "https://localhost:8080/"
        },
        "id": "ktQ40LSAkfYv",
        "outputId": "a7b2865a-a4ce-4806-e1a0-fef62ce5a93a"
      },
      "execution_count": 31,
      "outputs": [
        {
          "output_type": "stream",
          "name": "stdout",
          "text": [
            "[[-6.01020600e+01 -5.11612400e+02 -1.44567640e+02 ...  2.02273850e-01\n",
            "   6.22268020e-02  2.07084940e-01]\n",
            " [ 2.83524260e+02 -8.64845350e+01 -7.23580250e+01 ... -2.26418850e-01\n",
            "   2.10443820e-01 -2.70626070e-01]\n",
            " [-1.09372520e+02 -1.32780460e+02  4.10908280e+01 ...  1.37947480e-01\n",
            "  -8.00173600e-02 -1.25025870e-01]\n",
            " ...\n",
            " [-3.33598180e+02  3.23090400e+02 -2.75059480e+02 ... -4.04485230e-01\n",
            "  -8.86172100e-03 -1.16170526e-01]\n",
            " [-3.34778400e+02  3.10678700e+02 -2.75875270e+02 ... -4.43521320e-01\n",
            "   1.35212540e-02  5.35857560e-01]\n",
            " [-3.40661220e+02  3.11118130e+02 -2.78083280e+02 ...  4.72801450e-01\n",
            "   9.26933900e-02 -5.24574040e-01]]\n",
            "['NeuralTextures' 'NeuralTextures' 'NeuralTextures' ... 'Deepfakes'\n",
            " 'Deepfakes' 'Deepfakes']\n"
          ]
        }
      ]
    },
    {
      "cell_type": "markdown",
      "source": [
        "Split the dataset into training set and test set."
      ],
      "metadata": {
        "id": "w31ArOsShIzh"
      }
    },
    {
      "cell_type": "code",
      "source": [
        "X_train, X_test, y_train, y_test = model_selection.train_test_split(X, y, train_size=0.80, test_size=0.20, random_state=101)"
      ],
      "metadata": {
        "id": "LvOL2n5RiG-I"
      },
      "execution_count": 32,
      "outputs": []
    },
    {
      "cell_type": "markdown",
      "source": [
        "Initialise the 5-Fold Cross Validation"
      ],
      "metadata": {
        "id": "BGJIU29O5xmy"
      }
    },
    {
      "cell_type": "code",
      "source": [
        "kf = KFold(n_splits=5, shuffle=True, random_state=42)"
      ],
      "metadata": {
        "id": "k4Ia8Mlw5u-U"
      },
      "execution_count": 33,
      "outputs": []
    },
    {
      "cell_type": "markdown",
      "source": [
        "# Support Vector Machine"
      ],
      "metadata": {
        "id": "f6j7OOXnuARw"
      }
    },
    {
      "cell_type": "markdown",
      "source": [
        "Predict on Test Set."
      ],
      "metadata": {
        "id": "1TxTYVEYjaOm"
      }
    },
    {
      "cell_type": "code",
      "source": [
        "poly_accuracy, rbf_accuracy = 0, 0\n",
        "\n",
        "for train_index, test_index in kf.split(X):\n",
        "    \n",
        "    X_train, X_test = X[train_index], X[test_index]\n",
        "    y_train, y_test = y[train_index], y[test_index]\n",
        "\n",
        "    poly = svm.SVC(kernel='poly', degree=10, C=1).fit(X_train, y_train)\n",
        "    rbf = svm.SVC(kernel='rbf', gamma=1, C=1).fit(X_train, y_train)\n",
        "    \n",
        "    poly_pred = poly.predict(X_test)\n",
        "    rbf_pred = rbf.predict(X_test)\n",
        "    \n",
        "    poly_accuracy += accuracy_score(y_test, poly_pred)\n",
        "    rbf_accuracy += accuracy_score(y_test, rbf_pred)\n"
      ],
      "metadata": {
        "id": "_wK3I_rSjhYT"
      },
      "execution_count": 34,
      "outputs": []
    },
    {
      "cell_type": "markdown",
      "source": [
        "Outcomes."
      ],
      "metadata": {
        "id": "rzXS3KwJjwIv"
      }
    },
    {
      "cell_type": "code",
      "source": [
        "print('Accuracy (Polynomial Kernel): ', \"%.2f\" % (poly_accuracy/5*100) + \" %\")\n",
        "print('Accuracy (RBF Kernel): ', \"%.2f\" % (rbf_accuracy/5*100) + \" %\")\n",
        "\n",
        "poly_f1 = f1_score(y_test, poly_pred, average='weighted')\n",
        "print('F1 score (Polynomial Kernel): ', \"%.2f\" % (poly_f1*100))\n",
        "rbf_f1 = f1_score(y_test, rbf_pred, average='weighted')\n",
        "print('F1 score (RBF Kernel): ', \"%.2f\" % (rbf_f1*100))\n",
        "\n",
        "print('Confusion Matrix (Polynomial Kernel): \\n', confusion_matrix(y_test, poly_pred))\n",
        "print('Confusion Matrix (RBF Kernel): \\n',confusion_matrix(y_test, rbf_pred))"
      ],
      "metadata": {
        "colab": {
          "base_uri": "https://localhost:8080/"
        },
        "id": "wnTZnTApj0FW",
        "outputId": "f70f4ec6-2e5d-41e0-93b1-830cffc4e414"
      },
      "execution_count": 35,
      "outputs": [
        {
          "output_type": "stream",
          "name": "stdout",
          "text": [
            "Accuracy (Polynomial Kernel):  58.79 %\n",
            "Accuracy (RBF Kernel):  22.14 %\n",
            "F1 score (Polynomial Kernel):  57.97\n",
            "F1 score (RBF Kernel):  8.10\n",
            "Confusion Matrix (Polynomial Kernel): \n",
            " [[43  0 48  1]\n",
            " [ 1 33 34 11]\n",
            " [ 0  0 77  0]\n",
            " [ 5  5 29 32]]\n",
            "Confusion Matrix (RBF Kernel): \n",
            " [[ 0  0  0 92]\n",
            " [ 0  0  0 79]\n",
            " [ 0  0  0 77]\n",
            " [ 0  0  0 71]]\n"
          ]
        }
      ]
    },
    {
      "cell_type": "markdown",
      "source": [
        "# Random Forest"
      ],
      "metadata": {
        "id": "KsshkBd9uLqq"
      }
    },
    {
      "cell_type": "markdown",
      "source": [
        "Importing Libraries"
      ],
      "metadata": {
        "id": "JCDYD_Hmxe12"
      }
    },
    {
      "cell_type": "code",
      "source": [
        "from sklearn.preprocessing import StandardScaler\n",
        "from sklearn.ensemble import RandomForestClassifier"
      ],
      "metadata": {
        "id": "AjXH9ejvuOOf"
      },
      "execution_count": 36,
      "outputs": []
    },
    {
      "cell_type": "markdown",
      "source": [
        "Define the Classifier"
      ],
      "metadata": {
        "id": "N-vmH0Srxpj6"
      }
    },
    {
      "cell_type": "code",
      "source": [
        "classifier = RandomForestClassifier(n_estimators = 500, criterion = 'entropy', random_state = 42)"
      ],
      "metadata": {
        "id": "yWcUPtVAxibU"
      },
      "execution_count": 37,
      "outputs": []
    },
    {
      "cell_type": "markdown",
      "source": [
        "Predicting Test Set Results"
      ],
      "metadata": {
        "id": "_POan3ZCx16f"
      }
    },
    {
      "cell_type": "code",
      "source": [
        "rf_accuracy = 0\n",
        "\n",
        "for train_index, test_index in kf.split(X):\n",
        "    \n",
        "    X_train, X_test = X[train_index], X[test_index]\n",
        "    y_train, y_test = y[train_index], y[test_index]\n",
        "\n",
        "    classifier.fit(X_train, y_train)\n",
        "    \n",
        "    y_pred = classifier.predict(X_test)\n",
        "    \n",
        "    rf_accuracy += accuracy_score(y_test, y_pred)\n",
        "    "
      ],
      "metadata": {
        "id": "6Vfd8moExs3O"
      },
      "execution_count": 38,
      "outputs": []
    },
    {
      "cell_type": "markdown",
      "source": [
        "Outcomes"
      ],
      "metadata": {
        "id": "JHB5IQutyDqV"
      }
    },
    {
      "cell_type": "code",
      "source": [
        "rf_f1 = f1_score(y_test, y_pred, average='weighted')\n",
        "print('Accuracy (Random Forest): ', \"%.2f\" % (rf_accuracy/5*100) + \" %\")\n",
        "print('F1 (Random Forest): ', \"%.2f\" % (rf_f1*100))\n",
        "print(\"Confustion Matrix (Random Forest):\\n\", confusion_matrix(y_test, y_pred))"
      ],
      "metadata": {
        "colab": {
          "base_uri": "https://localhost:8080/"
        },
        "id": "HQjjjiGcyCzk",
        "outputId": "674d38ed-ad4e-4bfb-deb1-30b30b32c61d"
      },
      "execution_count": 39,
      "outputs": [
        {
          "output_type": "stream",
          "name": "stdout",
          "text": [
            "Accuracy (Random Forest):  87.49 %\n",
            "F1 (Random Forest):  90.60\n",
            "Confustion Matrix (Random Forest):\n",
            " [[84  0  7  1]\n",
            " [ 0 66  0 13]\n",
            " [ 1  0 76  0]\n",
            " [ 2  4  2 63]]\n"
          ]
        }
      ]
    },
    {
      "cell_type": "markdown",
      "source": [
        "# Decision Tree"
      ],
      "metadata": {
        "id": "o8OUpDOXi738"
      }
    },
    {
      "cell_type": "markdown",
      "source": [
        "Importing Libraries"
      ],
      "metadata": {
        "id": "ph4Mhd59i739"
      }
    },
    {
      "cell_type": "code",
      "source": [
        "from sklearn.tree import DecisionTreeClassifier"
      ],
      "metadata": {
        "id": "olQRMv3hi739"
      },
      "execution_count": 40,
      "outputs": []
    },
    {
      "cell_type": "markdown",
      "source": [
        "Define the Classifier"
      ],
      "metadata": {
        "id": "hrF8fHaqi739"
      }
    },
    {
      "cell_type": "code",
      "source": [
        "clf = DecisionTreeClassifier()"
      ],
      "metadata": {
        "id": "e40I6Ejhi739"
      },
      "execution_count": 41,
      "outputs": []
    },
    {
      "cell_type": "markdown",
      "source": [
        "Predicting Test Set Results"
      ],
      "metadata": {
        "id": "YYJqVEiei73-"
      }
    },
    {
      "cell_type": "code",
      "source": [
        "dt_accuracy = 0\n",
        "\n",
        "for train_index, test_index in kf.split(X):\n",
        "    \n",
        "    X_train, X_test = X[train_index], X[test_index]\n",
        "    y_train, y_test = y[train_index], y[test_index]\n",
        "\n",
        "    clf.fit(X_train, y_train)\n",
        "    \n",
        "    y_pred = clf.predict(X_test)\n",
        "    \n",
        "    dt_accuracy += accuracy_score(y_test, y_pred)"
      ],
      "metadata": {
        "id": "5ig7XkW2i73-"
      },
      "execution_count": 42,
      "outputs": []
    },
    {
      "cell_type": "markdown",
      "source": [
        "Outcomes"
      ],
      "metadata": {
        "id": "SUt8ABj5i73-"
      }
    },
    {
      "cell_type": "code",
      "source": [
        "dt_f1 = f1_score(y_test, y_pred, average='weighted')\n",
        "print('Accuracy (Decision Tree): ', \"%.2f\" % (dt_accuracy/5*100) + \" %\")\n",
        "print('F1 (Decision Tree): ', \"%.2f\" % (dt_f1*100))\n",
        "print(\"Confustion Matrix (Decision Tree):\\n\", confusion_matrix(y_test, y_pred))"
      ],
      "metadata": {
        "colab": {
          "base_uri": "https://localhost:8080/"
        },
        "outputId": "0be8fac9-2168-4f89-cc6a-cbb9bc361e3a",
        "id": "7d9MSKEEi73-"
      },
      "execution_count": 43,
      "outputs": [
        {
          "output_type": "stream",
          "name": "stdout",
          "text": [
            "Accuracy (Decision Tree):  60.48 %\n",
            "F1 (Decision Tree):  61.50\n",
            "Confustion Matrix (Decision Tree):\n",
            " [[65  8  8 11]\n",
            " [13 44  5 17]\n",
            " [15  9 44  9]\n",
            " [ 4 19  5 43]]\n"
          ]
        }
      ]
    },
    {
      "cell_type": "markdown",
      "source": [
        "# MultiClass Logistic Regression"
      ],
      "metadata": {
        "id": "e_7HkvXy4Uvd"
      }
    },
    {
      "cell_type": "markdown",
      "source": [
        "Import Libraries"
      ],
      "metadata": {
        "id": "UCA6d_MO4bkB"
      }
    },
    {
      "cell_type": "code",
      "source": [
        "from sklearn.linear_model import LogisticRegression"
      ],
      "metadata": {
        "id": "FIBCDHG54Zld"
      },
      "execution_count": 44,
      "outputs": []
    },
    {
      "cell_type": "markdown",
      "source": [
        "Define Classifier."
      ],
      "metadata": {
        "id": "wUlINgaj4kjv"
      }
    },
    {
      "cell_type": "code",
      "source": [
        "classifier = LogisticRegression(multi_class='auto', solver='sag')"
      ],
      "metadata": {
        "id": "8_WxvViT4jia"
      },
      "execution_count": 45,
      "outputs": []
    },
    {
      "cell_type": "markdown",
      "source": [
        "\n",
        "Predicting Test Set Results."
      ],
      "metadata": {
        "id": "VYF55C1M4yrz"
      }
    },
    {
      "cell_type": "code",
      "source": [
        "lr_accuracy = 0\n",
        "\n",
        "for train_index, test_index in kf.split(X):\n",
        "    \n",
        "    X_train, X_test = X[train_index], X[test_index]\n",
        "    y_train, y_test = y[train_index], y[test_index]\n",
        "\n",
        "    classifier.fit(X_train, y_train)\n",
        "    \n",
        "    y_pred = classifier.predict(X_test)\n",
        "    \n",
        "    lr_accuracy += accuracy_score(y_test, y_pred)\n"
      ],
      "metadata": {
        "id": "sTpD5Y-54sam",
        "colab": {
          "base_uri": "https://localhost:8080/"
        },
        "outputId": "a6e8b49d-1151-4de8-872f-ac4f7d5db8aa"
      },
      "execution_count": 46,
      "outputs": [
        {
          "output_type": "stream",
          "name": "stderr",
          "text": [
            "/usr/local/lib/python3.8/dist-packages/sklearn/linear_model/_sag.py:352: ConvergenceWarning: The max_iter was reached which means the coef_ did not converge\n",
            "  warnings.warn(\n",
            "/usr/local/lib/python3.8/dist-packages/sklearn/linear_model/_sag.py:352: ConvergenceWarning: The max_iter was reached which means the coef_ did not converge\n",
            "  warnings.warn(\n",
            "/usr/local/lib/python3.8/dist-packages/sklearn/linear_model/_sag.py:352: ConvergenceWarning: The max_iter was reached which means the coef_ did not converge\n",
            "  warnings.warn(\n",
            "/usr/local/lib/python3.8/dist-packages/sklearn/linear_model/_sag.py:352: ConvergenceWarning: The max_iter was reached which means the coef_ did not converge\n",
            "  warnings.warn(\n",
            "/usr/local/lib/python3.8/dist-packages/sklearn/linear_model/_sag.py:352: ConvergenceWarning: The max_iter was reached which means the coef_ did not converge\n",
            "  warnings.warn(\n"
          ]
        }
      ]
    },
    {
      "cell_type": "markdown",
      "source": [
        "Outcomes"
      ],
      "metadata": {
        "id": "MRQ-XRm05Hgy"
      }
    },
    {
      "cell_type": "code",
      "source": [
        "lr_f1 = f1_score(y_test, y_pred, average='weighted')\n",
        "print('Accuracy (Logistic Regression): ', \"%.2f\" % (lr_accuracy/5*100) + \" %\")\n",
        "print('F1 (Logistic Regression): ', \"%.2f\" % (lr_f1*100))\n",
        "print(\"Confusion Matrix (Logistic Regression):\\n\", confusion_matrix(y_test, y_pred))"
      ],
      "metadata": {
        "colab": {
          "base_uri": "https://localhost:8080/"
        },
        "id": "KND_p0Vt45nM",
        "outputId": "a465a25a-0fab-4d59-8f6c-007514cc9f7b"
      },
      "execution_count": 47,
      "outputs": [
        {
          "output_type": "stream",
          "name": "stdout",
          "text": [
            "Accuracy (Logistic Regression):  95.12 %\n",
            "F1 (Logistic Regression):  95.62\n",
            "Confusion Matrix (Logistic Regression):\n",
            " [[89  0  2  1]\n",
            " [ 0 75  0  4]\n",
            " [ 2  0 74  1]\n",
            " [ 0  4  0 67]]\n"
          ]
        }
      ]
    },
    {
      "cell_type": "markdown",
      "source": [
        "# KNN"
      ],
      "metadata": {
        "id": "GbukmnXKhLdd"
      }
    },
    {
      "cell_type": "markdown",
      "source": [
        "Importing Libraries"
      ],
      "metadata": {
        "id": "h86SS70ahWVM"
      }
    },
    {
      "cell_type": "code",
      "source": [
        "from sklearn.neighbors import KNeighborsClassifier"
      ],
      "metadata": {
        "id": "Z569Y7gqhhAZ"
      },
      "execution_count": 48,
      "outputs": []
    },
    {
      "cell_type": "markdown",
      "source": [
        "Define the Classifier"
      ],
      "metadata": {
        "id": "r4y7MRgShWVM"
      }
    },
    {
      "cell_type": "code",
      "source": [
        "knn = KNeighborsClassifier(n_neighbors=5)"
      ],
      "metadata": {
        "id": "V4zmKZd9hmTV"
      },
      "execution_count": 49,
      "outputs": []
    },
    {
      "cell_type": "markdown",
      "source": [
        "Predicting Test Set Results"
      ],
      "metadata": {
        "id": "n4PFLh--hWVN"
      }
    },
    {
      "cell_type": "code",
      "source": [
        "knn_accuracy = 0\n",
        "\n",
        "for train_index, test_index in kf.split(X):\n",
        "    \n",
        "    X_train, X_test = X[train_index], X[test_index]\n",
        "    y_train, y_test = y[train_index], y[test_index]\n",
        "\n",
        "    knn.fit(X_train, y_train)\n",
        "    \n",
        "    y_pred = knn.predict(X_test)\n",
        "    \n",
        "    knn_accuracy += accuracy_score(y_test, y_pred)"
      ],
      "metadata": {
        "id": "WrzAI0ZOhqj_"
      },
      "execution_count": 50,
      "outputs": []
    },
    {
      "cell_type": "markdown",
      "source": [
        "Outcomes"
      ],
      "metadata": {
        "id": "ePgDseAEhWVN"
      }
    },
    {
      "cell_type": "code",
      "source": [
        "knn_f1 = f1_score(y_test, y_pred, average='weighted')\n",
        "print('Accuracy (KNN): ', \"%.2f\" % (knn_accuracy/5*100) + \" %\")\n",
        "print('F1 (KNN): ', \"%.2f\" % (knn_f1*100))\n",
        "print(\"Confustion Matrix (KNN):\\n\", confusion_matrix(y_test, y_pred))"
      ],
      "metadata": {
        "colab": {
          "base_uri": "https://localhost:8080/"
        },
        "id": "ltG6IZWGiLAO",
        "outputId": "eafcb30d-8138-4b2d-8baa-96611b775321"
      },
      "execution_count": 51,
      "outputs": [
        {
          "output_type": "stream",
          "name": "stdout",
          "text": [
            "Accuracy (KNN):  78.42 %\n",
            "F1 (KNN):  76.23\n",
            "Confustion Matrix (KNN):\n",
            " [[78  3  9  2]\n",
            " [ 1 54  2 22]\n",
            " [10  3 63  1]\n",
            " [ 3 19  1 48]]\n"
          ]
        }
      ]
    }
  ]
}