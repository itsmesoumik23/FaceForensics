{
  "nbformat": 4,
  "nbformat_minor": 0,
  "metadata": {
    "colab": {
      "provenance": []
    },
    "kernelspec": {
      "name": "python3",
      "display_name": "Python 3"
    },
    "language_info": {
      "name": "python"
    }
  },
  "cells": [
    {
      "cell_type": "markdown",
      "source": [
        "# Data Preprocessing"
      ],
      "metadata": {
        "id": "sNVb-Bh5d9TA"
      }
    },
    {
      "cell_type": "markdown",
      "source": [
        "Importing Libraries"
      ],
      "metadata": {
        "id": "4M8awjZueJ8L"
      }
    },
    {
      "cell_type": "code",
      "execution_count": null,
      "metadata": {
        "id": "Q9zGNCFzLg_T"
      },
      "outputs": [],
      "source": [
        "from sklearn import svm, datasets\n",
        "import sklearn.model_selection as model_selection\n",
        "from sklearn.model_selection import KFold\n",
        "from sklearn.metrics import accuracy_score\n",
        "from sklearn.metrics import f1_score\n",
        "from sklearn.metrics import confusion_matrix\n",
        "import numpy as np\n",
        "import pandas as pd"
      ]
    },
    {
      "cell_type": "markdown",
      "source": [
        "Loading the dataset"
      ],
      "metadata": {
        "id": "7-u_y9CbeNCd"
      }
    },
    {
      "cell_type": "code",
      "source": [
        "dataset = pd.read_csv('features_resnet_50.csv', on_bad_lines='skip')\n",
        "X = dataset.iloc[ 1 : , 1 : ].values\n",
        "y = dataset.iloc[ 1 : , 0 ].values\n",
        "dataset"
      ],
      "metadata": {
        "id": "lgTYNV1gL-zW",
        "colab": {
          "base_uri": "https://localhost:8080/",
          "height": 487
        },
        "outputId": "39f1d5bc-47f4-49b0-95d3-289fdd688634"
      },
      "execution_count": null,
      "outputs": [
        {
          "output_type": "execute_result",
          "data": {
            "text/plain": [
              "            category   feature_0   feature_1   feature_2   feature_3  \\\n",
              "0     NeuralTextures -208.830640  -51.366436   22.105505 -147.724580   \n",
              "1     NeuralTextures -206.798250  -51.171688   21.357613 -145.072200   \n",
              "2     NeuralTextures   44.855625  163.526350   28.992188   -0.194592   \n",
              "3     NeuralTextures -108.299500   41.846737  -44.416473   21.699093   \n",
              "4     NeuralTextures -109.370780   41.092896  -48.564682   25.477957   \n",
              "...              ...         ...         ...         ...         ...   \n",
              "1595       Deepfakes   97.526540  -81.080696 -157.692370  -52.393520   \n",
              "1596       Deepfakes   98.847750  -81.677690 -158.850280  -51.383717   \n",
              "1597       Deepfakes   98.551970  -80.302120 -159.712360  -49.903286   \n",
              "1598       Deepfakes  101.743590  -78.321690 -159.565730  -47.564743   \n",
              "1599       Deepfakes  103.073380  -77.581210 -158.974470  -45.069256   \n",
              "\n",
              "       feature_4  feature_5   feature_6  feature_7   feature_8  ...  \\\n",
              "0    -118.696495  70.681854 -158.035980 -60.336370  -81.641150  ...   \n",
              "1    -119.500336  68.893486 -152.899750 -60.237330  -81.942690  ...   \n",
              "2    -166.357700 -21.432076  -11.083757 -74.018010   85.272380  ...   \n",
              "3     -28.603456 -30.288048  209.787800  -5.704433  241.421000  ...   \n",
              "4     -24.968306 -32.800940  216.076190  -5.125932  248.847930  ...   \n",
              "...          ...        ...         ...        ...         ...  ...   \n",
              "1595   50.411045  30.970957  -65.768430   0.526890  -39.739212  ...   \n",
              "1596   51.222370  30.486883  -64.718030   0.617533  -39.304176  ...   \n",
              "1597   53.196720  30.995779  -63.454690  -0.744103  -36.466087  ...   \n",
              "1598   52.495888  30.036093  -59.953506  -0.897982  -36.605667  ...   \n",
              "1599   51.760010  29.242886  -60.385540  -1.974360  -33.983530  ...   \n",
              "\n",
              "      feature_1490  feature_1491  feature_1492  feature_1493  feature_1494  \\\n",
              "0         0.174770     -1.024955      0.550097     -0.667983     -0.249598   \n",
              "1        -0.265358      1.619639     -0.884596      1.297069      0.422281   \n",
              "2         0.049644      0.086908     -0.163586      0.283276     -0.606649   \n",
              "3         0.015077      0.121308     -0.113433     -0.103224      0.018173   \n",
              "4        -0.190528     -0.182551      0.064347      0.007614      0.026868   \n",
              "...            ...           ...           ...           ...           ...   \n",
              "1595     -0.859035      0.863212     -0.414095     -0.128424     -0.070445   \n",
              "1596      1.220299     -1.267858      0.270246      0.313363     -0.955972   \n",
              "1597      0.128490      0.434769     -0.033786     -0.569766      0.682816   \n",
              "1598      0.082850      0.169240     -0.037573     -0.011322      0.237362   \n",
              "1599     -0.433496     -0.163121      0.231701      0.475260     -0.313500   \n",
              "\n",
              "      feature_1495  feature_1496  feature_1497  feature_1498  feature_1499  \n",
              "0        -0.086514      0.051813     -0.193782     -0.875143      0.800290  \n",
              "1         0.205003      0.507595      0.606314      0.987814     -1.014394  \n",
              "2         0.081803      0.171576     -0.155878     -0.274118      0.340998  \n",
              "3         0.129763     -0.034330     -0.021882     -0.070459     -0.014453  \n",
              "4        -0.092080      0.023531      0.002670      0.140599      0.006854  \n",
              "...            ...           ...           ...           ...           ...  \n",
              "1595     -0.354402     -0.626486     -0.890920     -0.251958     -0.065793  \n",
              "1596     -0.371023      0.307595      0.910387      0.288813     -0.773428  \n",
              "1597      0.234970     -0.380222      0.207625     -0.006370      0.762144  \n",
              "1598      0.003830      0.058504     -0.241213      0.124224      0.186105  \n",
              "1599      0.191366      0.395823      0.017169     -0.231599     -0.428510  \n",
              "\n",
              "[1600 rows x 1501 columns]"
            ],
            "text/html": [
              "\n",
              "  <div id=\"df-1526f036-d732-4eb1-a3ff-89387d1eb778\">\n",
              "    <div class=\"colab-df-container\">\n",
              "      <div>\n",
              "<style scoped>\n",
              "    .dataframe tbody tr th:only-of-type {\n",
              "        vertical-align: middle;\n",
              "    }\n",
              "\n",
              "    .dataframe tbody tr th {\n",
              "        vertical-align: top;\n",
              "    }\n",
              "\n",
              "    .dataframe thead th {\n",
              "        text-align: right;\n",
              "    }\n",
              "</style>\n",
              "<table border=\"1\" class=\"dataframe\">\n",
              "  <thead>\n",
              "    <tr style=\"text-align: right;\">\n",
              "      <th></th>\n",
              "      <th>category</th>\n",
              "      <th>feature_0</th>\n",
              "      <th>feature_1</th>\n",
              "      <th>feature_2</th>\n",
              "      <th>feature_3</th>\n",
              "      <th>feature_4</th>\n",
              "      <th>feature_5</th>\n",
              "      <th>feature_6</th>\n",
              "      <th>feature_7</th>\n",
              "      <th>feature_8</th>\n",
              "      <th>...</th>\n",
              "      <th>feature_1490</th>\n",
              "      <th>feature_1491</th>\n",
              "      <th>feature_1492</th>\n",
              "      <th>feature_1493</th>\n",
              "      <th>feature_1494</th>\n",
              "      <th>feature_1495</th>\n",
              "      <th>feature_1496</th>\n",
              "      <th>feature_1497</th>\n",
              "      <th>feature_1498</th>\n",
              "      <th>feature_1499</th>\n",
              "    </tr>\n",
              "  </thead>\n",
              "  <tbody>\n",
              "    <tr>\n",
              "      <th>0</th>\n",
              "      <td>NeuralTextures</td>\n",
              "      <td>-208.830640</td>\n",
              "      <td>-51.366436</td>\n",
              "      <td>22.105505</td>\n",
              "      <td>-147.724580</td>\n",
              "      <td>-118.696495</td>\n",
              "      <td>70.681854</td>\n",
              "      <td>-158.035980</td>\n",
              "      <td>-60.336370</td>\n",
              "      <td>-81.641150</td>\n",
              "      <td>...</td>\n",
              "      <td>0.174770</td>\n",
              "      <td>-1.024955</td>\n",
              "      <td>0.550097</td>\n",
              "      <td>-0.667983</td>\n",
              "      <td>-0.249598</td>\n",
              "      <td>-0.086514</td>\n",
              "      <td>0.051813</td>\n",
              "      <td>-0.193782</td>\n",
              "      <td>-0.875143</td>\n",
              "      <td>0.800290</td>\n",
              "    </tr>\n",
              "    <tr>\n",
              "      <th>1</th>\n",
              "      <td>NeuralTextures</td>\n",
              "      <td>-206.798250</td>\n",
              "      <td>-51.171688</td>\n",
              "      <td>21.357613</td>\n",
              "      <td>-145.072200</td>\n",
              "      <td>-119.500336</td>\n",
              "      <td>68.893486</td>\n",
              "      <td>-152.899750</td>\n",
              "      <td>-60.237330</td>\n",
              "      <td>-81.942690</td>\n",
              "      <td>...</td>\n",
              "      <td>-0.265358</td>\n",
              "      <td>1.619639</td>\n",
              "      <td>-0.884596</td>\n",
              "      <td>1.297069</td>\n",
              "      <td>0.422281</td>\n",
              "      <td>0.205003</td>\n",
              "      <td>0.507595</td>\n",
              "      <td>0.606314</td>\n",
              "      <td>0.987814</td>\n",
              "      <td>-1.014394</td>\n",
              "    </tr>\n",
              "    <tr>\n",
              "      <th>2</th>\n",
              "      <td>NeuralTextures</td>\n",
              "      <td>44.855625</td>\n",
              "      <td>163.526350</td>\n",
              "      <td>28.992188</td>\n",
              "      <td>-0.194592</td>\n",
              "      <td>-166.357700</td>\n",
              "      <td>-21.432076</td>\n",
              "      <td>-11.083757</td>\n",
              "      <td>-74.018010</td>\n",
              "      <td>85.272380</td>\n",
              "      <td>...</td>\n",
              "      <td>0.049644</td>\n",
              "      <td>0.086908</td>\n",
              "      <td>-0.163586</td>\n",
              "      <td>0.283276</td>\n",
              "      <td>-0.606649</td>\n",
              "      <td>0.081803</td>\n",
              "      <td>0.171576</td>\n",
              "      <td>-0.155878</td>\n",
              "      <td>-0.274118</td>\n",
              "      <td>0.340998</td>\n",
              "    </tr>\n",
              "    <tr>\n",
              "      <th>3</th>\n",
              "      <td>NeuralTextures</td>\n",
              "      <td>-108.299500</td>\n",
              "      <td>41.846737</td>\n",
              "      <td>-44.416473</td>\n",
              "      <td>21.699093</td>\n",
              "      <td>-28.603456</td>\n",
              "      <td>-30.288048</td>\n",
              "      <td>209.787800</td>\n",
              "      <td>-5.704433</td>\n",
              "      <td>241.421000</td>\n",
              "      <td>...</td>\n",
              "      <td>0.015077</td>\n",
              "      <td>0.121308</td>\n",
              "      <td>-0.113433</td>\n",
              "      <td>-0.103224</td>\n",
              "      <td>0.018173</td>\n",
              "      <td>0.129763</td>\n",
              "      <td>-0.034330</td>\n",
              "      <td>-0.021882</td>\n",
              "      <td>-0.070459</td>\n",
              "      <td>-0.014453</td>\n",
              "    </tr>\n",
              "    <tr>\n",
              "      <th>4</th>\n",
              "      <td>NeuralTextures</td>\n",
              "      <td>-109.370780</td>\n",
              "      <td>41.092896</td>\n",
              "      <td>-48.564682</td>\n",
              "      <td>25.477957</td>\n",
              "      <td>-24.968306</td>\n",
              "      <td>-32.800940</td>\n",
              "      <td>216.076190</td>\n",
              "      <td>-5.125932</td>\n",
              "      <td>248.847930</td>\n",
              "      <td>...</td>\n",
              "      <td>-0.190528</td>\n",
              "      <td>-0.182551</td>\n",
              "      <td>0.064347</td>\n",
              "      <td>0.007614</td>\n",
              "      <td>0.026868</td>\n",
              "      <td>-0.092080</td>\n",
              "      <td>0.023531</td>\n",
              "      <td>0.002670</td>\n",
              "      <td>0.140599</td>\n",
              "      <td>0.006854</td>\n",
              "    </tr>\n",
              "    <tr>\n",
              "      <th>...</th>\n",
              "      <td>...</td>\n",
              "      <td>...</td>\n",
              "      <td>...</td>\n",
              "      <td>...</td>\n",
              "      <td>...</td>\n",
              "      <td>...</td>\n",
              "      <td>...</td>\n",
              "      <td>...</td>\n",
              "      <td>...</td>\n",
              "      <td>...</td>\n",
              "      <td>...</td>\n",
              "      <td>...</td>\n",
              "      <td>...</td>\n",
              "      <td>...</td>\n",
              "      <td>...</td>\n",
              "      <td>...</td>\n",
              "      <td>...</td>\n",
              "      <td>...</td>\n",
              "      <td>...</td>\n",
              "      <td>...</td>\n",
              "      <td>...</td>\n",
              "    </tr>\n",
              "    <tr>\n",
              "      <th>1595</th>\n",
              "      <td>Deepfakes</td>\n",
              "      <td>97.526540</td>\n",
              "      <td>-81.080696</td>\n",
              "      <td>-157.692370</td>\n",
              "      <td>-52.393520</td>\n",
              "      <td>50.411045</td>\n",
              "      <td>30.970957</td>\n",
              "      <td>-65.768430</td>\n",
              "      <td>0.526890</td>\n",
              "      <td>-39.739212</td>\n",
              "      <td>...</td>\n",
              "      <td>-0.859035</td>\n",
              "      <td>0.863212</td>\n",
              "      <td>-0.414095</td>\n",
              "      <td>-0.128424</td>\n",
              "      <td>-0.070445</td>\n",
              "      <td>-0.354402</td>\n",
              "      <td>-0.626486</td>\n",
              "      <td>-0.890920</td>\n",
              "      <td>-0.251958</td>\n",
              "      <td>-0.065793</td>\n",
              "    </tr>\n",
              "    <tr>\n",
              "      <th>1596</th>\n",
              "      <td>Deepfakes</td>\n",
              "      <td>98.847750</td>\n",
              "      <td>-81.677690</td>\n",
              "      <td>-158.850280</td>\n",
              "      <td>-51.383717</td>\n",
              "      <td>51.222370</td>\n",
              "      <td>30.486883</td>\n",
              "      <td>-64.718030</td>\n",
              "      <td>0.617533</td>\n",
              "      <td>-39.304176</td>\n",
              "      <td>...</td>\n",
              "      <td>1.220299</td>\n",
              "      <td>-1.267858</td>\n",
              "      <td>0.270246</td>\n",
              "      <td>0.313363</td>\n",
              "      <td>-0.955972</td>\n",
              "      <td>-0.371023</td>\n",
              "      <td>0.307595</td>\n",
              "      <td>0.910387</td>\n",
              "      <td>0.288813</td>\n",
              "      <td>-0.773428</td>\n",
              "    </tr>\n",
              "    <tr>\n",
              "      <th>1597</th>\n",
              "      <td>Deepfakes</td>\n",
              "      <td>98.551970</td>\n",
              "      <td>-80.302120</td>\n",
              "      <td>-159.712360</td>\n",
              "      <td>-49.903286</td>\n",
              "      <td>53.196720</td>\n",
              "      <td>30.995779</td>\n",
              "      <td>-63.454690</td>\n",
              "      <td>-0.744103</td>\n",
              "      <td>-36.466087</td>\n",
              "      <td>...</td>\n",
              "      <td>0.128490</td>\n",
              "      <td>0.434769</td>\n",
              "      <td>-0.033786</td>\n",
              "      <td>-0.569766</td>\n",
              "      <td>0.682816</td>\n",
              "      <td>0.234970</td>\n",
              "      <td>-0.380222</td>\n",
              "      <td>0.207625</td>\n",
              "      <td>-0.006370</td>\n",
              "      <td>0.762144</td>\n",
              "    </tr>\n",
              "    <tr>\n",
              "      <th>1598</th>\n",
              "      <td>Deepfakes</td>\n",
              "      <td>101.743590</td>\n",
              "      <td>-78.321690</td>\n",
              "      <td>-159.565730</td>\n",
              "      <td>-47.564743</td>\n",
              "      <td>52.495888</td>\n",
              "      <td>30.036093</td>\n",
              "      <td>-59.953506</td>\n",
              "      <td>-0.897982</td>\n",
              "      <td>-36.605667</td>\n",
              "      <td>...</td>\n",
              "      <td>0.082850</td>\n",
              "      <td>0.169240</td>\n",
              "      <td>-0.037573</td>\n",
              "      <td>-0.011322</td>\n",
              "      <td>0.237362</td>\n",
              "      <td>0.003830</td>\n",
              "      <td>0.058504</td>\n",
              "      <td>-0.241213</td>\n",
              "      <td>0.124224</td>\n",
              "      <td>0.186105</td>\n",
              "    </tr>\n",
              "    <tr>\n",
              "      <th>1599</th>\n",
              "      <td>Deepfakes</td>\n",
              "      <td>103.073380</td>\n",
              "      <td>-77.581210</td>\n",
              "      <td>-158.974470</td>\n",
              "      <td>-45.069256</td>\n",
              "      <td>51.760010</td>\n",
              "      <td>29.242886</td>\n",
              "      <td>-60.385540</td>\n",
              "      <td>-1.974360</td>\n",
              "      <td>-33.983530</td>\n",
              "      <td>...</td>\n",
              "      <td>-0.433496</td>\n",
              "      <td>-0.163121</td>\n",
              "      <td>0.231701</td>\n",
              "      <td>0.475260</td>\n",
              "      <td>-0.313500</td>\n",
              "      <td>0.191366</td>\n",
              "      <td>0.395823</td>\n",
              "      <td>0.017169</td>\n",
              "      <td>-0.231599</td>\n",
              "      <td>-0.428510</td>\n",
              "    </tr>\n",
              "  </tbody>\n",
              "</table>\n",
              "<p>1600 rows × 1501 columns</p>\n",
              "</div>\n",
              "      <button class=\"colab-df-convert\" onclick=\"convertToInteractive('df-1526f036-d732-4eb1-a3ff-89387d1eb778')\"\n",
              "              title=\"Convert this dataframe to an interactive table.\"\n",
              "              style=\"display:none;\">\n",
              "        \n",
              "  <svg xmlns=\"http://www.w3.org/2000/svg\" height=\"24px\"viewBox=\"0 0 24 24\"\n",
              "       width=\"24px\">\n",
              "    <path d=\"M0 0h24v24H0V0z\" fill=\"none\"/>\n",
              "    <path d=\"M18.56 5.44l.94 2.06.94-2.06 2.06-.94-2.06-.94-.94-2.06-.94 2.06-2.06.94zm-11 1L8.5 8.5l.94-2.06 2.06-.94-2.06-.94L8.5 2.5l-.94 2.06-2.06.94zm10 10l.94 2.06.94-2.06 2.06-.94-2.06-.94-.94-2.06-.94 2.06-2.06.94z\"/><path d=\"M17.41 7.96l-1.37-1.37c-.4-.4-.92-.59-1.43-.59-.52 0-1.04.2-1.43.59L10.3 9.45l-7.72 7.72c-.78.78-.78 2.05 0 2.83L4 21.41c.39.39.9.59 1.41.59.51 0 1.02-.2 1.41-.59l7.78-7.78 2.81-2.81c.8-.78.8-2.07 0-2.86zM5.41 20L4 18.59l7.72-7.72 1.47 1.35L5.41 20z\"/>\n",
              "  </svg>\n",
              "      </button>\n",
              "      \n",
              "  <style>\n",
              "    .colab-df-container {\n",
              "      display:flex;\n",
              "      flex-wrap:wrap;\n",
              "      gap: 12px;\n",
              "    }\n",
              "\n",
              "    .colab-df-convert {\n",
              "      background-color: #E8F0FE;\n",
              "      border: none;\n",
              "      border-radius: 50%;\n",
              "      cursor: pointer;\n",
              "      display: none;\n",
              "      fill: #1967D2;\n",
              "      height: 32px;\n",
              "      padding: 0 0 0 0;\n",
              "      width: 32px;\n",
              "    }\n",
              "\n",
              "    .colab-df-convert:hover {\n",
              "      background-color: #E2EBFA;\n",
              "      box-shadow: 0px 1px 2px rgba(60, 64, 67, 0.3), 0px 1px 3px 1px rgba(60, 64, 67, 0.15);\n",
              "      fill: #174EA6;\n",
              "    }\n",
              "\n",
              "    [theme=dark] .colab-df-convert {\n",
              "      background-color: #3B4455;\n",
              "      fill: #D2E3FC;\n",
              "    }\n",
              "\n",
              "    [theme=dark] .colab-df-convert:hover {\n",
              "      background-color: #434B5C;\n",
              "      box-shadow: 0px 1px 3px 1px rgba(0, 0, 0, 0.15);\n",
              "      filter: drop-shadow(0px 1px 2px rgba(0, 0, 0, 0.3));\n",
              "      fill: #FFFFFF;\n",
              "    }\n",
              "  </style>\n",
              "\n",
              "      <script>\n",
              "        const buttonEl =\n",
              "          document.querySelector('#df-1526f036-d732-4eb1-a3ff-89387d1eb778 button.colab-df-convert');\n",
              "        buttonEl.style.display =\n",
              "          google.colab.kernel.accessAllowed ? 'block' : 'none';\n",
              "\n",
              "        async function convertToInteractive(key) {\n",
              "          const element = document.querySelector('#df-1526f036-d732-4eb1-a3ff-89387d1eb778');\n",
              "          const dataTable =\n",
              "            await google.colab.kernel.invokeFunction('convertToInteractive',\n",
              "                                                     [key], {});\n",
              "          if (!dataTable) return;\n",
              "\n",
              "          const docLinkHtml = 'Like what you see? Visit the ' +\n",
              "            '<a target=\"_blank\" href=https://colab.research.google.com/notebooks/data_table.ipynb>data table notebook</a>'\n",
              "            + ' to learn more about interactive tables.';\n",
              "          element.innerHTML = '';\n",
              "          dataTable['output_type'] = 'display_data';\n",
              "          await google.colab.output.renderOutput(dataTable, element);\n",
              "          const docLink = document.createElement('div');\n",
              "          docLink.innerHTML = docLinkHtml;\n",
              "          element.appendChild(docLink);\n",
              "        }\n",
              "      </script>\n",
              "    </div>\n",
              "  </div>\n",
              "  "
            ]
          },
          "metadata": {},
          "execution_count": 4
        }
      ]
    },
    {
      "cell_type": "markdown",
      "source": [
        "Split the dataset into training set and test set."
      ],
      "metadata": {
        "id": "w31ArOsShIzh"
      }
    },
    {
      "cell_type": "code",
      "source": [
        "X_train, X_test, y_train, y_test = model_selection.train_test_split(X, y, train_size=0.80, test_size=0.20, random_state=101)"
      ],
      "metadata": {
        "id": "LvOL2n5RiG-I"
      },
      "execution_count": null,
      "outputs": []
    },
    {
      "cell_type": "markdown",
      "source": [
        "Initialise the 5-Fold Cross Validation"
      ],
      "metadata": {
        "id": "BGJIU29O5xmy"
      }
    },
    {
      "cell_type": "code",
      "source": [
        "kf = KFold(n_splits=5, shuffle=True, random_state=42)"
      ],
      "metadata": {
        "id": "k4Ia8Mlw5u-U"
      },
      "execution_count": null,
      "outputs": []
    },
    {
      "cell_type": "markdown",
      "source": [
        "# Support Vector Machine"
      ],
      "metadata": {
        "id": "f6j7OOXnuARw"
      }
    },
    {
      "cell_type": "markdown",
      "source": [
        "Predict on Test Set."
      ],
      "metadata": {
        "id": "1TxTYVEYjaOm"
      }
    },
    {
      "cell_type": "code",
      "source": [
        "poly_accuracy, rbf_accuracy = 0, 0\n",
        "\n",
        "for train_index, test_index in kf.split(X):\n",
        "    \n",
        "    X_train, X_test = X[train_index], X[test_index]\n",
        "    y_train, y_test = y[train_index], y[test_index]\n",
        "\n",
        "    poly = svm.SVC(kernel='poly', degree=10, C=1).fit(X_train, y_train)\n",
        "    rbf = svm.SVC(kernel='rbf', gamma=1, C=1).fit(X_train, y_train)\n",
        "    \n",
        "    poly_pred = poly.predict(X_test)\n",
        "    rbf_pred = rbf.predict(X_test)\n",
        "    \n",
        "    poly_accuracy += accuracy_score(y_test, poly_pred)\n",
        "    rbf_accuracy += accuracy_score(y_test, rbf_pred)\n"
      ],
      "metadata": {
        "id": "_wK3I_rSjhYT"
      },
      "execution_count": null,
      "outputs": []
    },
    {
      "cell_type": "markdown",
      "source": [
        "Outcomes."
      ],
      "metadata": {
        "id": "rzXS3KwJjwIv"
      }
    },
    {
      "cell_type": "code",
      "source": [
        "print('Accuracy (Polynomial Kernel): ', \"%.2f\" % (poly_accuracy/5*100) + \" %\")\n",
        "print('Accuracy (RBF Kernel): ', \"%.2f\" % (rbf_accuracy/5*100) + \" %\")\n",
        "\n",
        "poly_f1 = f1_score(y_test, poly_pred, average='weighted')\n",
        "print('F1 score (Polynomial Kernel): ', \"%.2f\" % (poly_f1*100))\n",
        "rbf_f1 = f1_score(y_test, rbf_pred, average='weighted')\n",
        "print('F1 score (RBF Kernel): ', \"%.2f\" % (rbf_f1*100))\n",
        "\n",
        "print('Confusion Matrix (Polynomial Kernel): \\n', confusion_matrix(y_test, poly_pred))\n",
        "print('Confusion Matrix (RBF Kernel): \\n',confusion_matrix(y_test, rbf_pred))"
      ],
      "metadata": {
        "colab": {
          "base_uri": "https://localhost:8080/"
        },
        "id": "wnTZnTApj0FW",
        "outputId": "661c7a02-9a52-4b76-896b-d40a40306283"
      },
      "execution_count": null,
      "outputs": [
        {
          "output_type": "stream",
          "name": "stdout",
          "text": [
            "Accuracy (Polynomial Kernel):  70.54 %\n",
            "Accuracy (RBF Kernel):  22.08 %\n",
            "F1 score (Polynomial Kernel):  68.52\n",
            "F1 score (RBF Kernel):  8.10\n",
            "Confusion Matrix (Polynomial Kernel): \n",
            " [[66  0  5 21]\n",
            " [ 1 39  3 36]\n",
            " [ 4  4 48 21]\n",
            " [ 2  3  4 62]]\n",
            "Confusion Matrix (RBF Kernel): \n",
            " [[ 0  0  0 92]\n",
            " [ 0  0  0 79]\n",
            " [ 0  0  0 77]\n",
            " [ 0  0  0 71]]\n"
          ]
        }
      ]
    },
    {
      "cell_type": "markdown",
      "source": [
        "# Random Forest"
      ],
      "metadata": {
        "id": "KsshkBd9uLqq"
      }
    },
    {
      "cell_type": "markdown",
      "source": [
        "Importing Libraries"
      ],
      "metadata": {
        "id": "JCDYD_Hmxe12"
      }
    },
    {
      "cell_type": "code",
      "source": [
        "from sklearn.preprocessing import StandardScaler\n",
        "from sklearn.ensemble import RandomForestClassifier"
      ],
      "metadata": {
        "id": "AjXH9ejvuOOf"
      },
      "execution_count": null,
      "outputs": []
    },
    {
      "cell_type": "markdown",
      "source": [
        "Define the Classifier"
      ],
      "metadata": {
        "id": "N-vmH0Srxpj6"
      }
    },
    {
      "cell_type": "code",
      "source": [
        "classifier = RandomForestClassifier(n_estimators = 500, criterion = 'entropy', random_state = 42)"
      ],
      "metadata": {
        "id": "yWcUPtVAxibU"
      },
      "execution_count": null,
      "outputs": []
    },
    {
      "cell_type": "markdown",
      "source": [
        "Predicting Test Set Results"
      ],
      "metadata": {
        "id": "_POan3ZCx16f"
      }
    },
    {
      "cell_type": "code",
      "source": [
        "rf_accuracy = 0\n",
        "\n",
        "for train_index, test_index in kf.split(X):\n",
        "    \n",
        "    X_train, X_test = X[train_index], X[test_index]\n",
        "    y_train, y_test = y[train_index], y[test_index]\n",
        "\n",
        "    classifier.fit(X_train, y_train)\n",
        "    \n",
        "    y_pred = classifier.predict(X_test)\n",
        "    \n",
        "    rf_accuracy += accuracy_score(y_test, y_pred)\n",
        "    "
      ],
      "metadata": {
        "id": "6Vfd8moExs3O"
      },
      "execution_count": null,
      "outputs": []
    },
    {
      "cell_type": "markdown",
      "source": [
        "Outcomes"
      ],
      "metadata": {
        "id": "JHB5IQutyDqV"
      }
    },
    {
      "cell_type": "code",
      "source": [
        "rf_f1 = f1_score(y_test, y_pred, average='weighted')\n",
        "print('Accuracy (Random Forest): ', \"%.2f\" % (rf_accuracy/5*100) + \" %\")\n",
        "print('F1 (Random Forest): ', \"%.2f\" % (rf_f1*100))\n",
        "print(\"Confustion Matrix (Random Forest):\\n\", confusion_matrix(y_test, y_pred))"
      ],
      "metadata": {
        "colab": {
          "base_uri": "https://localhost:8080/"
        },
        "id": "HQjjjiGcyCzk",
        "outputId": "9fe3dc08-575a-4a0f-e3d0-f3188e0e0b5e"
      },
      "execution_count": null,
      "outputs": [
        {
          "output_type": "stream",
          "name": "stdout",
          "text": [
            "Accuracy (Random Forest):  82.74 %\n",
            "F1 (Random Forest):  82.77\n",
            "Confustion Matrix (Random Forest):\n",
            " [[78  1 12  1]\n",
            " [ 2 61  3 13]\n",
            " [10  1 66  0]\n",
            " [ 2  6  4 59]]\n"
          ]
        }
      ]
    },
    {
      "cell_type": "markdown",
      "source": [
        "# Decision Tree"
      ],
      "metadata": {
        "id": "o8OUpDOXi738"
      }
    },
    {
      "cell_type": "markdown",
      "source": [
        "Importing Libraries"
      ],
      "metadata": {
        "id": "ph4Mhd59i739"
      }
    },
    {
      "cell_type": "code",
      "source": [
        "from sklearn.tree import DecisionTreeClassifier"
      ],
      "metadata": {
        "id": "olQRMv3hi739"
      },
      "execution_count": null,
      "outputs": []
    },
    {
      "cell_type": "markdown",
      "source": [
        "Define the Classifier"
      ],
      "metadata": {
        "id": "hrF8fHaqi739"
      }
    },
    {
      "cell_type": "code",
      "source": [
        "clf = DecisionTreeClassifier()"
      ],
      "metadata": {
        "id": "e40I6Ejhi739"
      },
      "execution_count": null,
      "outputs": []
    },
    {
      "cell_type": "markdown",
      "source": [
        "Predicting Test Set Results"
      ],
      "metadata": {
        "id": "YYJqVEiei73-"
      }
    },
    {
      "cell_type": "code",
      "source": [
        "dt_accuracy = 0\n",
        "\n",
        "for train_index, test_index in kf.split(X):\n",
        "    \n",
        "    X_train, X_test = X[train_index], X[test_index]\n",
        "    y_train, y_test = y[train_index], y[test_index]\n",
        "\n",
        "    clf.fit(X_train, y_train)\n",
        "    \n",
        "    y_pred = clf.predict(X_test)\n",
        "    \n",
        "    dt_accuracy += accuracy_score(y_test, y_pred)"
      ],
      "metadata": {
        "id": "5ig7XkW2i73-"
      },
      "execution_count": null,
      "outputs": []
    },
    {
      "cell_type": "markdown",
      "source": [
        "Outcomes"
      ],
      "metadata": {
        "id": "SUt8ABj5i73-"
      }
    },
    {
      "cell_type": "code",
      "source": [
        "dt_f1 = f1_score(y_test, y_pred, average='weighted')\n",
        "print('Accuracy (Decision Tree): ', \"%.2f\" % (dt_accuracy/5*100) + \" %\")\n",
        "print('F1 (Decision Tree): ', \"%.2f\" % (dt_f1*100))\n",
        "print(\"Confustion Matrix (Decision Tree):\\n\", confusion_matrix(y_test, y_pred))"
      ],
      "metadata": {
        "colab": {
          "base_uri": "https://localhost:8080/"
        },
        "outputId": "450fa5ce-7222-4c1c-8776-41d6af18c733",
        "id": "7d9MSKEEi73-"
      },
      "execution_count": null,
      "outputs": [
        {
          "output_type": "stream",
          "name": "stdout",
          "text": [
            "Accuracy (Decision Tree):  55.29 %\n",
            "F1 (Decision Tree):  57.22\n",
            "Confustion Matrix (Decision Tree):\n",
            " [[59  7 15 11]\n",
            " [10 34 13 22]\n",
            " [11  6 48 12]\n",
            " [10 12  7 42]]\n"
          ]
        }
      ]
    },
    {
      "cell_type": "markdown",
      "source": [
        "# MultiClass Logistic Regression"
      ],
      "metadata": {
        "id": "e_7HkvXy4Uvd"
      }
    },
    {
      "cell_type": "markdown",
      "source": [
        "Import Libraries"
      ],
      "metadata": {
        "id": "UCA6d_MO4bkB"
      }
    },
    {
      "cell_type": "code",
      "source": [
        "from sklearn.linear_model import LogisticRegression"
      ],
      "metadata": {
        "id": "FIBCDHG54Zld"
      },
      "execution_count": null,
      "outputs": []
    },
    {
      "cell_type": "markdown",
      "source": [
        "Define Classifier."
      ],
      "metadata": {
        "id": "wUlINgaj4kjv"
      }
    },
    {
      "cell_type": "code",
      "source": [
        "classifier = LogisticRegression(multi_class='auto', solver='sag')"
      ],
      "metadata": {
        "id": "8_WxvViT4jia"
      },
      "execution_count": null,
      "outputs": []
    },
    {
      "cell_type": "markdown",
      "source": [
        "\n",
        "Predicting Test Set Results."
      ],
      "metadata": {
        "id": "VYF55C1M4yrz"
      }
    },
    {
      "cell_type": "code",
      "source": [
        "lr_accuracy = 0\n",
        "\n",
        "for train_index, test_index in kf.split(X):\n",
        "    \n",
        "    X_train, X_test = X[train_index], X[test_index]\n",
        "    y_train, y_test = y[train_index], y[test_index]\n",
        "\n",
        "    classifier.fit(X_train, y_train)\n",
        "    \n",
        "    y_pred = classifier.predict(X_test)\n",
        "    \n",
        "    lr_accuracy += accuracy_score(y_test, y_pred)\n"
      ],
      "metadata": {
        "id": "sTpD5Y-54sam",
        "colab": {
          "base_uri": "https://localhost:8080/"
        },
        "outputId": "9efb6e20-f214-4ec5-b0c9-b011dd27c833"
      },
      "execution_count": null,
      "outputs": [
        {
          "output_type": "stream",
          "name": "stderr",
          "text": [
            "/usr/local/lib/python3.8/dist-packages/sklearn/linear_model/_sag.py:352: ConvergenceWarning: The max_iter was reached which means the coef_ did not converge\n",
            "  warnings.warn(\n",
            "/usr/local/lib/python3.8/dist-packages/sklearn/linear_model/_sag.py:352: ConvergenceWarning: The max_iter was reached which means the coef_ did not converge\n",
            "  warnings.warn(\n",
            "/usr/local/lib/python3.8/dist-packages/sklearn/linear_model/_sag.py:352: ConvergenceWarning: The max_iter was reached which means the coef_ did not converge\n",
            "  warnings.warn(\n",
            "/usr/local/lib/python3.8/dist-packages/sklearn/linear_model/_sag.py:352: ConvergenceWarning: The max_iter was reached which means the coef_ did not converge\n",
            "  warnings.warn(\n",
            "/usr/local/lib/python3.8/dist-packages/sklearn/linear_model/_sag.py:352: ConvergenceWarning: The max_iter was reached which means the coef_ did not converge\n",
            "  warnings.warn(\n"
          ]
        }
      ]
    },
    {
      "cell_type": "markdown",
      "source": [
        "Outcomes"
      ],
      "metadata": {
        "id": "MRQ-XRm05Hgy"
      }
    },
    {
      "cell_type": "code",
      "source": [
        "lr_f1 = f1_score(y_test, y_pred, average='weighted')\n",
        "print('Accuracy (Logistic Regression): ', \"%.2f\" % (lr_accuracy/5*100) + \" %\")\n",
        "print('F1 (Logistic Regression): ', \"%.2f\" % (lr_f1*100))\n",
        "print(\"Confusion Matrix (Logistic Regression):\\n\", confusion_matrix(y_test, y_pred))"
      ],
      "metadata": {
        "colab": {
          "base_uri": "https://localhost:8080/"
        },
        "id": "KND_p0Vt45nM",
        "outputId": "c220da8b-2b84-4e8b-c9d1-611d07ff183a"
      },
      "execution_count": null,
      "outputs": [
        {
          "output_type": "stream",
          "name": "stdout",
          "text": [
            "Accuracy (Logistic Regression):  95.31 %\n",
            "F1 (Logistic Regression):  94.97\n",
            "Confusion Matrix (Logistic Regression):\n",
            " [[91  0  1  0]\n",
            " [ 0 72  1  6]\n",
            " [ 2  0 75  0]\n",
            " [ 0  6  0 65]]\n"
          ]
        }
      ]
    },
    {
      "cell_type": "markdown",
      "source": [
        "# KNN"
      ],
      "metadata": {
        "id": "GbukmnXKhLdd"
      }
    },
    {
      "cell_type": "markdown",
      "source": [
        "Importing Libraries"
      ],
      "metadata": {
        "id": "h86SS70ahWVM"
      }
    },
    {
      "cell_type": "code",
      "source": [
        "from sklearn.neighbors import KNeighborsClassifier"
      ],
      "metadata": {
        "id": "Z569Y7gqhhAZ"
      },
      "execution_count": null,
      "outputs": []
    },
    {
      "cell_type": "markdown",
      "source": [
        "Define the Classifier"
      ],
      "metadata": {
        "id": "r4y7MRgShWVM"
      }
    },
    {
      "cell_type": "code",
      "source": [
        "knn = KNeighborsClassifier(n_neighbors=5)"
      ],
      "metadata": {
        "id": "V4zmKZd9hmTV"
      },
      "execution_count": null,
      "outputs": []
    },
    {
      "cell_type": "markdown",
      "source": [
        "Predicting Test Set Results"
      ],
      "metadata": {
        "id": "n4PFLh--hWVN"
      }
    },
    {
      "cell_type": "code",
      "source": [
        "knn_accuracy = 0\n",
        "\n",
        "for train_index, test_index in kf.split(X):\n",
        "    \n",
        "    X_train, X_test = X[train_index], X[test_index]\n",
        "    y_train, y_test = y[train_index], y[test_index]\n",
        "\n",
        "    knn.fit(X_train, y_train)\n",
        "    \n",
        "    y_pred = knn.predict(X_test)\n",
        "    \n",
        "    knn_accuracy += accuracy_score(y_test, y_pred)"
      ],
      "metadata": {
        "id": "WrzAI0ZOhqj_"
      },
      "execution_count": null,
      "outputs": []
    },
    {
      "cell_type": "markdown",
      "source": [
        "Outcomes"
      ],
      "metadata": {
        "id": "ePgDseAEhWVN"
      }
    },
    {
      "cell_type": "code",
      "source": [
        "knn_f1 = f1_score(y_test, y_pred, average='weighted')\n",
        "print('Accuracy (KNN): ', \"%.2f\" % (knn_accuracy/5*100) + \" %\")\n",
        "print('F1 (KNN): ', \"%.2f\" % (knn_f1*100))\n",
        "print(\"Confustion Matrix (KNN):\\n\", confusion_matrix(y_test, y_pred))"
      ],
      "metadata": {
        "colab": {
          "base_uri": "https://localhost:8080/"
        },
        "id": "ltG6IZWGiLAO",
        "outputId": "8e4dc662-d213-4249-cdd5-1ce5bd4416c3"
      },
      "execution_count": null,
      "outputs": [
        {
          "output_type": "stream",
          "name": "stdout",
          "text": [
            "Accuracy (KNN):  79.11 %\n",
            "F1 (KNN):  77.73\n",
            "Confustion Matrix (KNN):\n",
            " [[83  1  7  1]\n",
            " [ 0 51  1 27]\n",
            " [12  1 63  1]\n",
            " [ 1 17  2 51]]\n"
          ]
        }
      ]
    }
  ]
}