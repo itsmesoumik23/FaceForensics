{
  "nbformat": 4,
  "nbformat_minor": 0,
  "metadata": {
    "colab": {
      "provenance": []
    },
    "kernelspec": {
      "name": "python3",
      "display_name": "Python 3"
    },
    "language_info": {
      "name": "python"
    }
  },
  "cells": [
    {
      "cell_type": "markdown",
      "source": [
        "# Data Preprocessing"
      ],
      "metadata": {
        "id": "4BylUgsMuSMj"
      }
    },
    {
      "cell_type": "markdown",
      "source": [
        "Import Libraries\n"
      ],
      "metadata": {
        "id": "L2pEpzYlhhI4"
      }
    },
    {
      "cell_type": "code",
      "execution_count": 1,
      "metadata": {
        "id": "qUmZIRo6TS9g"
      },
      "outputs": [],
      "source": [
        "from sklearn import svm, datasets\n",
        "import sklearn.model_selection as model_selection\n",
        "from sklearn.model_selection import KFold\n",
        "from sklearn.metrics import accuracy_score\n",
        "from sklearn.metrics import f1_score\n",
        "from sklearn.metrics import confusion_matrix\n",
        "from google.colab import files\n",
        "import matplotlib.pyplot as plt\n",
        "import numpy as np\n",
        "import pandas as pd\n",
        "import imageio"
      ]
    },
    {
      "cell_type": "markdown",
      "source": [
        "Function to Visualise Confusion Matrix"
      ],
      "metadata": {
        "id": "55qfRdqKGha8"
      }
    },
    {
      "cell_type": "code",
      "source": [
        "def visualiseConfusionMatrix(cnf_mat, header):\n",
        "    import matplotlib.pyplot as plt\n",
        "    import seaborn as sns\n",
        "\n",
        "    class_labels = ['DF', 'F2F', 'FS', 'NT']\n",
        "    sns.heatmap(cnf_mat, annot=True, cmap='Greens', fmt='d', annot_kws={\"size\": 20, \"weight\": \"bold\"}, xticklabels=class_labels, yticklabels=class_labels, linewidths=.05, linecolor=\"black\")\n",
        "    plt.xticks(fontweight=\"bold\")\n",
        "    plt.yticks(fontweight=\"bold\")\n",
        "\n",
        "    for i in range(4):\n",
        "        for j in range(4):\n",
        "            plt.gca().add_patch(plt.Rectangle((j, i), 1, 1, fill=False, edgecolor=\"black\"))\n",
        "\n",
        "    plt.title(header)\n",
        "    name = 'VGG16_' + header + '.png'\n",
        "    plt.savefig(name)\n",
        "    files.download(name)\n",
        "\n",
        "    plt.show()"
      ],
      "metadata": {
        "id": "8r39ChqDGgRG"
      },
      "execution_count": 2,
      "outputs": []
    },
    {
      "cell_type": "markdown",
      "source": [
        "Load the Dataset"
      ],
      "metadata": {
        "id": "91l7iT8XiEqK"
      }
    },
    {
      "cell_type": "code",
      "source": [
        "dataset = pd.read_csv('/content/drive/MyDrive/Project/CSVs/Features_vgg16.csv')\n",
        "X = dataset.iloc[ : , 2 : ].values\n",
        "y = dataset.iloc[ : , 0 ].values\n",
        "print(X)\n",
        "print(y)"
      ],
      "metadata": {
        "colab": {
          "base_uri": "https://localhost:8080/"
        },
        "id": "eoE1NPgQhmCp",
        "outputId": "f2a0178e-051a-48ca-dd93-f46a4148eca7"
      },
      "execution_count": 3,
      "outputs": [
        {
          "output_type": "stream",
          "name": "stdout",
          "text": [
            "[[0.         0.         0.         ... 0.98208046 0.         1.25845563]\n",
            " [0.         0.         0.         ... 0.         0.         0.        ]\n",
            " [0.         0.         0.         ... 0.         0.         0.71421111]\n",
            " ...\n",
            " [0.         0.         0.         ... 0.04508503 0.         0.23801658]\n",
            " [0.         0.         0.         ... 0.19043779 0.         0.        ]\n",
            " [0.         0.         0.         ... 0.         0.         0.57762998]]\n",
            "['Faceswap' 'Faceswap' 'Faceswap' ... 'Deepfakes' 'Deepfakes' 'Deepfakes']\n"
          ]
        }
      ]
    },
    {
      "cell_type": "markdown",
      "source": [
        "Split the dataset into training set and test set."
      ],
      "metadata": {
        "id": "w31ArOsShIzh"
      }
    },
    {
      "cell_type": "code",
      "source": [
        "X_train, X_test, y_train, y_test = model_selection.train_test_split(X, y, train_size=0.80, test_size=0.20, random_state=101)"
      ],
      "metadata": {
        "id": "LvOL2n5RiG-I"
      },
      "execution_count": 4,
      "outputs": []
    },
    {
      "cell_type": "markdown",
      "source": [
        "Initialise the 5-Fold Cross Validation"
      ],
      "metadata": {
        "id": "BGJIU29O5xmy"
      }
    },
    {
      "cell_type": "code",
      "source": [
        "kf = KFold(n_splits=5, shuffle=True, random_state=42)"
      ],
      "metadata": {
        "id": "k4Ia8Mlw5u-U"
      },
      "execution_count": 5,
      "outputs": []
    },
    {
      "cell_type": "markdown",
      "source": [
        "# Support Vector Machine"
      ],
      "metadata": {
        "id": "f6j7OOXnuARw"
      }
    },
    {
      "cell_type": "markdown",
      "source": [
        "Predict on Test Set."
      ],
      "metadata": {
        "id": "1TxTYVEYjaOm"
      }
    },
    {
      "cell_type": "code",
      "source": [
        "poly_accuracy, rbf_accuracy = 0, 0\n",
        "\n",
        "for train_index, test_index in kf.split(X):\n",
        "    \n",
        "    X_train, X_test = X[train_index], X[test_index]\n",
        "    y_train, y_test = y[train_index], y[test_index]\n",
        "\n",
        "    poly = svm.SVC(kernel='poly', degree=8, C=1).fit(X_train, y_train)\n",
        "    rbf = svm.SVC(kernel='rbf', gamma=1, C=1).fit(X_train, y_train)\n",
        "    \n",
        "    poly_pred = poly.predict(X_test)\n",
        "    rbf_pred = rbf.predict(X_test)\n",
        "    \n",
        "    poly_accuracy += accuracy_score(y_test, poly_pred)\n",
        "    rbf_accuracy += accuracy_score(y_test, rbf_pred)\n"
      ],
      "metadata": {
        "id": "_wK3I_rSjhYT"
      },
      "execution_count": 6,
      "outputs": []
    },
    {
      "cell_type": "markdown",
      "source": [
        "Outcomes."
      ],
      "metadata": {
        "id": "rzXS3KwJjwIv"
      }
    },
    {
      "cell_type": "code",
      "source": [
        "print('Accuracy (Polynomial Kernel): ', \"%.2f\" % (poly_accuracy/5*100) + \" %\")\n",
        "print('Accuracy (RBF Kernel): ', \"%.2f\" % (rbf_accuracy/5*100) + \" %\")\n",
        "\n",
        "poly_f1 = f1_score(y_test, poly_pred, average='weighted')\n",
        "print('F1 score (Polynomial Kernel): ', \"%.2f\" % (poly_f1*100))\n",
        "rbf_f1 = f1_score(y_test, rbf_pred, average='weighted')\n",
        "print('F1 score (RBF Kernel): ', \"%.2f\" % (rbf_f1*100))\n",
        "\n",
        "print('Confusion Matrix (Polynomial Kernel): \\n', confusion_matrix(y_test, poly_pred))\n",
        "print('Confusion Matrix (RBF Kernel): \\n',confusion_matrix(y_test, rbf_pred))\n",
        "visualiseConfusionMatrix(confusion_matrix(y_test, poly_pred), 'Polynomial Kernel')\n",
        "print()\n",
        "visualiseConfusionMatrix(confusion_matrix(y_test, rbf_pred), 'RBF Kernel')\n"
      ],
      "metadata": {
        "colab": {
          "base_uri": "https://localhost:8080/",
          "height": 0
        },
        "id": "wnTZnTApj0FW",
        "outputId": "79638819-e61f-4760-b66e-458b53daf74c"
      },
      "execution_count": 7,
      "outputs": [
        {
          "output_type": "stream",
          "name": "stdout",
          "text": [
            "Accuracy (Polynomial Kernel):  46.47 %\n",
            "Accuracy (RBF Kernel):  52.03 %\n",
            "F1 score (Polynomial Kernel):  49.73\n",
            "F1 score (RBF Kernel):  47.02\n",
            "Confusion Matrix (Polynomial Kernel): \n",
            " [[52  0 36  4]\n",
            " [ 4 24 10 41]\n",
            " [14  5 50  2]\n",
            " [ 3 24 16 34]]\n",
            "Confusion Matrix (RBF Kernel): \n",
            " [[21  0 71  0]\n",
            " [ 0 28 51  0]\n",
            " [ 0  0 71  0]\n",
            " [ 0  0 48 29]]\n"
          ]
        },
        {
          "output_type": "display_data",
          "data": {
            "text/plain": [
              "<IPython.core.display.Javascript object>"
            ],
            "application/javascript": [
              "\n",
              "    async function download(id, filename, size) {\n",
              "      if (!google.colab.kernel.accessAllowed) {\n",
              "        return;\n",
              "      }\n",
              "      const div = document.createElement('div');\n",
              "      const label = document.createElement('label');\n",
              "      label.textContent = `Downloading \"${filename}\": `;\n",
              "      div.appendChild(label);\n",
              "      const progress = document.createElement('progress');\n",
              "      progress.max = size;\n",
              "      div.appendChild(progress);\n",
              "      document.body.appendChild(div);\n",
              "\n",
              "      const buffers = [];\n",
              "      let downloaded = 0;\n",
              "\n",
              "      const channel = await google.colab.kernel.comms.open(id);\n",
              "      // Send a message to notify the kernel that we're ready.\n",
              "      channel.send({})\n",
              "\n",
              "      for await (const message of channel.messages) {\n",
              "        // Send a message to notify the kernel that we're ready.\n",
              "        channel.send({})\n",
              "        if (message.buffers) {\n",
              "          for (const buffer of message.buffers) {\n",
              "            buffers.push(buffer);\n",
              "            downloaded += buffer.byteLength;\n",
              "            progress.value = downloaded;\n",
              "          }\n",
              "        }\n",
              "      }\n",
              "      const blob = new Blob(buffers, {type: 'application/binary'});\n",
              "      const a = document.createElement('a');\n",
              "      a.href = window.URL.createObjectURL(blob);\n",
              "      a.download = filename;\n",
              "      div.appendChild(a);\n",
              "      a.click();\n",
              "      div.remove();\n",
              "    }\n",
              "  "
            ]
          },
          "metadata": {}
        },
        {
          "output_type": "display_data",
          "data": {
            "text/plain": [
              "<IPython.core.display.Javascript object>"
            ],
            "application/javascript": [
              "download(\"download_83a8cc8d-ef5b-4906-82f3-6a26b98a1b98\", \"VGG16_Polynomial Kernel.png\", 16740)"
            ]
          },
          "metadata": {}
        },
        {
          "output_type": "display_data",
          "data": {
            "text/plain": [
              "<Figure size 432x288 with 2 Axes>"
            ],
            "image/png": "[encoded data removed]"
          },
          "metadata": {
            "needs_background": "light"
          }
        },
        {
          "output_type": "stream",
          "name": "stdout",
          "text": [
            "\n"
          ]
        },
        {
          "output_type": "display_data",
          "data": {
            "text/plain": [
              "<IPython.core.display.Javascript object>"
            ],
            "application/javascript": [
              "\n",
              "    async function download(id, filename, size) {\n",
              "      if (!google.colab.kernel.accessAllowed) {\n",
              "        return;\n",
              "      }\n",
              "      const div = document.createElement('div');\n",
              "      const label = document.createElement('label');\n",
              "      label.textContent = `Downloading \"${filename}\": `;\n",
              "      div.appendChild(label);\n",
              "      const progress = document.createElement('progress');\n",
              "      progress.max = size;\n",
              "      div.appendChild(progress);\n",
              "      document.body.appendChild(div);\n",
              "\n",
              "      const buffers = [];\n",
              "      let downloaded = 0;\n",
              "\n",
              "      const channel = await google.colab.kernel.comms.open(id);\n",
              "      // Send a message to notify the kernel that we're ready.\n",
              "      channel.send({})\n",
              "\n",
              "      for await (const message of channel.messages) {\n",
              "        // Send a message to notify the kernel that we're ready.\n",
              "        channel.send({})\n",
              "        if (message.buffers) {\n",
              "          for (const buffer of message.buffers) {\n",
              "            buffers.push(buffer);\n",
              "            downloaded += buffer.byteLength;\n",
              "            progress.value = downloaded;\n",
              "          }\n",
              "        }\n",
              "      }\n",
              "      const blob = new Blob(buffers, {type: 'application/binary'});\n",
              "      const a = document.createElement('a');\n",
              "      a.href = window.URL.createObjectURL(blob);\n",
              "      a.download = filename;\n",
              "      div.appendChild(a);\n",
              "      a.click();\n",
              "      div.remove();\n",
              "    }\n",
              "  "
            ]
          },
          "metadata": {}
        },
        {
          "output_type": "display_data",
          "data": {
            "text/plain": [
              "<IPython.core.display.Javascript object>"
            ],
            "application/javascript": [
              "download(\"download_a2e499bd-b3ab-4e45-89c5-5b5776fc90bf\", \"VGG16_RBF Kernel.png\", 14826)"
            ]
          },
          "metadata": {}
        },
        {
          "output_type": "display_data",
          "data": {
            "text/plain": [
              "<Figure size 432x288 with 2 Axes>"
            ],
            "image/png": "[encoded data removed]"
          },
          "metadata": {
            "needs_background": "light"
          }
        }
      ]
    },
    {
      "cell_type": "markdown",
      "source": [
        "# Random Forest"
      ],
      "metadata": {
        "id": "KsshkBd9uLqq"
      }
    },
    {
      "cell_type": "markdown",
      "source": [
        "Importing Libraries"
      ],
      "metadata": {
        "id": "JCDYD_Hmxe12"
      }
    },
    {
      "cell_type": "code",
      "source": [
        "from sklearn.preprocessing import StandardScaler\n",
        "from sklearn.ensemble import RandomForestClassifier"
      ],
      "metadata": {
        "id": "AjXH9ejvuOOf"
      },
      "execution_count": 8,
      "outputs": []
    },
    {
      "cell_type": "markdown",
      "source": [
        "Define the Classifier"
      ],
      "metadata": {
        "id": "N-vmH0Srxpj6"
      }
    },
    {
      "cell_type": "code",
      "source": [
        "classifier = RandomForestClassifier(n_estimators = 500, criterion = 'entropy', random_state = 42)"
      ],
      "metadata": {
        "id": "yWcUPtVAxibU"
      },
      "execution_count": 9,
      "outputs": []
    },
    {
      "cell_type": "markdown",
      "source": [
        "Predicting Test Set Results"
      ],
      "metadata": {
        "id": "_POan3ZCx16f"
      }
    },
    {
      "cell_type": "code",
      "source": [
        "rf_accuracy = 0\n",
        "\n",
        "for train_index, test_index in kf.split(X):\n",
        "    \n",
        "    X_train, X_test = X[train_index], X[test_index]\n",
        "    y_train, y_test = y[train_index], y[test_index]\n",
        "\n",
        "    classifier.fit(X_train, y_train)\n",
        "    \n",
        "    y_pred = classifier.predict(X_test)\n",
        "    \n",
        "    rf_accuracy += accuracy_score(y_test, y_pred)\n",
        "    "
      ],
      "metadata": {
        "id": "6Vfd8moExs3O"
      },
      "execution_count": 10,
      "outputs": []
    },
    {
      "cell_type": "markdown",
      "source": [
        "Outcomes"
      ],
      "metadata": {
        "id": "JHB5IQutyDqV"
      }
    },
    {
      "cell_type": "code",
      "source": [
        "rf_f1 = f1_score(y_test, y_pred, average='weighted')\n",
        "print('Accuracy (Random Forest): ', \"%.2f\" % (rf_accuracy/5*100) + \" %\")\n",
        "print('F1 (Random Forest): ', \"%.2f\" % (rf_f1*100))\n",
        "print(\"Confustion Matrix (Random Forest):\\n\", confusion_matrix(y_test, y_pred))\n",
        "visualiseConfusionMatrix(confusion_matrix(y_test, y_pred), 'Random Forest')"
      ],
      "metadata": {
        "id": "HQjjjiGcyCzk",
        "colab": {
          "base_uri": "https://localhost:8080/",
          "height": 0
        },
        "outputId": "9fbaa1c8-fb02-4a29-fd68-f6e6e1ba2de6"
      },
      "execution_count": 11,
      "outputs": [
        {
          "output_type": "stream",
          "name": "stdout",
          "text": [
            "Accuracy (Random Forest):  97.50 %\n",
            "F1 (Random Forest):  97.48\n",
            "Confustion Matrix (Random Forest):\n",
            " [[92  0  0  0]\n",
            " [ 1 73  0  5]\n",
            " [ 0  0 71  0]\n",
            " [ 0  2  0 75]]\n"
          ]
        },
        {
          "output_type": "display_data",
          "data": {
            "text/plain": [
              "<IPython.core.display.Javascript object>"
            ],
            "application/javascript": [
              "\n",
              "    async function download(id, filename, size) {\n",
              "      if (!google.colab.kernel.accessAllowed) {\n",
              "        return;\n",
              "      }\n",
              "      const div = document.createElement('div');\n",
              "      const label = document.createElement('label');\n",
              "      label.textContent = `Downloading \"${filename}\": `;\n",
              "      div.appendChild(label);\n",
              "      const progress = document.createElement('progress');\n",
              "      progress.max = size;\n",
              "      div.appendChild(progress);\n",
              "      document.body.appendChild(div);\n",
              "\n",
              "      const buffers = [];\n",
              "      let downloaded = 0;\n",
              "\n",
              "      const channel = await google.colab.kernel.comms.open(id);\n",
              "      // Send a message to notify the kernel that we're ready.\n",
              "      channel.send({})\n",
              "\n",
              "      for await (const message of channel.messages) {\n",
              "        // Send a message to notify the kernel that we're ready.\n",
              "        channel.send({})\n",
              "        if (message.buffers) {\n",
              "          for (const buffer of message.buffers) {\n",
              "            buffers.push(buffer);\n",
              "            downloaded += buffer.byteLength;\n",
              "            progress.value = downloaded;\n",
              "          }\n",
              "        }\n",
              "      }\n",
              "      const blob = new Blob(buffers, {type: 'application/binary'});\n",
              "      const a = document.createElement('a');\n",
              "      a.href = window.URL.createObjectURL(blob);\n",
              "      a.download = filename;\n",
              "      div.appendChild(a);\n",
              "      a.click();\n",
              "      div.remove();\n",
              "    }\n",
              "  "
            ]
          },
          "metadata": {}
        },
        {
          "output_type": "display_data",
          "data": {
            "text/plain": [
              "<IPython.core.display.Javascript object>"
            ],
            "application/javascript": [
              "download(\"download_97969da6-a206-49f8-bf72-b9e3dd2a1185\", \"VGG16_Random Forest.png\", 13689)"
            ]
          },
          "metadata": {}
        },
        {
          "output_type": "display_data",
          "data": {
            "text/plain": [
              "<Figure size 432x288 with 2 Axes>"
            ],
            "image/png": "[encoded data removed]"
          },
          "metadata": {
            "needs_background": "light"
          }
        }
      ]
    },
    {
      "cell_type": "markdown",
      "source": [],
      "metadata": {
        "id": "yPJ-ST361cvQ"
      }
    },
    {
      "cell_type": "markdown",
      "source": [
        "# MultiClass Logistic Regression"
      ],
      "metadata": {
        "id": "e_7HkvXy4Uvd"
      }
    },
    {
      "cell_type": "markdown",
      "source": [
        "Import Libraries"
      ],
      "metadata": {
        "id": "UCA6d_MO4bkB"
      }
    },
    {
      "cell_type": "code",
      "source": [
        "from sklearn.linear_model import LogisticRegression"
      ],
      "metadata": {
        "id": "FIBCDHG54Zld"
      },
      "execution_count": 12,
      "outputs": []
    },
    {
      "cell_type": "markdown",
      "source": [
        "Define Classifier."
      ],
      "metadata": {
        "id": "wUlINgaj4kjv"
      }
    },
    {
      "cell_type": "code",
      "source": [
        "classifier = LogisticRegression(multi_class='auto', solver='sag')"
      ],
      "metadata": {
        "id": "8_WxvViT4jia"
      },
      "execution_count": 13,
      "outputs": []
    },
    {
      "cell_type": "markdown",
      "source": [
        "\n",
        "Predicting Test Set Results."
      ],
      "metadata": {
        "id": "VYF55C1M4yrz"
      }
    },
    {
      "cell_type": "code",
      "source": [
        "lr_accuracy = 0\n",
        "\n",
        "for train_index, test_index in kf.split(X):\n",
        "    \n",
        "    X_train, X_test = X[train_index], X[test_index]\n",
        "    y_train, y_test = y[train_index], y[test_index]\n",
        "\n",
        "    classifier.fit(X_train, y_train)\n",
        "    \n",
        "    y_pred = classifier.predict(X_test)\n",
        "    \n",
        "    lr_accuracy += accuracy_score(y_test, y_pred)\n"
      ],
      "metadata": {
        "id": "sTpD5Y-54sam",
        "colab": {
          "base_uri": "https://localhost:8080/"
        },
        "outputId": "50efc1de-b9c2-4f85-9ac7-47be2ae74201"
      },
      "execution_count": 14,
      "outputs": [
        {
          "output_type": "stream",
          "name": "stderr",
          "text": [
            "/usr/local/lib/python3.8/dist-packages/sklearn/linear_model/_sag.py:352: ConvergenceWarning: The max_iter was reached which means the coef_ did not converge\n",
            "  warnings.warn(\n",
            "/usr/local/lib/python3.8/dist-packages/sklearn/linear_model/_sag.py:352: ConvergenceWarning: The max_iter was reached which means the coef_ did not converge\n",
            "  warnings.warn(\n",
            "/usr/local/lib/python3.8/dist-packages/sklearn/linear_model/_sag.py:352: ConvergenceWarning: The max_iter was reached which means the coef_ did not converge\n",
            "  warnings.warn(\n",
            "/usr/local/lib/python3.8/dist-packages/sklearn/linear_model/_sag.py:352: ConvergenceWarning: The max_iter was reached which means the coef_ did not converge\n",
            "  warnings.warn(\n",
            "/usr/local/lib/python3.8/dist-packages/sklearn/linear_model/_sag.py:352: ConvergenceWarning: The max_iter was reached which means the coef_ did not converge\n",
            "  warnings.warn(\n"
          ]
        }
      ]
    },
    {
      "cell_type": "markdown",
      "source": [
        "Outcomes"
      ],
      "metadata": {
        "id": "MRQ-XRm05Hgy"
      }
    },
    {
      "cell_type": "code",
      "source": [
        "lr_f1 = f1_score(y_test, y_pred, average='weighted')\n",
        "print('Accuracy (Logistic Regression): ', \"%.2f\" % (lr_accuracy/5*100) + \" %\")\n",
        "print('F1 (Logistic Regression): ', \"%.2f\" % (lr_f1*100))\n",
        "print(\"Confusion Matrix (Logistic Regression):\\n\", confusion_matrix(y_test, y_pred))\n",
        "visualiseConfusionMatrix(confusion_matrix(y_test, y_pred), 'Logistic Regression')"
      ],
      "metadata": {
        "id": "KND_p0Vt45nM",
        "colab": {
          "base_uri": "https://localhost:8080/",
          "height": 0
        },
        "outputId": "b4905b23-1617-429c-c337-7bced172e228"
      },
      "execution_count": 15,
      "outputs": [
        {
          "output_type": "stream",
          "name": "stdout",
          "text": [
            "Accuracy (Logistic Regression):  95.43 %\n",
            "F1 (Logistic Regression):  93.71\n",
            "Confusion Matrix (Logistic Regression):\n",
            " [[92  0  0  0]\n",
            " [ 1 67  0 11]\n",
            " [ 1  0 70  0]\n",
            " [ 0  7  0 70]]\n"
          ]
        },
        {
          "output_type": "display_data",
          "data": {
            "text/plain": [
              "<IPython.core.display.Javascript object>"
            ],
            "application/javascript": [
              "\n",
              "    async function download(id, filename, size) {\n",
              "      if (!google.colab.kernel.accessAllowed) {\n",
              "        return;\n",
              "      }\n",
              "      const div = document.createElement('div');\n",
              "      const label = document.createElement('label');\n",
              "      label.textContent = `Downloading \"${filename}\": `;\n",
              "      div.appendChild(label);\n",
              "      const progress = document.createElement('progress');\n",
              "      progress.max = size;\n",
              "      div.appendChild(progress);\n",
              "      document.body.appendChild(div);\n",
              "\n",
              "      const buffers = [];\n",
              "      let downloaded = 0;\n",
              "\n",
              "      const channel = await google.colab.kernel.comms.open(id);\n",
              "      // Send a message to notify the kernel that we're ready.\n",
              "      channel.send({})\n",
              "\n",
              "      for await (const message of channel.messages) {\n",
              "        // Send a message to notify the kernel that we're ready.\n",
              "        channel.send({})\n",
              "        if (message.buffers) {\n",
              "          for (const buffer of message.buffers) {\n",
              "            buffers.push(buffer);\n",
              "            downloaded += buffer.byteLength;\n",
              "            progress.value = downloaded;\n",
              "          }\n",
              "        }\n",
              "      }\n",
              "      const blob = new Blob(buffers, {type: 'application/binary'});\n",
              "      const a = document.createElement('a');\n",
              "      a.href = window.URL.createObjectURL(blob);\n",
              "      a.download = filename;\n",
              "      div.appendChild(a);\n",
              "      a.click();\n",
              "      div.remove();\n",
              "    }\n",
              "  "
            ]
          },
          "metadata": {}
        },
        {
          "output_type": "display_data",
          "data": {
            "text/plain": [
              "<IPython.core.display.Javascript object>"
            ],
            "application/javascript": [
              "download(\"download_d696296e-8178-442c-b869-d5eab93efe0b\", \"VGG16_Logistic Regression.png\", 14243)"
            ]
          },
          "metadata": {}
        },
        {
          "output_type": "display_data",
          "data": {
            "text/plain": [
              "<Figure size 432x288 with 2 Axes>"
            ],
            "image/png": "[encoded data removed]"
          },
          "metadata": {
            "needs_background": "light"
          }
        }
      ]
    },
    {
      "cell_type": "markdown",
      "source": [
        "# Decision Tree"
      ],
      "metadata": {
        "id": "o8OUpDOXi738"
      }
    },
    {
      "cell_type": "markdown",
      "source": [
        "Importing Libraries"
      ],
      "metadata": {
        "id": "ph4Mhd59i739"
      }
    },
    {
      "cell_type": "code",
      "source": [
        "from sklearn.tree import DecisionTreeClassifier"
      ],
      "metadata": {
        "id": "olQRMv3hi739"
      },
      "execution_count": 16,
      "outputs": []
    },
    {
      "cell_type": "markdown",
      "source": [
        "Define the Classifier"
      ],
      "metadata": {
        "id": "hrF8fHaqi739"
      }
    },
    {
      "cell_type": "code",
      "source": [
        "clf = DecisionTreeClassifier()"
      ],
      "metadata": {
        "id": "e40I6Ejhi739"
      },
      "execution_count": 17,
      "outputs": []
    },
    {
      "cell_type": "markdown",
      "source": [
        "Predicting Test Set Results"
      ],
      "metadata": {
        "id": "YYJqVEiei73-"
      }
    },
    {
      "cell_type": "code",
      "source": [
        "dt_accuracy = 0\n",
        "\n",
        "for train_index, test_index in kf.split(X):\n",
        "    \n",
        "    X_train, X_test = X[train_index], X[test_index]\n",
        "    y_train, y_test = y[train_index], y[test_index]\n",
        "\n",
        "    clf.fit(X_train, y_train)\n",
        "    \n",
        "    y_pred = clf.predict(X_test)\n",
        "    \n",
        "    dt_accuracy += accuracy_score(y_test, y_pred)"
      ],
      "metadata": {
        "id": "5ig7XkW2i73-"
      },
      "execution_count": 18,
      "outputs": []
    },
    {
      "cell_type": "markdown",
      "source": [
        "Outcomes"
      ],
      "metadata": {
        "id": "SUt8ABj5i73-"
      }
    },
    {
      "cell_type": "code",
      "source": [
        "dt_f1 = f1_score(y_test, y_pred, average='weighted')\n",
        "print('Accuracy (Decision Tree): ', \"%.2f\" % (dt_accuracy/5*100) + \" %\")\n",
        "print('F1 (Decision Tree): ', \"%.2f\" % (dt_f1*100))\n",
        "print(\"Confustion Matrix (Decision Tree):\\n\", confusion_matrix(y_test, y_pred))\n",
        "visualiseConfusionMatrix(confusion_matrix(y_test, y_pred), 'Decision Tree')"
      ],
      "metadata": {
        "id": "7d9MSKEEi73-",
        "colab": {
          "base_uri": "https://localhost:8080/",
          "height": 0
        },
        "outputId": "4b7fa1ea-cb28-4d5e-a69b-f0ed766037a6"
      },
      "execution_count": 19,
      "outputs": [
        {
          "output_type": "stream",
          "name": "stdout",
          "text": [
            "Accuracy (Decision Tree):  82.24 %\n",
            "F1 (Decision Tree):  83.32\n",
            "Confustion Matrix (Decision Tree):\n",
            " [[84  5  2  1]\n",
            " [ 1 63  2 13]\n",
            " [ 5  0 64  2]\n",
            " [ 2 15  5 55]]\n"
          ]
        },
        {
          "output_type": "display_data",
          "data": {
            "text/plain": [
              "<IPython.core.display.Javascript object>"
            ],
            "application/javascript": [
              "\n",
              "    async function download(id, filename, size) {\n",
              "      if (!google.colab.kernel.accessAllowed) {\n",
              "        return;\n",
              "      }\n",
              "      const div = document.createElement('div');\n",
              "      const label = document.createElement('label');\n",
              "      label.textContent = `Downloading \"${filename}\": `;\n",
              "      div.appendChild(label);\n",
              "      const progress = document.createElement('progress');\n",
              "      progress.max = size;\n",
              "      div.appendChild(progress);\n",
              "      document.body.appendChild(div);\n",
              "\n",
              "      const buffers = [];\n",
              "      let downloaded = 0;\n",
              "\n",
              "      const channel = await google.colab.kernel.comms.open(id);\n",
              "      // Send a message to notify the kernel that we're ready.\n",
              "      channel.send({})\n",
              "\n",
              "      for await (const message of channel.messages) {\n",
              "        // Send a message to notify the kernel that we're ready.\n",
              "        channel.send({})\n",
              "        if (message.buffers) {\n",
              "          for (const buffer of message.buffers) {\n",
              "            buffers.push(buffer);\n",
              "            downloaded += buffer.byteLength;\n",
              "            progress.value = downloaded;\n",
              "          }\n",
              "        }\n",
              "      }\n",
              "      const blob = new Blob(buffers, {type: 'application/binary'});\n",
              "      const a = document.createElement('a');\n",
              "      a.href = window.URL.createObjectURL(blob);\n",
              "      a.download = filename;\n",
              "      div.appendChild(a);\n",
              "      a.click();\n",
              "      div.remove();\n",
              "    }\n",
              "  "
            ]
          },
          "metadata": {}
        },
        {
          "output_type": "display_data",
          "data": {
            "text/plain": [
              "<IPython.core.display.Javascript object>"
            ],
            "application/javascript": [
              "download(\"download_8728c9fa-89e2-4288-86e8-6dfbce104307\", \"VGG16_Decision Tree.png\", 16589)"
            ]
          },
          "metadata": {}
        },
        {
          "output_type": "display_data",
          "data": {
            "text/plain": [
              "<Figure size 432x288 with 2 Axes>"
            ],
            "image/png": "[encoded data removed]"
          },
          "metadata": {
            "needs_background": "light"
          }
        }
      ]
    },
    {
      "cell_type": "markdown",
      "source": [
        "\n",
        "# KNN"
      ],
      "metadata": {
        "id": "GbukmnXKhLdd"
      }
    },
    {
      "cell_type": "markdown",
      "source": [
        "Importing Libraries"
      ],
      "metadata": {
        "id": "h86SS70ahWVM"
      }
    },
    {
      "cell_type": "code",
      "source": [
        "from sklearn.neighbors import KNeighborsClassifier"
      ],
      "metadata": {
        "id": "Z569Y7gqhhAZ"
      },
      "execution_count": 20,
      "outputs": []
    },
    {
      "cell_type": "markdown",
      "source": [
        "Define the Classifier"
      ],
      "metadata": {
        "id": "r4y7MRgShWVM"
      }
    },
    {
      "cell_type": "code",
      "source": [
        "knn = KNeighborsClassifier(n_neighbors=10)"
      ],
      "metadata": {
        "id": "V4zmKZd9hmTV"
      },
      "execution_count": 21,
      "outputs": []
    },
    {
      "cell_type": "markdown",
      "source": [
        "Predicting Test Set Results"
      ],
      "metadata": {
        "id": "n4PFLh--hWVN"
      }
    },
    {
      "cell_type": "code",
      "source": [
        "knn_accuracy = 0\n",
        "\n",
        "for train_index, test_index in kf.split(X):\n",
        "    \n",
        "    X_train, X_test = X[train_index], X[test_index]\n",
        "    y_train, y_test = y[train_index], y[test_index]\n",
        "\n",
        "    knn.fit(X_train, y_train)\n",
        "    \n",
        "    y_pred = knn.predict(X_test)\n",
        "    \n",
        "    knn_accuracy += accuracy_score(y_test, y_pred)"
      ],
      "metadata": {
        "id": "WrzAI0ZOhqj_"
      },
      "execution_count": 22,
      "outputs": []
    },
    {
      "cell_type": "markdown",
      "source": [
        "Outcomes"
      ],
      "metadata": {
        "id": "ePgDseAEhWVN"
      }
    },
    {
      "cell_type": "code",
      "source": [
        "knn_f1 = f1_score(y_test, y_pred, average='weighted')\n",
        "print('Accuracy (KNN): ', \"%.2f\" % (knn_accuracy/5*100) + \" %\")\n",
        "print('F1 (KNN): ', \"%.2f\" % (knn_f1*100))\n",
        "print(\"Confustion Matrix (KNN):\\n\", confusion_matrix(y_test, y_pred))\n",
        "visualiseConfusionMatrix(confusion_matrix(y_test, y_pred), 'KNN')"
      ],
      "metadata": {
        "id": "ltG6IZWGiLAO",
        "colab": {
          "base_uri": "https://localhost:8080/",
          "height": 0
        },
        "outputId": "dc8d13a6-4f02-4294-9775-fb2fc46f914d"
      },
      "execution_count": 23,
      "outputs": [
        {
          "output_type": "stream",
          "name": "stdout",
          "text": [
            "Accuracy (KNN):  77.42 %\n",
            "F1 (KNN):  79.31\n",
            "Confustion Matrix (KNN):\n",
            " [[79  0 11  2]\n",
            " [ 1 67  2  9]\n",
            " [ 8  1 62  0]\n",
            " [ 2 26  3 46]]\n"
          ]
        },
        {
          "output_type": "display_data",
          "data": {
            "text/plain": [
              "<IPython.core.display.Javascript object>"
            ],
            "application/javascript": [
              "\n",
              "    async function download(id, filename, size) {\n",
              "      if (!google.colab.kernel.accessAllowed) {\n",
              "        return;\n",
              "      }\n",
              "      const div = document.createElement('div');\n",
              "      const label = document.createElement('label');\n",
              "      label.textContent = `Downloading \"${filename}\": `;\n",
              "      div.appendChild(label);\n",
              "      const progress = document.createElement('progress');\n",
              "      progress.max = size;\n",
              "      div.appendChild(progress);\n",
              "      document.body.appendChild(div);\n",
              "\n",
              "      const buffers = [];\n",
              "      let downloaded = 0;\n",
              "\n",
              "      const channel = await google.colab.kernel.comms.open(id);\n",
              "      // Send a message to notify the kernel that we're ready.\n",
              "      channel.send({})\n",
              "\n",
              "      for await (const message of channel.messages) {\n",
              "        // Send a message to notify the kernel that we're ready.\n",
              "        channel.send({})\n",
              "        if (message.buffers) {\n",
              "          for (const buffer of message.buffers) {\n",
              "            buffers.push(buffer);\n",
              "            downloaded += buffer.byteLength;\n",
              "            progress.value = downloaded;\n",
              "          }\n",
              "        }\n",
              "      }\n",
              "      const blob = new Blob(buffers, {type: 'application/binary'});\n",
              "      const a = document.createElement('a');\n",
              "      a.href = window.URL.createObjectURL(blob);\n",
              "      a.download = filename;\n",
              "      div.appendChild(a);\n",
              "      a.click();\n",
              "      div.remove();\n",
              "    }\n",
              "  "
            ]
          },
          "metadata": {}
        },
        {
          "output_type": "display_data",
          "data": {
            "text/plain": [
              "<IPython.core.display.Javascript object>"
            ],
            "application/javascript": [
              "download(\"download_d0bcbea5-13a9-423d-8bb4-a39ea25325f3\", \"VGG16_KNN.png\", 15789)"
            ]
          },
          "metadata": {}
        },
        {
          "output_type": "display_data",
          "data": {
            "text/plain": [
              "<Figure size 432x288 with 2 Axes>"
            ],
            "image/png": "[encoded data removed]"
          },
          "metadata": {
            "needs_background": "light"
          }
        }
      ]
    }
  ]
}