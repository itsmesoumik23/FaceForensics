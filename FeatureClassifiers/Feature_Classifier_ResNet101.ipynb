{
  "nbformat": 4,
  "nbformat_minor": 0,
  "metadata": {
    "colab": {
      "provenance": []
    },
    "kernelspec": {
      "name": "python3",
      "display_name": "Python 3"
    },
    "language_info": {
      "name": "python"
    }
  },
  "cells": [
    {
      "cell_type": "markdown",
      "source": [
        "# Data Preprocessing"
      ],
      "metadata": {
        "id": "sNVb-Bh5d9TA"
      }
    },
    {
      "cell_type": "markdown",
      "source": [
        "Importing Libraries"
      ],
      "metadata": {
        "id": "4M8awjZueJ8L"
      }
    },
    {
      "cell_type": "code",
      "execution_count": 23,
      "metadata": {
        "id": "Q9zGNCFzLg_T"
      },
      "outputs": [],
      "source": [
        "from sklearn import svm, datasets\n",
        "import sklearn.model_selection as model_selection\n",
        "from sklearn.model_selection import KFold\n",
        "from sklearn.metrics import accuracy_score\n",
        "from sklearn.metrics import f1_score\n",
        "from sklearn.metrics import confusion_matrix\n",
        "import numpy as np\n",
        "import pandas as pd"
      ]
    },
    {
      "cell_type": "markdown",
      "source": [
        "Loading the dataset"
      ],
      "metadata": {
        "id": "7-u_y9CbeNCd"
      }
    },
    {
      "cell_type": "code",
      "source": [
        "dataset = pd.read_csv('features_resnet_101.csv', on_bad_lines='skip')\n",
        "X = dataset.iloc[ 1 : , 1 : ].values\n",
        "y = dataset.iloc[ 1 : , 0 ].values\n",
        "dataset"
      ],
      "metadata": {
        "id": "lgTYNV1gL-zW",
        "colab": {
          "base_uri": "https://localhost:8080/",
          "height": 487
        },
        "outputId": "3321644d-f695-4239-c5b2-2cd6b68e6f51"
      },
      "execution_count": 24,
      "outputs": [
        {
          "output_type": "execute_result",
          "data": {
            "text/plain": [
              "            category   feature_0   feature_1   feature_2   feature_3  \\\n",
              "0     NeuralTextures  -32.093704  146.902530  -17.185703  145.078540   \n",
              "1     NeuralTextures  -35.860138  144.555700  -18.497292  144.925540   \n",
              "2     NeuralTextures  298.745330  -61.443790 -207.530320  105.024630   \n",
              "3     NeuralTextures  -44.937443   72.313560  119.494545  -27.042110   \n",
              "4     NeuralTextures  -45.384537   73.638760  115.877730  -25.753588   \n",
              "...              ...         ...         ...         ...         ...   \n",
              "1595       Deepfakes  -94.170420  -15.779587  -53.370056 -200.466720   \n",
              "1596       Deepfakes  -93.088000  -18.265966  -50.431774 -201.737170   \n",
              "1597       Deepfakes  -94.228950  -17.622774  -51.374363 -201.379970   \n",
              "1598       Deepfakes  -95.468580  -16.348152  -51.249672 -203.380660   \n",
              "1599       Deepfakes  -93.460014  -24.501696  -44.180050 -202.700640   \n",
              "\n",
              "       feature_4   feature_5   feature_6   feature_7   feature_8  ...  \\\n",
              "0     -63.500923 -105.487350  -11.982006  -90.380450 -140.270250  ...   \n",
              "1     -65.397354 -105.359440  -10.496799  -92.211815 -138.410110  ...   \n",
              "2    -143.749080 -192.775770  197.092320  356.193540  102.496150  ...   \n",
              "3      -9.954171  -98.384910   47.641968  -40.619480  110.178560  ...   \n",
              "4     -11.652071  -96.958040   45.257343  -39.462980  109.793495  ...   \n",
              "...          ...         ...         ...         ...         ...  ...   \n",
              "1595   -2.336628   16.896307   -8.254656   19.890854  -10.412720  ...   \n",
              "1596   -1.154791   16.313220   -8.137126   18.626867   -8.200521  ...   \n",
              "1597   -4.702398   15.354007   -8.863097   18.517200   -9.760734  ...   \n",
              "1598   -2.945286   15.727937   -7.390561   18.557844   -9.799802  ...   \n",
              "1599   -1.848380   13.943212   -7.606321   15.375290   -4.072270  ...   \n",
              "\n",
              "      feature_1490  feature_1491  feature_1492  feature_1493  feature_1494  \\\n",
              "0         0.434148      0.261460      0.466725      0.011658     -0.250158   \n",
              "1        -0.912738     -0.295983     -0.639621      0.177329      0.317876   \n",
              "2        -0.056320     -0.098121     -0.340010      0.118510      0.069462   \n",
              "3         0.079021      0.022073     -0.000436     -0.012982      0.092203   \n",
              "4        -0.130039     -0.281760     -0.009189     -0.104403     -0.219469   \n",
              "...            ...           ...           ...           ...           ...   \n",
              "1595     -0.561939     -1.117823     -2.381083     -0.804908      0.322209   \n",
              "1596      0.445529      1.226872      2.208652      0.827821     -0.177020   \n",
              "1597     -0.276811      0.046149     -0.346713     -0.144246     -0.263702   \n",
              "1598      0.164427      0.255737      0.296921      0.314879      0.319995   \n",
              "1599     -0.054523     -0.233894     -0.277587     -0.414206     -0.137615   \n",
              "\n",
              "      feature_1495  feature_1496  feature_1497  feature_1498  feature_1499  \n",
              "0        -0.144494      0.206021     -0.092880      0.568985      0.004353  \n",
              "1         0.365629     -0.490861     -0.023407     -1.234763      0.014360  \n",
              "2        -0.019535      0.074369     -0.157523     -0.260493      0.338494  \n",
              "3         0.056661     -0.061510      0.176381      0.002696     -0.007272  \n",
              "4        -0.072707      0.019448     -0.155787      0.078128      0.179217  \n",
              "...            ...           ...           ...           ...           ...  \n",
              "1595      3.105451     -0.425978      1.289405      0.387524      1.206896  \n",
              "1596     -3.034489      0.413817     -1.205983      0.086704     -0.763830  \n",
              "1597      0.502898     -0.193400      0.110160     -0.372153     -0.516195  \n",
              "1598     -0.425134      0.006323     -0.264667     -0.054350     -0.382216  \n",
              "1599      0.343201     -0.089115      0.131236     -0.036829      0.444542  \n",
              "\n",
              "[1600 rows x 1501 columns]"
            ],
            "text/html": [
              "\n",
              "  <div id=\"df-03ca608b-54ac-409b-b1fe-26f99a81c315\">\n",
              "    <div class=\"colab-df-container\">\n",
              "      <div>\n",
              "<style scoped>\n",
              "    .dataframe tbody tr th:only-of-type {\n",
              "        vertical-align: middle;\n",
              "    }\n",
              "\n",
              "    .dataframe tbody tr th {\n",
              "        vertical-align: top;\n",
              "    }\n",
              "\n",
              "    .dataframe thead th {\n",
              "        text-align: right;\n",
              "    }\n",
              "</style>\n",
              "<table border=\"1\" class=\"dataframe\">\n",
              "  <thead>\n",
              "    <tr style=\"text-align: right;\">\n",
              "      <th></th>\n",
              "      <th>category</th>\n",
              "      <th>feature_0</th>\n",
              "      <th>feature_1</th>\n",
              "      <th>feature_2</th>\n",
              "      <th>feature_3</th>\n",
              "      <th>feature_4</th>\n",
              "      <th>feature_5</th>\n",
              "      <th>feature_6</th>\n",
              "      <th>feature_7</th>\n",
              "      <th>feature_8</th>\n",
              "      <th>...</th>\n",
              "      <th>feature_1490</th>\n",
              "      <th>feature_1491</th>\n",
              "      <th>feature_1492</th>\n",
              "      <th>feature_1493</th>\n",
              "      <th>feature_1494</th>\n",
              "      <th>feature_1495</th>\n",
              "      <th>feature_1496</th>\n",
              "      <th>feature_1497</th>\n",
              "      <th>feature_1498</th>\n",
              "      <th>feature_1499</th>\n",
              "    </tr>\n",
              "  </thead>\n",
              "  <tbody>\n",
              "    <tr>\n",
              "      <th>0</th>\n",
              "      <td>NeuralTextures</td>\n",
              "      <td>-32.093704</td>\n",
              "      <td>146.902530</td>\n",
              "      <td>-17.185703</td>\n",
              "      <td>145.078540</td>\n",
              "      <td>-63.500923</td>\n",
              "      <td>-105.487350</td>\n",
              "      <td>-11.982006</td>\n",
              "      <td>-90.380450</td>\n",
              "      <td>-140.270250</td>\n",
              "      <td>...</td>\n",
              "      <td>0.434148</td>\n",
              "      <td>0.261460</td>\n",
              "      <td>0.466725</td>\n",
              "      <td>0.011658</td>\n",
              "      <td>-0.250158</td>\n",
              "      <td>-0.144494</td>\n",
              "      <td>0.206021</td>\n",
              "      <td>-0.092880</td>\n",
              "      <td>0.568985</td>\n",
              "      <td>0.004353</td>\n",
              "    </tr>\n",
              "    <tr>\n",
              "      <th>1</th>\n",
              "      <td>NeuralTextures</td>\n",
              "      <td>-35.860138</td>\n",
              "      <td>144.555700</td>\n",
              "      <td>-18.497292</td>\n",
              "      <td>144.925540</td>\n",
              "      <td>-65.397354</td>\n",
              "      <td>-105.359440</td>\n",
              "      <td>-10.496799</td>\n",
              "      <td>-92.211815</td>\n",
              "      <td>-138.410110</td>\n",
              "      <td>...</td>\n",
              "      <td>-0.912738</td>\n",
              "      <td>-0.295983</td>\n",
              "      <td>-0.639621</td>\n",
              "      <td>0.177329</td>\n",
              "      <td>0.317876</td>\n",
              "      <td>0.365629</td>\n",
              "      <td>-0.490861</td>\n",
              "      <td>-0.023407</td>\n",
              "      <td>-1.234763</td>\n",
              "      <td>0.014360</td>\n",
              "    </tr>\n",
              "    <tr>\n",
              "      <th>2</th>\n",
              "      <td>NeuralTextures</td>\n",
              "      <td>298.745330</td>\n",
              "      <td>-61.443790</td>\n",
              "      <td>-207.530320</td>\n",
              "      <td>105.024630</td>\n",
              "      <td>-143.749080</td>\n",
              "      <td>-192.775770</td>\n",
              "      <td>197.092320</td>\n",
              "      <td>356.193540</td>\n",
              "      <td>102.496150</td>\n",
              "      <td>...</td>\n",
              "      <td>-0.056320</td>\n",
              "      <td>-0.098121</td>\n",
              "      <td>-0.340010</td>\n",
              "      <td>0.118510</td>\n",
              "      <td>0.069462</td>\n",
              "      <td>-0.019535</td>\n",
              "      <td>0.074369</td>\n",
              "      <td>-0.157523</td>\n",
              "      <td>-0.260493</td>\n",
              "      <td>0.338494</td>\n",
              "    </tr>\n",
              "    <tr>\n",
              "      <th>3</th>\n",
              "      <td>NeuralTextures</td>\n",
              "      <td>-44.937443</td>\n",
              "      <td>72.313560</td>\n",
              "      <td>119.494545</td>\n",
              "      <td>-27.042110</td>\n",
              "      <td>-9.954171</td>\n",
              "      <td>-98.384910</td>\n",
              "      <td>47.641968</td>\n",
              "      <td>-40.619480</td>\n",
              "      <td>110.178560</td>\n",
              "      <td>...</td>\n",
              "      <td>0.079021</td>\n",
              "      <td>0.022073</td>\n",
              "      <td>-0.000436</td>\n",
              "      <td>-0.012982</td>\n",
              "      <td>0.092203</td>\n",
              "      <td>0.056661</td>\n",
              "      <td>-0.061510</td>\n",
              "      <td>0.176381</td>\n",
              "      <td>0.002696</td>\n",
              "      <td>-0.007272</td>\n",
              "    </tr>\n",
              "    <tr>\n",
              "      <th>4</th>\n",
              "      <td>NeuralTextures</td>\n",
              "      <td>-45.384537</td>\n",
              "      <td>73.638760</td>\n",
              "      <td>115.877730</td>\n",
              "      <td>-25.753588</td>\n",
              "      <td>-11.652071</td>\n",
              "      <td>-96.958040</td>\n",
              "      <td>45.257343</td>\n",
              "      <td>-39.462980</td>\n",
              "      <td>109.793495</td>\n",
              "      <td>...</td>\n",
              "      <td>-0.130039</td>\n",
              "      <td>-0.281760</td>\n",
              "      <td>-0.009189</td>\n",
              "      <td>-0.104403</td>\n",
              "      <td>-0.219469</td>\n",
              "      <td>-0.072707</td>\n",
              "      <td>0.019448</td>\n",
              "      <td>-0.155787</td>\n",
              "      <td>0.078128</td>\n",
              "      <td>0.179217</td>\n",
              "    </tr>\n",
              "    <tr>\n",
              "      <th>...</th>\n",
              "      <td>...</td>\n",
              "      <td>...</td>\n",
              "      <td>...</td>\n",
              "      <td>...</td>\n",
              "      <td>...</td>\n",
              "      <td>...</td>\n",
              "      <td>...</td>\n",
              "      <td>...</td>\n",
              "      <td>...</td>\n",
              "      <td>...</td>\n",
              "      <td>...</td>\n",
              "      <td>...</td>\n",
              "      <td>...</td>\n",
              "      <td>...</td>\n",
              "      <td>...</td>\n",
              "      <td>...</td>\n",
              "      <td>...</td>\n",
              "      <td>...</td>\n",
              "      <td>...</td>\n",
              "      <td>...</td>\n",
              "      <td>...</td>\n",
              "    </tr>\n",
              "    <tr>\n",
              "      <th>1595</th>\n",
              "      <td>Deepfakes</td>\n",
              "      <td>-94.170420</td>\n",
              "      <td>-15.779587</td>\n",
              "      <td>-53.370056</td>\n",
              "      <td>-200.466720</td>\n",
              "      <td>-2.336628</td>\n",
              "      <td>16.896307</td>\n",
              "      <td>-8.254656</td>\n",
              "      <td>19.890854</td>\n",
              "      <td>-10.412720</td>\n",
              "      <td>...</td>\n",
              "      <td>-0.561939</td>\n",
              "      <td>-1.117823</td>\n",
              "      <td>-2.381083</td>\n",
              "      <td>-0.804908</td>\n",
              "      <td>0.322209</td>\n",
              "      <td>3.105451</td>\n",
              "      <td>-0.425978</td>\n",
              "      <td>1.289405</td>\n",
              "      <td>0.387524</td>\n",
              "      <td>1.206896</td>\n",
              "    </tr>\n",
              "    <tr>\n",
              "      <th>1596</th>\n",
              "      <td>Deepfakes</td>\n",
              "      <td>-93.088000</td>\n",
              "      <td>-18.265966</td>\n",
              "      <td>-50.431774</td>\n",
              "      <td>-201.737170</td>\n",
              "      <td>-1.154791</td>\n",
              "      <td>16.313220</td>\n",
              "      <td>-8.137126</td>\n",
              "      <td>18.626867</td>\n",
              "      <td>-8.200521</td>\n",
              "      <td>...</td>\n",
              "      <td>0.445529</td>\n",
              "      <td>1.226872</td>\n",
              "      <td>2.208652</td>\n",
              "      <td>0.827821</td>\n",
              "      <td>-0.177020</td>\n",
              "      <td>-3.034489</td>\n",
              "      <td>0.413817</td>\n",
              "      <td>-1.205983</td>\n",
              "      <td>0.086704</td>\n",
              "      <td>-0.763830</td>\n",
              "    </tr>\n",
              "    <tr>\n",
              "      <th>1597</th>\n",
              "      <td>Deepfakes</td>\n",
              "      <td>-94.228950</td>\n",
              "      <td>-17.622774</td>\n",
              "      <td>-51.374363</td>\n",
              "      <td>-201.379970</td>\n",
              "      <td>-4.702398</td>\n",
              "      <td>15.354007</td>\n",
              "      <td>-8.863097</td>\n",
              "      <td>18.517200</td>\n",
              "      <td>-9.760734</td>\n",
              "      <td>...</td>\n",
              "      <td>-0.276811</td>\n",
              "      <td>0.046149</td>\n",
              "      <td>-0.346713</td>\n",
              "      <td>-0.144246</td>\n",
              "      <td>-0.263702</td>\n",
              "      <td>0.502898</td>\n",
              "      <td>-0.193400</td>\n",
              "      <td>0.110160</td>\n",
              "      <td>-0.372153</td>\n",
              "      <td>-0.516195</td>\n",
              "    </tr>\n",
              "    <tr>\n",
              "      <th>1598</th>\n",
              "      <td>Deepfakes</td>\n",
              "      <td>-95.468580</td>\n",
              "      <td>-16.348152</td>\n",
              "      <td>-51.249672</td>\n",
              "      <td>-203.380660</td>\n",
              "      <td>-2.945286</td>\n",
              "      <td>15.727937</td>\n",
              "      <td>-7.390561</td>\n",
              "      <td>18.557844</td>\n",
              "      <td>-9.799802</td>\n",
              "      <td>...</td>\n",
              "      <td>0.164427</td>\n",
              "      <td>0.255737</td>\n",
              "      <td>0.296921</td>\n",
              "      <td>0.314879</td>\n",
              "      <td>0.319995</td>\n",
              "      <td>-0.425134</td>\n",
              "      <td>0.006323</td>\n",
              "      <td>-0.264667</td>\n",
              "      <td>-0.054350</td>\n",
              "      <td>-0.382216</td>\n",
              "    </tr>\n",
              "    <tr>\n",
              "      <th>1599</th>\n",
              "      <td>Deepfakes</td>\n",
              "      <td>-93.460014</td>\n",
              "      <td>-24.501696</td>\n",
              "      <td>-44.180050</td>\n",
              "      <td>-202.700640</td>\n",
              "      <td>-1.848380</td>\n",
              "      <td>13.943212</td>\n",
              "      <td>-7.606321</td>\n",
              "      <td>15.375290</td>\n",
              "      <td>-4.072270</td>\n",
              "      <td>...</td>\n",
              "      <td>-0.054523</td>\n",
              "      <td>-0.233894</td>\n",
              "      <td>-0.277587</td>\n",
              "      <td>-0.414206</td>\n",
              "      <td>-0.137615</td>\n",
              "      <td>0.343201</td>\n",
              "      <td>-0.089115</td>\n",
              "      <td>0.131236</td>\n",
              "      <td>-0.036829</td>\n",
              "      <td>0.444542</td>\n",
              "    </tr>\n",
              "  </tbody>\n",
              "</table>\n",
              "<p>1600 rows × 1501 columns</p>\n",
              "</div>\n",
              "      <button class=\"colab-df-convert\" onclick=\"convertToInteractive('df-03ca608b-54ac-409b-b1fe-26f99a81c315')\"\n",
              "              title=\"Convert this dataframe to an interactive table.\"\n",
              "              style=\"display:none;\">\n",
              "        \n",
              "  <svg xmlns=\"http://www.w3.org/2000/svg\" height=\"24px\"viewBox=\"0 0 24 24\"\n",
              "       width=\"24px\">\n",
              "    <path d=\"M0 0h24v24H0V0z\" fill=\"none\"/>\n",
              "    <path d=\"M18.56 5.44l.94 2.06.94-2.06 2.06-.94-2.06-.94-.94-2.06-.94 2.06-2.06.94zm-11 1L8.5 8.5l.94-2.06 2.06-.94-2.06-.94L8.5 2.5l-.94 2.06-2.06.94zm10 10l.94 2.06.94-2.06 2.06-.94-2.06-.94-.94-2.06-.94 2.06-2.06.94z\"/><path d=\"M17.41 7.96l-1.37-1.37c-.4-.4-.92-.59-1.43-.59-.52 0-1.04.2-1.43.59L10.3 9.45l-7.72 7.72c-.78.78-.78 2.05 0 2.83L4 21.41c.39.39.9.59 1.41.59.51 0 1.02-.2 1.41-.59l7.78-7.78 2.81-2.81c.8-.78.8-2.07 0-2.86zM5.41 20L4 18.59l7.72-7.72 1.47 1.35L5.41 20z\"/>\n",
              "  </svg>\n",
              "      </button>\n",
              "      \n",
              "  <style>\n",
              "    .colab-df-container {\n",
              "      display:flex;\n",
              "      flex-wrap:wrap;\n",
              "      gap: 12px;\n",
              "    }\n",
              "\n",
              "    .colab-df-convert {\n",
              "      background-color: #E8F0FE;\n",
              "      border: none;\n",
              "      border-radius: 50%;\n",
              "      cursor: pointer;\n",
              "      display: none;\n",
              "      fill: #1967D2;\n",
              "      height: 32px;\n",
              "      padding: 0 0 0 0;\n",
              "      width: 32px;\n",
              "    }\n",
              "\n",
              "    .colab-df-convert:hover {\n",
              "      background-color: #E2EBFA;\n",
              "      box-shadow: 0px 1px 2px rgba(60, 64, 67, 0.3), 0px 1px 3px 1px rgba(60, 64, 67, 0.15);\n",
              "      fill: #174EA6;\n",
              "    }\n",
              "\n",
              "    [theme=dark] .colab-df-convert {\n",
              "      background-color: #3B4455;\n",
              "      fill: #D2E3FC;\n",
              "    }\n",
              "\n",
              "    [theme=dark] .colab-df-convert:hover {\n",
              "      background-color: #434B5C;\n",
              "      box-shadow: 0px 1px 3px 1px rgba(0, 0, 0, 0.15);\n",
              "      filter: drop-shadow(0px 1px 2px rgba(0, 0, 0, 0.3));\n",
              "      fill: #FFFFFF;\n",
              "    }\n",
              "  </style>\n",
              "\n",
              "      <script>\n",
              "        const buttonEl =\n",
              "          document.querySelector('#df-03ca608b-54ac-409b-b1fe-26f99a81c315 button.colab-df-convert');\n",
              "        buttonEl.style.display =\n",
              "          google.colab.kernel.accessAllowed ? 'block' : 'none';\n",
              "\n",
              "        async function convertToInteractive(key) {\n",
              "          const element = document.querySelector('#df-03ca608b-54ac-409b-b1fe-26f99a81c315');\n",
              "          const dataTable =\n",
              "            await google.colab.kernel.invokeFunction('convertToInteractive',\n",
              "                                                     [key], {});\n",
              "          if (!dataTable) return;\n",
              "\n",
              "          const docLinkHtml = 'Like what you see? Visit the ' +\n",
              "            '<a target=\"_blank\" href=https://colab.research.google.com/notebooks/data_table.ipynb>data table notebook</a>'\n",
              "            + ' to learn more about interactive tables.';\n",
              "          element.innerHTML = '';\n",
              "          dataTable['output_type'] = 'display_data';\n",
              "          await google.colab.output.renderOutput(dataTable, element);\n",
              "          const docLink = document.createElement('div');\n",
              "          docLink.innerHTML = docLinkHtml;\n",
              "          element.appendChild(docLink);\n",
              "        }\n",
              "      </script>\n",
              "    </div>\n",
              "  </div>\n",
              "  "
            ]
          },
          "metadata": {},
          "execution_count": 24
        }
      ]
    },
    {
      "cell_type": "markdown",
      "source": [
        "Split the dataset into training set and test set."
      ],
      "metadata": {
        "id": "w31ArOsShIzh"
      }
    },
    {
      "cell_type": "code",
      "source": [
        "X_train, X_test, y_train, y_test = model_selection.train_test_split(X, y, train_size=0.80, test_size=0.20, random_state=101)"
      ],
      "metadata": {
        "id": "LvOL2n5RiG-I"
      },
      "execution_count": 25,
      "outputs": []
    },
    {
      "cell_type": "markdown",
      "source": [
        "Initialise the 5-Fold Cross Validation"
      ],
      "metadata": {
        "id": "BGJIU29O5xmy"
      }
    },
    {
      "cell_type": "code",
      "source": [
        "kf = KFold(n_splits=5, shuffle=True, random_state=42)"
      ],
      "metadata": {
        "id": "k4Ia8Mlw5u-U"
      },
      "execution_count": 26,
      "outputs": []
    },
    {
      "cell_type": "markdown",
      "source": [
        "# Support Vector Machine"
      ],
      "metadata": {
        "id": "f6j7OOXnuARw"
      }
    },
    {
      "cell_type": "markdown",
      "source": [
        "Predict on Test Set."
      ],
      "metadata": {
        "id": "1TxTYVEYjaOm"
      }
    },
    {
      "cell_type": "code",
      "source": [
        "poly_accuracy, rbf_accuracy = 0, 0\n",
        "\n",
        "for train_index, test_index in kf.split(X):\n",
        "    \n",
        "    X_train, X_test = X[train_index], X[test_index]\n",
        "    y_train, y_test = y[train_index], y[test_index]\n",
        "\n",
        "    poly = svm.SVC(kernel='poly', degree=10, C=1).fit(X_train, y_train)\n",
        "    rbf = svm.SVC(kernel='rbf', gamma=1, C=1).fit(X_train, y_train)\n",
        "    \n",
        "    poly_pred = poly.predict(X_test)\n",
        "    rbf_pred = rbf.predict(X_test)\n",
        "    \n",
        "    poly_accuracy += accuracy_score(y_test, poly_pred)\n",
        "    rbf_accuracy += accuracy_score(y_test, rbf_pred)\n"
      ],
      "metadata": {
        "id": "_wK3I_rSjhYT"
      },
      "execution_count": 27,
      "outputs": []
    },
    {
      "cell_type": "markdown",
      "source": [
        "Outcomes."
      ],
      "metadata": {
        "id": "rzXS3KwJjwIv"
      }
    },
    {
      "cell_type": "code",
      "source": [
        "print('Accuracy (Polynomial Kernel): ', \"%.2f\" % (poly_accuracy/5*100) + \" %\")\n",
        "print('Accuracy (RBF Kernel): ', \"%.2f\" % (rbf_accuracy/5*100) + \" %\")\n",
        "\n",
        "poly_f1 = f1_score(y_test, poly_pred, average='weighted')\n",
        "print('F1 score (Polynomial Kernel): ', \"%.2f\" % (poly_f1*100))\n",
        "rbf_f1 = f1_score(y_test, rbf_pred, average='weighted')\n",
        "print('F1 score (RBF Kernel): ', \"%.2f\" % (rbf_f1*100))\n",
        "\n",
        "print('Confusion Matrix (Polynomial Kernel): \\n', confusion_matrix(y_test, poly_pred))\n",
        "print('Confusion Matrix (RBF Kernel): \\n',confusion_matrix(y_test, rbf_pred))"
      ],
      "metadata": {
        "colab": {
          "base_uri": "https://localhost:8080/"
        },
        "id": "wnTZnTApj0FW",
        "outputId": "af08a9f6-30c6-47db-a2ea-41c47ece7cca"
      },
      "execution_count": 28,
      "outputs": [
        {
          "output_type": "stream",
          "name": "stdout",
          "text": [
            "Accuracy (Polynomial Kernel):  66.29 %\n",
            "Accuracy (RBF Kernel):  22.08 %\n",
            "F1 score (Polynomial Kernel):  64.70\n",
            "F1 score (RBF Kernel):  8.10\n",
            "Confusion Matrix (Polynomial Kernel): \n",
            " [[63  0 25  4]\n",
            " [ 2 33  2 42]\n",
            " [ 8  1 60  8]\n",
            " [ 5 10  5 51]]\n",
            "Confusion Matrix (RBF Kernel): \n",
            " [[ 0  0  0 92]\n",
            " [ 0  0  0 79]\n",
            " [ 0  0  0 77]\n",
            " [ 0  0  0 71]]\n"
          ]
        }
      ]
    },
    {
      "cell_type": "markdown",
      "source": [
        "# Random Forest"
      ],
      "metadata": {
        "id": "KsshkBd9uLqq"
      }
    },
    {
      "cell_type": "markdown",
      "source": [
        "Importing Libraries"
      ],
      "metadata": {
        "id": "JCDYD_Hmxe12"
      }
    },
    {
      "cell_type": "code",
      "source": [
        "from sklearn.preprocessing import StandardScaler\n",
        "from sklearn.ensemble import RandomForestClassifier"
      ],
      "metadata": {
        "id": "AjXH9ejvuOOf"
      },
      "execution_count": 29,
      "outputs": []
    },
    {
      "cell_type": "markdown",
      "source": [
        "Define the Classifier"
      ],
      "metadata": {
        "id": "N-vmH0Srxpj6"
      }
    },
    {
      "cell_type": "code",
      "source": [
        "classifier = RandomForestClassifier(n_estimators = 500, criterion = 'entropy', random_state = 42)"
      ],
      "metadata": {
        "id": "yWcUPtVAxibU"
      },
      "execution_count": 30,
      "outputs": []
    },
    {
      "cell_type": "markdown",
      "source": [
        "Predicting Test Set Results"
      ],
      "metadata": {
        "id": "_POan3ZCx16f"
      }
    },
    {
      "cell_type": "code",
      "source": [
        "rf_accuracy = 0\n",
        "\n",
        "for train_index, test_index in kf.split(X):\n",
        "    \n",
        "    X_train, X_test = X[train_index], X[test_index]\n",
        "    y_train, y_test = y[train_index], y[test_index]\n",
        "\n",
        "    classifier.fit(X_train, y_train)\n",
        "    \n",
        "    y_pred = classifier.predict(X_test)\n",
        "    \n",
        "    rf_accuracy += accuracy_score(y_test, y_pred)\n",
        "    "
      ],
      "metadata": {
        "id": "6Vfd8moExs3O"
      },
      "execution_count": 31,
      "outputs": []
    },
    {
      "cell_type": "markdown",
      "source": [
        "Outcomes"
      ],
      "metadata": {
        "id": "JHB5IQutyDqV"
      }
    },
    {
      "cell_type": "code",
      "source": [
        "rf_f1 = f1_score(y_test, y_pred, average='weighted')\n",
        "print('Accuracy (Random Forest): ', \"%.2f\" % (rf_accuracy/5*100) + \" %\")\n",
        "print('F1 (Random Forest): ', \"%.2f\" % (rf_f1*100))\n",
        "print(\"Confustion Matrix (Random Forest):\\n\", confusion_matrix(y_test, y_pred))"
      ],
      "metadata": {
        "colab": {
          "base_uri": "https://localhost:8080/"
        },
        "id": "HQjjjiGcyCzk",
        "outputId": "149351bf-94a7-4c16-cb5e-c9fc757c790d"
      },
      "execution_count": 32,
      "outputs": [
        {
          "output_type": "stream",
          "name": "stdout",
          "text": [
            "Accuracy (Random Forest):  83.62 %\n",
            "F1 (Random Forest):  86.24\n",
            "Confustion Matrix (Random Forest):\n",
            " [[77  4 11  0]\n",
            " [ 0 63  4 12]\n",
            " [ 3  2 71  1]\n",
            " [ 0  5  2 64]]\n"
          ]
        }
      ]
    },
    {
      "cell_type": "markdown",
      "source": [
        "# Decision Tree"
      ],
      "metadata": {
        "id": "o8OUpDOXi738"
      }
    },
    {
      "cell_type": "markdown",
      "source": [
        "Importing Libraries"
      ],
      "metadata": {
        "id": "ph4Mhd59i739"
      }
    },
    {
      "cell_type": "code",
      "source": [
        "from sklearn.tree import DecisionTreeClassifier"
      ],
      "metadata": {
        "id": "olQRMv3hi739"
      },
      "execution_count": 33,
      "outputs": []
    },
    {
      "cell_type": "markdown",
      "source": [
        "Define the Classifier"
      ],
      "metadata": {
        "id": "hrF8fHaqi739"
      }
    },
    {
      "cell_type": "code",
      "source": [
        "clf = DecisionTreeClassifier()"
      ],
      "metadata": {
        "id": "e40I6Ejhi739"
      },
      "execution_count": 34,
      "outputs": []
    },
    {
      "cell_type": "markdown",
      "source": [
        "Predicting Test Set Results"
      ],
      "metadata": {
        "id": "YYJqVEiei73-"
      }
    },
    {
      "cell_type": "code",
      "source": [
        "dt_accuracy = 0\n",
        "\n",
        "for train_index, test_index in kf.split(X):\n",
        "    \n",
        "    X_train, X_test = X[train_index], X[test_index]\n",
        "    y_train, y_test = y[train_index], y[test_index]\n",
        "\n",
        "    clf.fit(X_train, y_train)\n",
        "    \n",
        "    y_pred = clf.predict(X_test)\n",
        "    \n",
        "    dt_accuracy += accuracy_score(y_test, y_pred)"
      ],
      "metadata": {
        "id": "5ig7XkW2i73-"
      },
      "execution_count": 35,
      "outputs": []
    },
    {
      "cell_type": "markdown",
      "source": [
        "Outcomes"
      ],
      "metadata": {
        "id": "SUt8ABj5i73-"
      }
    },
    {
      "cell_type": "code",
      "source": [
        "dt_f1 = f1_score(y_test, y_pred, average='weighted')\n",
        "print('Accuracy (Decision Tree): ', \"%.2f\" % (dt_accuracy/5*100) + \" %\")\n",
        "print('F1 (Decision Tree): ', \"%.2f\" % (dt_f1*100))\n",
        "print(\"Confustion Matrix (Decision Tree):\\n\", confusion_matrix(y_test, y_pred))"
      ],
      "metadata": {
        "colab": {
          "base_uri": "https://localhost:8080/"
        },
        "outputId": "402fcbd1-f98c-4040-d7e8-65842639ab5d",
        "id": "7d9MSKEEi73-"
      },
      "execution_count": 36,
      "outputs": [
        {
          "output_type": "stream",
          "name": "stdout",
          "text": [
            "Accuracy (Decision Tree):  58.72 %\n",
            "F1 (Decision Tree):  59.88\n",
            "Confustion Matrix (Decision Tree):\n",
            " [[59  8 20  5]\n",
            " [ 9 48  6 16]\n",
            " [13  5 48 11]\n",
            " [ 6 22  7 36]]\n"
          ]
        }
      ]
    },
    {
      "cell_type": "markdown",
      "source": [
        "# MultiClass Logistic Regression"
      ],
      "metadata": {
        "id": "e_7HkvXy4Uvd"
      }
    },
    {
      "cell_type": "markdown",
      "source": [
        "Import Libraries"
      ],
      "metadata": {
        "id": "UCA6d_MO4bkB"
      }
    },
    {
      "cell_type": "code",
      "source": [
        "from sklearn.linear_model import LogisticRegression"
      ],
      "metadata": {
        "id": "FIBCDHG54Zld"
      },
      "execution_count": 37,
      "outputs": []
    },
    {
      "cell_type": "markdown",
      "source": [
        "Define Classifier."
      ],
      "metadata": {
        "id": "wUlINgaj4kjv"
      }
    },
    {
      "cell_type": "code",
      "source": [
        "classifier = LogisticRegression(multi_class='auto', solver='sag')"
      ],
      "metadata": {
        "id": "8_WxvViT4jia"
      },
      "execution_count": 38,
      "outputs": []
    },
    {
      "cell_type": "markdown",
      "source": [
        "\n",
        "Predicting Test Set Results."
      ],
      "metadata": {
        "id": "VYF55C1M4yrz"
      }
    },
    {
      "cell_type": "code",
      "source": [
        "lr_accuracy = 0\n",
        "\n",
        "for train_index, test_index in kf.split(X):\n",
        "    \n",
        "    X_train, X_test = X[train_index], X[test_index]\n",
        "    y_train, y_test = y[train_index], y[test_index]\n",
        "\n",
        "    classifier.fit(X_train, y_train)\n",
        "    \n",
        "    y_pred = classifier.predict(X_test)\n",
        "    \n",
        "    lr_accuracy += accuracy_score(y_test, y_pred)\n"
      ],
      "metadata": {
        "id": "sTpD5Y-54sam",
        "colab": {
          "base_uri": "https://localhost:8080/"
        },
        "outputId": "deeeb3f1-6b1c-4193-83e5-e7442b628b95"
      },
      "execution_count": 39,
      "outputs": [
        {
          "output_type": "stream",
          "name": "stderr",
          "text": [
            "/usr/local/lib/python3.8/dist-packages/sklearn/linear_model/_sag.py:352: ConvergenceWarning: The max_iter was reached which means the coef_ did not converge\n",
            "  warnings.warn(\n",
            "/usr/local/lib/python3.8/dist-packages/sklearn/linear_model/_sag.py:352: ConvergenceWarning: The max_iter was reached which means the coef_ did not converge\n",
            "  warnings.warn(\n",
            "/usr/local/lib/python3.8/dist-packages/sklearn/linear_model/_sag.py:352: ConvergenceWarning: The max_iter was reached which means the coef_ did not converge\n",
            "  warnings.warn(\n",
            "/usr/local/lib/python3.8/dist-packages/sklearn/linear_model/_sag.py:352: ConvergenceWarning: The max_iter was reached which means the coef_ did not converge\n",
            "  warnings.warn(\n",
            "/usr/local/lib/python3.8/dist-packages/sklearn/linear_model/_sag.py:352: ConvergenceWarning: The max_iter was reached which means the coef_ did not converge\n",
            "  warnings.warn(\n"
          ]
        }
      ]
    },
    {
      "cell_type": "markdown",
      "source": [
        "Outcomes"
      ],
      "metadata": {
        "id": "MRQ-XRm05Hgy"
      }
    },
    {
      "cell_type": "code",
      "source": [
        "lr_f1 = f1_score(y_test, y_pred, average='weighted')\n",
        "print('Accuracy (Logistic Regression): ', \"%.2f\" % (lr_accuracy/5*100) + \" %\")\n",
        "print('F1 (Logistic Regression): ', \"%.2f\" % (lr_f1*100))\n",
        "print(\"Confusion Matrix (Logistic Regression):\\n\", confusion_matrix(y_test, y_pred))"
      ],
      "metadata": {
        "colab": {
          "base_uri": "https://localhost:8080/"
        },
        "id": "KND_p0Vt45nM",
        "outputId": "f45c217b-33a0-4a8d-ffcf-c1018853d320"
      },
      "execution_count": 40,
      "outputs": [
        {
          "output_type": "stream",
          "name": "stdout",
          "text": [
            "Accuracy (Logistic Regression):  94.93 %\n",
            "F1 (Logistic Regression):  93.73\n",
            "Confusion Matrix (Logistic Regression):\n",
            " [[89  0  2  1]\n",
            " [ 1 71  0  7]\n",
            " [ 2  0 75  0]\n",
            " [ 0  7  0 64]]\n"
          ]
        }
      ]
    },
    {
      "cell_type": "markdown",
      "source": [
        "# KNN"
      ],
      "metadata": {
        "id": "GbukmnXKhLdd"
      }
    },
    {
      "cell_type": "markdown",
      "source": [
        "Importing Libraries"
      ],
      "metadata": {
        "id": "h86SS70ahWVM"
      }
    },
    {
      "cell_type": "code",
      "source": [
        "from sklearn.neighbors import KNeighborsClassifier"
      ],
      "metadata": {
        "id": "Z569Y7gqhhAZ"
      },
      "execution_count": 41,
      "outputs": []
    },
    {
      "cell_type": "markdown",
      "source": [
        "Define the Classifier"
      ],
      "metadata": {
        "id": "r4y7MRgShWVM"
      }
    },
    {
      "cell_type": "code",
      "source": [
        "knn = KNeighborsClassifier(n_neighbors=5)"
      ],
      "metadata": {
        "id": "V4zmKZd9hmTV"
      },
      "execution_count": 42,
      "outputs": []
    },
    {
      "cell_type": "markdown",
      "source": [
        "Predicting Test Set Results"
      ],
      "metadata": {
        "id": "n4PFLh--hWVN"
      }
    },
    {
      "cell_type": "code",
      "source": [
        "knn_accuracy = 0\n",
        "\n",
        "for train_index, test_index in kf.split(X):\n",
        "    \n",
        "    X_train, X_test = X[train_index], X[test_index]\n",
        "    y_train, y_test = y[train_index], y[test_index]\n",
        "\n",
        "    knn.fit(X_train, y_train)\n",
        "    \n",
        "    y_pred = knn.predict(X_test)\n",
        "    \n",
        "    knn_accuracy += accuracy_score(y_test, y_pred)"
      ],
      "metadata": {
        "id": "WrzAI0ZOhqj_"
      },
      "execution_count": 43,
      "outputs": []
    },
    {
      "cell_type": "markdown",
      "source": [
        "Outcomes"
      ],
      "metadata": {
        "id": "ePgDseAEhWVN"
      }
    },
    {
      "cell_type": "code",
      "source": [
        "knn_f1 = f1_score(y_test, y_pred, average='weighted')\n",
        "print('Accuracy (KNN): ', \"%.2f\" % (knn_accuracy/5*100) + \" %\")\n",
        "print('F1 (KNN): ', \"%.2f\" % (knn_f1*100))\n",
        "print(\"Confustion Matrix (KNN):\\n\", confusion_matrix(y_test, y_pred))"
      ],
      "metadata": {
        "colab": {
          "base_uri": "https://localhost:8080/"
        },
        "id": "ltG6IZWGiLAO",
        "outputId": "7641a2c4-81f0-4049-e792-f2133d5284a8"
      },
      "execution_count": 44,
      "outputs": [
        {
          "output_type": "stream",
          "name": "stdout",
          "text": [
            "Accuracy (KNN):  76.30 %\n",
            "F1 (KNN):  76.89\n",
            "Confustion Matrix (KNN):\n",
            " [[82  3  7  0]\n",
            " [ 4 51  3 21]\n",
            " [12  2 62  1]\n",
            " [ 4 12  4 51]]\n"
          ]
        }
      ]
    }
  ]
}