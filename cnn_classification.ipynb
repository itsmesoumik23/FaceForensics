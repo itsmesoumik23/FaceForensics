{
  "nbformat": 4,
  "nbformat_minor": 0,
  "metadata": {
    "colab": {
      "provenance": []
    },
    "kernelspec": {
      "name": "python3",
      "display_name": "Python 3"
    },
    "language_info": {
      "name": "python"
    }
  },
  "cells": [
    {
      "cell_type": "markdown",
      "source": [
        "Importing Libraries"
      ],
      "metadata": {
        "id": "amnORCnc5na_"
      }
    },
    {
      "cell_type": "code",
      "source": [
        "from sklearn import svm, datasets\n",
        "import sklearn.model_selection as model_selection\n",
        "from sklearn.metrics import accuracy_score\n",
        "from sklearn.metrics import f1_score\n",
        "from sklearn.metrics import confusion_matrix\n",
        "from sklearn import preprocessing\n",
        "import numpy as np\n",
        "import pandas as pd"
      ],
      "metadata": {
        "id": "43rU1SRM_6gb"
      },
      "execution_count": null,
      "outputs": []
    },
    {
      "cell_type": "markdown",
      "source": [
        "Loading the dataset"
      ],
      "metadata": {
        "id": "eGL46c_z5ucv"
      }
    },
    {
      "cell_type": "code",
      "source": [
        "dataset = pd.read_csv('./Features_cnn.csv')\n",
        "X = dataset.iloc[ : , 2 : ].values\n",
        "y = dataset.iloc[ : , 0 ].values\n",
        "print(X)\n",
        "print(y)\n"
      ],
      "metadata": {
        "id": "adfGw1nT9dg4"
      },
      "execution_count": null,
      "outputs": []
    },
    {
      "cell_type": "markdown",
      "source": [
        "Feature scaling of the dataset"
      ],
      "metadata": {
        "id": "FFrHkaTI5xWv"
      }
    },
    {
      "cell_type": "code",
      "source": [
        "\n",
        "min_max_scaler = preprocessing.MinMaxScaler(feature_range =(0, 1))\n",
        "X = min_max_scaler.fit_transform(X)\n",
        "print (\"\\nAfter min max Scaling : \\n\",X)\n"
      ],
      "metadata": {
        "id": "FfYKhZzj9e4O"
      },
      "execution_count": null,
      "outputs": []
    },
    {
      "cell_type": "markdown",
      "source": [
        "Train test split"
      ],
      "metadata": {
        "id": "0btc08qQ54aP"
      }
    },
    {
      "cell_type": "code",
      "source": [
        "X_train, X_test, y_train, y_test = model_selection.train_test_split(X, y, train_size=0.80, test_size=0.20, random_state=101)"
      ],
      "metadata": {
        "id": "BIIoNcUq9hVv"
      },
      "execution_count": null,
      "outputs": []
    },
    {
      "cell_type": "markdown",
      "source": [
        "Training RBF and Polynomial SVM kernels"
      ],
      "metadata": {
        "id": "xUiMPBZM58Pn"
      }
    },
    {
      "cell_type": "code",
      "source": [
        "rbf = svm.SVC(kernel='rbf', gamma=.1, C=10).fit(X_train, y_train)\n",
        "poly = svm.SVC(kernel='poly', degree=8, C=10).fit(X_train, y_train)\n",
        "\n",
        "poly_pred = poly.predict(X_test)\n",
        "rbf_pred = rbf.predict(X_test)"
      ],
      "metadata": {
        "id": "UqBPHu2P9iFn"
      },
      "execution_count": null,
      "outputs": []
    },
    {
      "cell_type": "code",
      "source": [
        "poly_accuracy = accuracy_score(y_test, poly_pred)\n",
        "poly_f1 = f1_score(y_test, poly_pred, average='weighted')\n",
        "print('Accuracy (Polynomial Kernel): ', \"%.2f\" % (poly_accuracy*100))\n",
        "print('F1 (Polynomial Kernel): ', \"%.2f\" % (poly_f1*100))\n",
        "print(confusion_matrix(y_test, poly_pred))"
      ],
      "metadata": {
        "colab": {
          "base_uri": "https://localhost:8080/"
        },
        "id": "D_wwRULZ9lhI",
        "outputId": "fbe0b333-cb75-4bcf-bff3-e7c38a78fb5f"
      },
      "execution_count": null,
      "outputs": [
        {
          "output_type": "stream",
          "name": "stdout",
          "text": [
            "Accuracy (Polynomial Kernel):  98.75\n",
            "F1 (Polynomial Kernel):  98.75\n",
            "[[74  0  0  0]\n",
            " [ 0 86  0  2]\n",
            " [ 0  0 80  0]\n",
            " [ 0  2  0 76]]\n"
          ]
        }
      ]
    },
    {
      "cell_type": "code",
      "source": [
        "rbf_accuracy = accuracy_score(y_test, rbf_pred)\n",
        "rbf_f1 = f1_score(y_test, rbf_pred, average='weighted')\n",
        "print('Accuracy (RBF Kernel): ', \"%.2f\" % (rbf_accuracy*100))\n",
        "print('F1 (RBF Kernel): ', \"%.2f\" % (rbf_f1*100))\n",
        "print(confusion_matrix(y_test, rbf_pred))"
      ],
      "metadata": {
        "colab": {
          "base_uri": "https://localhost:8080/"
        },
        "id": "vrFRYSX59oFv",
        "outputId": "36adcf53-10fc-4cb5-9a34-44aa129045ab"
      },
      "execution_count": null,
      "outputs": [
        {
          "output_type": "stream",
          "name": "stdout",
          "text": [
            "Accuracy (RBF Kernel):  93.75\n",
            "F1 (RBF Kernel):  93.74\n",
            "[[70  0  4  0]\n",
            " [ 0 77  2  9]\n",
            " [ 0  0 80  0]\n",
            " [ 0  4  1 73]]\n"
          ]
        }
      ]
    },
    {
      "cell_type": "markdown",
      "source": [
        "Random Forest classsifier"
      ],
      "metadata": {
        "id": "NmD00bI46B5g"
      }
    },
    {
      "cell_type": "code",
      "source": [
        "from sklearn.preprocessing import StandardScaler\n",
        "from sklearn.ensemble import RandomForestClassifier"
      ],
      "metadata": {
        "id": "SlEei47RCRtl"
      },
      "execution_count": null,
      "outputs": []
    },
    {
      "cell_type": "code",
      "source": [
        "classifier = RandomForestClassifier(n_estimators = 1000, criterion = 'entropy', random_state = 42)\n",
        "classifier.fit(X_train, y_train)"
      ],
      "metadata": {
        "colab": {
          "base_uri": "https://localhost:8080/"
        },
        "id": "vm7v0hRkCbhW",
        "outputId": "077c08d6-9191-4d91-ae8b-637890d65705"
      },
      "execution_count": null,
      "outputs": [
        {
          "output_type": "execute_result",
          "data": {
            "text/plain": [
              "RandomForestClassifier(criterion='entropy', n_estimators=800, random_state=42)"
            ]
          },
          "metadata": {},
          "execution_count": 33
        }
      ]
    },
    {
      "cell_type": "code",
      "source": [
        "y_pred = classifier.predict(X_test)"
      ],
      "metadata": {
        "id": "VWLIE85lCcw2"
      },
      "execution_count": null,
      "outputs": []
    },
    {
      "cell_type": "code",
      "source": [
        "rf_accuracy = accuracy_score(y_test, y_pred)\n",
        "rf_f1 = f1_score(y_test, y_pred, average='weighted')\n",
        "print('Accuracy (Random Forest): ', \"%.2f\" % (rf_accuracy*100))\n",
        "print('F1 (Random Forest): ', \"%.2f\" % (rf_f1*100))\n",
        "print(confusion_matrix(y_test, y_pred))"
      ],
      "metadata": {
        "colab": {
          "base_uri": "https://localhost:8080/"
        },
        "id": "MlKGEQ4-CgYn",
        "outputId": "ffd17841-b71d-46f6-ef20-b56817cff99e"
      },
      "execution_count": null,
      "outputs": [
        {
          "output_type": "stream",
          "name": "stdout",
          "text": [
            "Accuracy (Random Forest):  98.75\n",
            "F1 (Random Forest):  98.75\n",
            "[[73  0  1  0]\n",
            " [ 0 85  0  3]\n",
            " [ 0  0 80  0]\n",
            " [ 0  0  0 78]]\n"
          ]
        }
      ]
    },
    {
      "cell_type": "markdown",
      "source": [
        "MultiClass Logistic Regression "
      ],
      "metadata": {
        "id": "VLXhb8xZ6EQR"
      }
    },
    {
      "cell_type": "code",
      "source": [
        "from sklearn.linear_model import LogisticRegression"
      ],
      "metadata": {
        "id": "ORuNKSM9FiD7"
      },
      "execution_count": null,
      "outputs": []
    },
    {
      "cell_type": "code",
      "source": [
        "classifier = LogisticRegression(multi_class='auto', solver='sag')\n",
        "classifier.fit(X_train, y_train)"
      ],
      "metadata": {
        "colab": {
          "base_uri": "https://localhost:8080/"
        },
        "id": "fY-TeUO5Fjra",
        "outputId": "816b1195-860a-42a3-af80-78f0bbfb71a1"
      },
      "execution_count": null,
      "outputs": [
        {
          "output_type": "stream",
          "name": "stderr",
          "text": [
            "/usr/local/lib/python3.8/dist-packages/sklearn/linear_model/_sag.py:352: ConvergenceWarning: The max_iter was reached which means the coef_ did not converge\n",
            "  warnings.warn(\n"
          ]
        },
        {
          "output_type": "execute_result",
          "data": {
            "text/plain": [
              "LogisticRegression(solver='sag')"
            ]
          },
          "metadata": {},
          "execution_count": 37
        }
      ]
    },
    {
      "cell_type": "code",
      "source": [
        "y_pred = classifier.predict(X_test)"
      ],
      "metadata": {
        "id": "4M5WRLN-FliS"
      },
      "execution_count": null,
      "outputs": []
    },
    {
      "cell_type": "code",
      "source": [
        "lr_accuracy = accuracy_score(y_test, y_pred)\n",
        "lr_f1 = f1_score(y_test, y_pred, average='weighted')\n",
        "print('Accuracy (Logistic Regression): ', \"%.2f\" % (lr_accuracy*100))\n",
        "print('F1 (Logistic Regression): ', \"%.2f\" % (lr_f1*100))\n",
        "print(confusion_matrix(y_test, y_pred))"
      ],
      "metadata": {
        "colab": {
          "base_uri": "https://localhost:8080/"
        },
        "id": "ExTk_F8GFm0T",
        "outputId": "744dcfd0-a196-4dd0-b0a4-9741013c2203"
      },
      "execution_count": null,
      "outputs": [
        {
          "output_type": "stream",
          "name": "stdout",
          "text": [
            "Accuracy (Logistic Regression):  99.38\n",
            "F1 (Logistic Regression):  99.38\n",
            "[[73  0  1  0]\n",
            " [ 0 87  0  1]\n",
            " [ 0  0 80  0]\n",
            " [ 0  0  0 78]]\n"
          ]
        }
      ]
    }
  ]
}